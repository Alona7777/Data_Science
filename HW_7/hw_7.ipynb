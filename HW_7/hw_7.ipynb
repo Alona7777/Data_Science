{
 "cells": [
  {
   "cell_type": "code",
   "execution_count": 4,
   "metadata": {},
   "outputs": [],
   "source": [
    "from surprise import accuracy, Dataset, Reader, SVD, SVDpp, NMF\n",
    "from surprise.model_selection import train_test_split\n",
    "from surprise.model_selection import cross_validate\n",
    "import pandas as pd\n",
    "\n",
    "\n"
   ]
  },
  {
   "cell_type": "code",
   "execution_count": 3,
   "metadata": {},
   "outputs": [],
   "source": [
    "# Load the movielens-100k dataset (download it if needed),\n",
    "data = Dataset.load_builtin(\"ml-100k\")"
   ]
  },
  {
   "cell_type": "code",
   "execution_count": 5,
   "metadata": {},
   "outputs": [],
   "source": [
    "# sample random trainset and testset\n",
    "# test set is made of 25% of the ratings.\n",
    "trainset, testset = train_test_split(data, test_size=0.25)"
   ]
  },
  {
   "cell_type": "markdown",
   "metadata": {},
   "source": [
    "# SVD algorithm"
   ]
  },
  {
   "cell_type": "code",
   "execution_count": 6,
   "metadata": {},
   "outputs": [
    {
     "name": "stdout",
     "output_type": "stream",
     "text": [
      "Evaluating RMSE, MAE of algorithm SVD on 5 split(s).\n",
      "\n",
      "                  Fold 1  Fold 2  Fold 3  Fold 4  Fold 5  Mean    Std     \n",
      "RMSE (testset)    0.9342  0.9407  0.9331  0.9373  0.9395  0.9370  0.0029  \n",
      "MAE (testset)     0.7374  0.7405  0.7362  0.7370  0.7421  0.7386  0.0023  \n",
      "Fit time          1.57    1.69    1.54    1.55    1.55    1.58    0.06    \n",
      "Test time         0.18    0.18    0.30    0.20    0.23    0.22    0.05    \n"
     ]
    }
   ],
   "source": [
    "# We'll use the famous SVD algorithm.\n",
    "algo = SVD()\n",
    "\n",
    "# Run 5-fold cross-validation and print results\n",
    "SVD_result = cross_validate(algo, data, measures=[\"RMSE\", \"MAE\"], cv=5, verbose=True)\n",
    "SVD_result = pd.DataFrame.from_dict(SVD_result).mean(axis=0)"
   ]
  },
  {
   "cell_type": "code",
   "execution_count": 7,
   "metadata": {},
   "outputs": [
    {
     "name": "stdout",
     "output_type": "stream",
     "text": [
      "RMSE: 0.9436\n"
     ]
    }
   ],
   "source": [
    "# Train the algorithm on the trainset, and predict ratings for the testset\n",
    "algo.fit(trainset)\n",
    "predictions = algo.test(testset)\n",
    "\n",
    "# Then compute RMSE\n",
    "SVD_rmse = accuracy.rmse(predictions)"
   ]
  },
  {
   "cell_type": "markdown",
   "metadata": {},
   "source": [
    "# SVD++ algorithm"
   ]
  },
  {
   "cell_type": "code",
   "execution_count": 8,
   "metadata": {},
   "outputs": [
    {
     "name": "stdout",
     "output_type": "stream",
     "text": [
      "Evaluating RMSE, MAE of algorithm SVDpp on 5 split(s).\n",
      "\n",
      "                  Fold 1  Fold 2  Fold 3  Fold 4  Fold 5  Mean    Std     \n",
      "RMSE (testset)    0.9229  0.9244  0.9218  0.9133  0.9185  0.9202  0.0040  \n",
      "MAE (testset)     0.7224  0.7251  0.7228  0.7185  0.7214  0.7221  0.0021  \n",
      "Fit time          10.26   9.78    9.17    9.18    9.08    9.49    0.46    \n",
      "Test time         3.56    3.22    3.17    3.38    3.20    3.31    0.15    \n"
     ]
    }
   ],
   "source": [
    "# We'll use the famous SVD++ algorithm.\n",
    "algo_pp = SVDpp()\n",
    "\n",
    "# Run 5-fold cross-validation and print results\n",
    "SVDpp_result = cross_validate(algo_pp, data, measures=[\"RMSE\", \"MAE\"], cv=5, verbose=True)\n",
    "SVDpp_result = pd.DataFrame.from_dict(SVDpp_result).mean(axis=0)"
   ]
  },
  {
   "cell_type": "code",
   "execution_count": 9,
   "metadata": {},
   "outputs": [
    {
     "name": "stdout",
     "output_type": "stream",
     "text": [
      "RMSE: 0.9274\n"
     ]
    }
   ],
   "source": [
    "algo_pp.fit(trainset)\n",
    "predictions_pp = algo_pp.test(testset)\n",
    "\n",
    "# Then compute RMSE\n",
    "SVD_pp_rmse = accuracy.rmse(predictions_pp)"
   ]
  },
  {
   "cell_type": "markdown",
   "metadata": {},
   "source": [
    "# NMF algorithm"
   ]
  },
  {
   "cell_type": "code",
   "execution_count": 10,
   "metadata": {},
   "outputs": [
    {
     "name": "stdout",
     "output_type": "stream",
     "text": [
      "Evaluating RMSE, MAE of algorithm NMF on 5 split(s).\n",
      "\n",
      "                  Fold 1  Fold 2  Fold 3  Fold 4  Fold 5  Mean    Std     \n",
      "RMSE (testset)    0.9629  0.9607  0.9698  0.9617  0.9571  0.9624  0.0042  \n",
      "MAE (testset)     0.7569  0.7546  0.7603  0.7552  0.7533  0.7561  0.0024  \n",
      "Fit time          3.74    3.30    3.10    3.24    4.03    3.48    0.35    \n",
      "Test time         0.35    0.17    0.32    0.16    0.17    0.23    0.08    \n"
     ]
    }
   ],
   "source": [
    "# We'll use the famous NMF algorithm.\n",
    "algo_nmf = NMF()\n",
    "\n",
    "# Run 5-fold cross-validation and print results\n",
    "NMF_result = cross_validate(algo_nmf, data, measures=[\"RMSE\", \"MAE\"], cv=5, verbose=True)\n",
    "NMF_result = pd.DataFrame.from_dict(NMF_result).mean(axis=0)"
   ]
  },
  {
   "cell_type": "code",
   "execution_count": 11,
   "metadata": {},
   "outputs": [
    {
     "name": "stdout",
     "output_type": "stream",
     "text": [
      "RMSE: 0.9738\n"
     ]
    }
   ],
   "source": [
    "algo_nmf.fit(trainset)\n",
    "predictions_nmf = algo_nmf.test(testset)\n",
    "\n",
    "# Then compute RMSE\n",
    "NMF_rmse = accuracy.rmse(predictions_nmf)"
   ]
  },
  {
   "cell_type": "markdown",
   "metadata": {},
   "source": [
    "# Surprise results"
   ]
  },
  {
   "cell_type": "code",
   "execution_count": 12,
   "metadata": {},
   "outputs": [
    {
     "data": {
      "text/html": [
       "<div>\n",
       "<style scoped>\n",
       "    .dataframe tbody tr th:only-of-type {\n",
       "        vertical-align: middle;\n",
       "    }\n",
       "\n",
       "    .dataframe tbody tr th {\n",
       "        vertical-align: top;\n",
       "    }\n",
       "\n",
       "    .dataframe thead th {\n",
       "        text-align: right;\n",
       "    }\n",
       "</style>\n",
       "<table border=\"1\" class=\"dataframe\">\n",
       "  <thead>\n",
       "    <tr style=\"text-align: right;\">\n",
       "      <th></th>\n",
       "      <th>SVD</th>\n",
       "      <th>SVDpp</th>\n",
       "      <th>NMF</th>\n",
       "    </tr>\n",
       "  </thead>\n",
       "  <tbody>\n",
       "    <tr>\n",
       "      <th>test_rmse</th>\n",
       "      <td>0.936965</td>\n",
       "      <td>0.920184</td>\n",
       "      <td>0.962417</td>\n",
       "    </tr>\n",
       "    <tr>\n",
       "      <th>test_mae</th>\n",
       "      <td>0.738632</td>\n",
       "      <td>0.722052</td>\n",
       "      <td>0.756068</td>\n",
       "    </tr>\n",
       "    <tr>\n",
       "      <th>fit_time</th>\n",
       "      <td>1.577313</td>\n",
       "      <td>9.494595</td>\n",
       "      <td>3.482760</td>\n",
       "    </tr>\n",
       "    <tr>\n",
       "      <th>test_time</th>\n",
       "      <td>0.218775</td>\n",
       "      <td>3.305890</td>\n",
       "      <td>0.232422</td>\n",
       "    </tr>\n",
       "  </tbody>\n",
       "</table>\n",
       "</div>"
      ],
      "text/plain": [
       "                SVD     SVDpp       NMF\n",
       "test_rmse  0.936965  0.920184  0.962417\n",
       "test_mae   0.738632  0.722052  0.756068\n",
       "fit_time   1.577313  9.494595  3.482760\n",
       "test_time  0.218775  3.305890  0.232422"
      ]
     },
     "execution_count": 12,
     "metadata": {},
     "output_type": "execute_result"
    }
   ],
   "source": [
    "surprise_results = pd.DataFrame(columns=['SVD', 'SVDpp', 'NMF'])\n",
    "surprise_results['SVD'] = SVD_result\n",
    "surprise_results['SVDpp'] = SVDpp_result\n",
    "surprise_results['NMF'] = NMF_result\n",
    "surprise_results"
   ]
  },
  {
   "cell_type": "code",
   "execution_count": 13,
   "metadata": {},
   "outputs": [
    {
     "name": "stdout",
     "output_type": "stream",
     "text": [
      "RMSE:\n",
      "SVD: 0.9436303697877875\n",
      "SVDpp: 0.9274014325427109\n",
      "NMF: 0.9738416935330341\n"
     ]
    }
   ],
   "source": [
    "print('RMSE:')\n",
    "print('SVD:', SVD_rmse)\n",
    "print('SVDpp:', SVD_pp_rmse)\n",
    "print('NMF:', NMF_rmse)"
   ]
  }
 ],
 "metadata": {
  "kernelspec": {
   "display_name": "base",
   "language": "python",
   "name": "python3"
  },
  "language_info": {
   "codemirror_mode": {
    "name": "ipython",
    "version": 3
   },
   "file_extension": ".py",
   "mimetype": "text/x-python",
   "name": "python",
   "nbconvert_exporter": "python",
   "pygments_lexer": "ipython3",
   "version": "3.11.7"
  }
 },
 "nbformat": 4,
 "nbformat_minor": 2
}
