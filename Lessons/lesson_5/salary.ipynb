{
 "cells": [
  {
   "cell_type": "code",
   "execution_count": 1,
   "metadata": {},
   "outputs": [],
   "source": [
    "import numpy as np\n",
    "import matplotlib.pyplot as plt\n",
    "import pandas as pd\n",
    "import seaborn as sns"
   ]
  },
  {
   "cell_type": "markdown",
   "metadata": {},
   "source": [
    "# Data analysis and preparation"
   ]
  },
  {
   "cell_type": "code",
   "execution_count": 2,
   "metadata": {},
   "outputs": [
    {
     "name": "stdout",
     "output_type": "stream",
     "text": [
      "Index(['Age', 'Gender', 'Education Level', 'Job Title', 'Years of Experience',\n",
      "       'Salary'],\n",
      "      dtype='object')\n"
     ]
    },
    {
     "data": {
      "text/html": [
       "<div>\n",
       "<style scoped>\n",
       "    .dataframe tbody tr th:only-of-type {\n",
       "        vertical-align: middle;\n",
       "    }\n",
       "\n",
       "    .dataframe tbody tr th {\n",
       "        vertical-align: top;\n",
       "    }\n",
       "\n",
       "    .dataframe thead th {\n",
       "        text-align: right;\n",
       "    }\n",
       "</style>\n",
       "<table border=\"1\" class=\"dataframe\">\n",
       "  <thead>\n",
       "    <tr style=\"text-align: right;\">\n",
       "      <th></th>\n",
       "      <th>Age</th>\n",
       "      <th>Gender</th>\n",
       "      <th>Education Level</th>\n",
       "      <th>Job Title</th>\n",
       "      <th>Years of Experience</th>\n",
       "      <th>Salary</th>\n",
       "    </tr>\n",
       "  </thead>\n",
       "  <tbody>\n",
       "    <tr>\n",
       "      <th>0</th>\n",
       "      <td>32.0</td>\n",
       "      <td>Male</td>\n",
       "      <td>Bachelor's</td>\n",
       "      <td>Software Engineer</td>\n",
       "      <td>5.0</td>\n",
       "      <td>90000.0</td>\n",
       "    </tr>\n",
       "    <tr>\n",
       "      <th>1</th>\n",
       "      <td>28.0</td>\n",
       "      <td>Female</td>\n",
       "      <td>Master's</td>\n",
       "      <td>Data Analyst</td>\n",
       "      <td>3.0</td>\n",
       "      <td>65000.0</td>\n",
       "    </tr>\n",
       "    <tr>\n",
       "      <th>2</th>\n",
       "      <td>45.0</td>\n",
       "      <td>Male</td>\n",
       "      <td>PhD</td>\n",
       "      <td>Senior Manager</td>\n",
       "      <td>15.0</td>\n",
       "      <td>150000.0</td>\n",
       "    </tr>\n",
       "    <tr>\n",
       "      <th>3</th>\n",
       "      <td>36.0</td>\n",
       "      <td>Female</td>\n",
       "      <td>Bachelor's</td>\n",
       "      <td>Sales Associate</td>\n",
       "      <td>7.0</td>\n",
       "      <td>60000.0</td>\n",
       "    </tr>\n",
       "    <tr>\n",
       "      <th>4</th>\n",
       "      <td>52.0</td>\n",
       "      <td>Male</td>\n",
       "      <td>Master's</td>\n",
       "      <td>Director</td>\n",
       "      <td>20.0</td>\n",
       "      <td>200000.0</td>\n",
       "    </tr>\n",
       "    <tr>\n",
       "      <th>5</th>\n",
       "      <td>29.0</td>\n",
       "      <td>Male</td>\n",
       "      <td>Bachelor's</td>\n",
       "      <td>Marketing Analyst</td>\n",
       "      <td>2.0</td>\n",
       "      <td>55000.0</td>\n",
       "    </tr>\n",
       "    <tr>\n",
       "      <th>6</th>\n",
       "      <td>42.0</td>\n",
       "      <td>Female</td>\n",
       "      <td>Master's</td>\n",
       "      <td>Product Manager</td>\n",
       "      <td>12.0</td>\n",
       "      <td>120000.0</td>\n",
       "    </tr>\n",
       "    <tr>\n",
       "      <th>7</th>\n",
       "      <td>31.0</td>\n",
       "      <td>Male</td>\n",
       "      <td>Bachelor's</td>\n",
       "      <td>Sales Manager</td>\n",
       "      <td>4.0</td>\n",
       "      <td>80000.0</td>\n",
       "    </tr>\n",
       "    <tr>\n",
       "      <th>8</th>\n",
       "      <td>26.0</td>\n",
       "      <td>Female</td>\n",
       "      <td>Bachelor's</td>\n",
       "      <td>Marketing Coordinator</td>\n",
       "      <td>1.0</td>\n",
       "      <td>45000.0</td>\n",
       "    </tr>\n",
       "    <tr>\n",
       "      <th>9</th>\n",
       "      <td>38.0</td>\n",
       "      <td>Male</td>\n",
       "      <td>PhD</td>\n",
       "      <td>Senior Scientist</td>\n",
       "      <td>10.0</td>\n",
       "      <td>110000.0</td>\n",
       "    </tr>\n",
       "  </tbody>\n",
       "</table>\n",
       "</div>"
      ],
      "text/plain": [
       "    Age  Gender Education Level              Job Title  Years of Experience  \\\n",
       "0  32.0    Male      Bachelor's      Software Engineer                  5.0   \n",
       "1  28.0  Female        Master's           Data Analyst                  3.0   \n",
       "2  45.0    Male             PhD         Senior Manager                 15.0   \n",
       "3  36.0  Female      Bachelor's        Sales Associate                  7.0   \n",
       "4  52.0    Male        Master's               Director                 20.0   \n",
       "5  29.0    Male      Bachelor's      Marketing Analyst                  2.0   \n",
       "6  42.0  Female        Master's        Product Manager                 12.0   \n",
       "7  31.0    Male      Bachelor's          Sales Manager                  4.0   \n",
       "8  26.0  Female      Bachelor's  Marketing Coordinator                  1.0   \n",
       "9  38.0    Male             PhD       Senior Scientist                 10.0   \n",
       "\n",
       "     Salary  \n",
       "0   90000.0  \n",
       "1   65000.0  \n",
       "2  150000.0  \n",
       "3   60000.0  \n",
       "4  200000.0  \n",
       "5   55000.0  \n",
       "6  120000.0  \n",
       "7   80000.0  \n",
       "8   45000.0  \n",
       "9  110000.0  "
      ]
     },
     "execution_count": 2,
     "metadata": {},
     "output_type": "execute_result"
    }
   ],
   "source": [
    "df = pd.read_csv(\"Salary_Data.csv\")\n",
    "print(df.columns)\n",
    "df.head(10)"
   ]
  },
  {
   "cell_type": "code",
   "execution_count": 3,
   "metadata": {},
   "outputs": [
    {
     "name": "stdout",
     "output_type": "stream",
     "text": [
      "(6704, 6)\n",
      "age                float64\n",
      "gender              object\n",
      "education_level     object\n",
      "job_title           object\n",
      "experience         float64\n",
      "salary             float64\n",
      "dtype: object\n"
     ]
    },
    {
     "data": {
      "text/plain": [
       "age                2\n",
       "gender             2\n",
       "education_level    3\n",
       "job_title          2\n",
       "experience         3\n",
       "salary             5\n",
       "dtype: int64"
      ]
     },
     "execution_count": 3,
     "metadata": {},
     "output_type": "execute_result"
    }
   ],
   "source": [
    "columns = ['age', 'gender', 'education_level', 'job_title', 'experience',\n",
    "       'salary']\n",
    "df.columns = columns\n",
    "print(df.shape)\n",
    "print(df.dtypes)\n",
    "df.isna().sum()"
   ]
  },
  {
   "cell_type": "code",
   "execution_count": 4,
   "metadata": {},
   "outputs": [
    {
     "data": {
      "text/plain": [
       "(1792, 6)"
      ]
     },
     "execution_count": 4,
     "metadata": {},
     "output_type": "execute_result"
    }
   ],
   "source": [
    "df = df.drop_duplicates()\n",
    "df.shape\n"
   ]
  },
  {
   "cell_type": "code",
   "execution_count": 5,
   "metadata": {},
   "outputs": [
    {
     "data": {
      "text/plain": [
       "(1791, 6)"
      ]
     },
     "execution_count": 5,
     "metadata": {},
     "output_type": "execute_result"
    }
   ],
   "source": [
    "# Удалить строки, у которых все значения NaN\n",
    "df = df.dropna(how='all')\n",
    "df.shape"
   ]
  },
  {
   "cell_type": "code",
   "execution_count": 6,
   "metadata": {},
   "outputs": [
    {
     "data": {
      "text/plain": [
       "age                0\n",
       "gender             0\n",
       "education_level    1\n",
       "job_title          0\n",
       "experience         0\n",
       "salary             0\n",
       "dtype: int64"
      ]
     },
     "execution_count": 6,
     "metadata": {},
     "output_type": "execute_result"
    }
   ],
   "source": [
    "df.age = df.age.fillna(df.age.mean())\n",
    "df.experience = df.experience.fillna(df.experience.mean())\n",
    "df.salary = df.salary.fillna(df.salary.mean())\n",
    "df.isna().sum()"
   ]
  },
  {
   "cell_type": "markdown",
   "metadata": {},
   "source": [
    "### Processing education level"
   ]
  },
  {
   "cell_type": "code",
   "execution_count": 7,
   "metadata": {},
   "outputs": [
    {
     "data": {
      "text/plain": [
       "array([\"Bachelor's\", \"Master's\", 'PhD', \"Bachelor's Degree\",\n",
       "       \"Master's Degree\", nan, 'High School', 'phD'], dtype=object)"
      ]
     },
     "execution_count": 7,
     "metadata": {},
     "output_type": "execute_result"
    }
   ],
   "source": [
    "df['education_level'].unique()"
   ]
  },
  {
   "cell_type": "code",
   "execution_count": 8,
   "metadata": {},
   "outputs": [
    {
     "data": {
      "text/plain": [
       "array([\"bachelor's\", \"master's\", 'phd', nan, 'high school'], dtype=object)"
      ]
     },
     "execution_count": 8,
     "metadata": {},
     "output_type": "execute_result"
    }
   ],
   "source": [
    "df['education_level'] = df['education_level'].str.strip().str.lower()\n",
    "df['education_level'] = df['education_level'].replace({\n",
    "    \"bachelor's\": \"bachelor's\",\n",
    "    \"bachelor's degree\": \"bachelor's\",\n",
    "    \"master's\": \"master's\",\n",
    "    \"master's degree\": \"master's\",\n",
    "    \"phd\": \"phd\",\n",
    "    \"high school\": \"high school\"\n",
    "})\n",
    "df['education_level'].unique()"
   ]
  },
  {
   "cell_type": "code",
   "execution_count": 9,
   "metadata": {},
   "outputs": [
    {
     "data": {
      "text/plain": [
       "array([\"bachelor's\", \"master's\", 'phd', 'unknown', 'high school'],\n",
       "      dtype=object)"
      ]
     },
     "execution_count": 9,
     "metadata": {},
     "output_type": "execute_result"
    }
   ],
   "source": [
    "df['education_level'] = df['education_level'].fillna('unknown')\n",
    "df['education_level'].unique()"
   ]
  },
  {
   "cell_type": "code",
   "execution_count": 10,
   "metadata": {},
   "outputs": [
    {
     "data": {
      "text/html": [
       "<div>\n",
       "<style scoped>\n",
       "    .dataframe tbody tr th:only-of-type {\n",
       "        vertical-align: middle;\n",
       "    }\n",
       "\n",
       "    .dataframe tbody tr th {\n",
       "        vertical-align: top;\n",
       "    }\n",
       "\n",
       "    .dataframe thead th {\n",
       "        text-align: right;\n",
       "    }\n",
       "</style>\n",
       "<table border=\"1\" class=\"dataframe\">\n",
       "  <thead>\n",
       "    <tr style=\"text-align: right;\">\n",
       "      <th></th>\n",
       "      <th>age</th>\n",
       "      <th>gender</th>\n",
       "      <th>education_level</th>\n",
       "      <th>job_title</th>\n",
       "      <th>experience</th>\n",
       "      <th>salary</th>\n",
       "    </tr>\n",
       "  </thead>\n",
       "  <tbody>\n",
       "    <tr>\n",
       "      <th>0</th>\n",
       "      <td>32.0</td>\n",
       "      <td>Male</td>\n",
       "      <td>2</td>\n",
       "      <td>Software Engineer</td>\n",
       "      <td>5.0</td>\n",
       "      <td>90000.0</td>\n",
       "    </tr>\n",
       "    <tr>\n",
       "      <th>1</th>\n",
       "      <td>28.0</td>\n",
       "      <td>Female</td>\n",
       "      <td>3</td>\n",
       "      <td>Data Analyst</td>\n",
       "      <td>3.0</td>\n",
       "      <td>65000.0</td>\n",
       "    </tr>\n",
       "    <tr>\n",
       "      <th>2</th>\n",
       "      <td>45.0</td>\n",
       "      <td>Male</td>\n",
       "      <td>4</td>\n",
       "      <td>Senior Manager</td>\n",
       "      <td>15.0</td>\n",
       "      <td>150000.0</td>\n",
       "    </tr>\n",
       "    <tr>\n",
       "      <th>3</th>\n",
       "      <td>36.0</td>\n",
       "      <td>Female</td>\n",
       "      <td>2</td>\n",
       "      <td>Sales Associate</td>\n",
       "      <td>7.0</td>\n",
       "      <td>60000.0</td>\n",
       "    </tr>\n",
       "    <tr>\n",
       "      <th>4</th>\n",
       "      <td>52.0</td>\n",
       "      <td>Male</td>\n",
       "      <td>3</td>\n",
       "      <td>Director</td>\n",
       "      <td>20.0</td>\n",
       "      <td>200000.0</td>\n",
       "    </tr>\n",
       "  </tbody>\n",
       "</table>\n",
       "</div>"
      ],
      "text/plain": [
       "    age  gender  education_level          job_title  experience    salary\n",
       "0  32.0    Male                2  Software Engineer         5.0   90000.0\n",
       "1  28.0  Female                3       Data Analyst         3.0   65000.0\n",
       "2  45.0    Male                4     Senior Manager        15.0  150000.0\n",
       "3  36.0  Female                2    Sales Associate         7.0   60000.0\n",
       "4  52.0    Male                3           Director        20.0  200000.0"
      ]
     },
     "execution_count": 10,
     "metadata": {},
     "output_type": "execute_result"
    }
   ],
   "source": [
    "df['education_level'] = df['education_level'].map({\n",
    "    'unknown': 0,\n",
    "    'high school': 1,\n",
    "    \"bachelor's\": 2, \n",
    "    \"master's\": 3, \n",
    "    'phd': 4\n",
    "})\n",
    "df.head()"
   ]
  },
  {
   "cell_type": "markdown",
   "metadata": {},
   "source": [
    "### Processing gender"
   ]
  },
  {
   "cell_type": "code",
   "execution_count": 11,
   "metadata": {},
   "outputs": [
    {
     "data": {
      "text/plain": [
       "array(['Male', 'Female', 'Other'], dtype=object)"
      ]
     },
     "execution_count": 11,
     "metadata": {},
     "output_type": "execute_result"
    }
   ],
   "source": [
    "df['gender'].unique()"
   ]
  },
  {
   "cell_type": "code",
   "execution_count": 11,
   "metadata": {},
   "outputs": [
    {
     "data": {
      "text/html": [
       "<div>\n",
       "<style scoped>\n",
       "    .dataframe tbody tr th:only-of-type {\n",
       "        vertical-align: middle;\n",
       "    }\n",
       "\n",
       "    .dataframe tbody tr th {\n",
       "        vertical-align: top;\n",
       "    }\n",
       "\n",
       "    .dataframe thead th {\n",
       "        text-align: right;\n",
       "    }\n",
       "</style>\n",
       "<table border=\"1\" class=\"dataframe\">\n",
       "  <thead>\n",
       "    <tr style=\"text-align: right;\">\n",
       "      <th></th>\n",
       "      <th>age</th>\n",
       "      <th>gender</th>\n",
       "      <th>education_level</th>\n",
       "      <th>job_title</th>\n",
       "      <th>experience</th>\n",
       "      <th>salary</th>\n",
       "    </tr>\n",
       "  </thead>\n",
       "  <tbody>\n",
       "    <tr>\n",
       "      <th>0</th>\n",
       "      <td>32.0</td>\n",
       "      <td>0</td>\n",
       "      <td>2</td>\n",
       "      <td>Software Engineer</td>\n",
       "      <td>5.0</td>\n",
       "      <td>90000.0</td>\n",
       "    </tr>\n",
       "    <tr>\n",
       "      <th>1</th>\n",
       "      <td>28.0</td>\n",
       "      <td>1</td>\n",
       "      <td>3</td>\n",
       "      <td>Data Analyst</td>\n",
       "      <td>3.0</td>\n",
       "      <td>65000.0</td>\n",
       "    </tr>\n",
       "    <tr>\n",
       "      <th>2</th>\n",
       "      <td>45.0</td>\n",
       "      <td>0</td>\n",
       "      <td>4</td>\n",
       "      <td>Senior Manager</td>\n",
       "      <td>15.0</td>\n",
       "      <td>150000.0</td>\n",
       "    </tr>\n",
       "    <tr>\n",
       "      <th>3</th>\n",
       "      <td>36.0</td>\n",
       "      <td>1</td>\n",
       "      <td>2</td>\n",
       "      <td>Sales Associate</td>\n",
       "      <td>7.0</td>\n",
       "      <td>60000.0</td>\n",
       "    </tr>\n",
       "    <tr>\n",
       "      <th>4</th>\n",
       "      <td>52.0</td>\n",
       "      <td>0</td>\n",
       "      <td>3</td>\n",
       "      <td>Director</td>\n",
       "      <td>20.0</td>\n",
       "      <td>200000.0</td>\n",
       "    </tr>\n",
       "  </tbody>\n",
       "</table>\n",
       "</div>"
      ],
      "text/plain": [
       "    age  gender  education_level          job_title  experience    salary\n",
       "0  32.0       0                2  Software Engineer         5.0   90000.0\n",
       "1  28.0       1                3       Data Analyst         3.0   65000.0\n",
       "2  45.0       0                4     Senior Manager        15.0  150000.0\n",
       "3  36.0       1                2    Sales Associate         7.0   60000.0\n",
       "4  52.0       0                3           Director        20.0  200000.0"
      ]
     },
     "execution_count": 11,
     "metadata": {},
     "output_type": "execute_result"
    }
   ],
   "source": [
    "df['gender'] = df['gender'].map({\n",
    "    'Male': 0, \n",
    "    'Female': 1, \n",
    "    'Other': 2\n",
    "})\n",
    "df.head()"
   ]
  },
  {
   "cell_type": "code",
   "execution_count": 12,
   "metadata": {},
   "outputs": [
    {
     "name": "stdout",
     "output_type": "stream",
     "text": [
      "(1791, 6)\n",
      "age                0\n",
      "gender             0\n",
      "education_level    0\n",
      "job_title          0\n",
      "experience         0\n",
      "salary             0\n",
      "dtype: int64\n",
      "age                float64\n",
      "gender               int64\n",
      "education_level      int64\n",
      "job_title           object\n",
      "experience         float64\n",
      "salary             float64\n",
      "dtype: object\n"
     ]
    }
   ],
   "source": [
    "print(df.shape)\n",
    "print(df.isnull().sum())\n",
    "print(df.dtypes)\n"
   ]
  },
  {
   "cell_type": "code",
   "execution_count": 13,
   "metadata": {},
   "outputs": [
    {
     "data": {
      "text/plain": [
       "age                float64\n",
       "gender             float64\n",
       "education_level    float64\n",
       "job_title           object\n",
       "experience         float64\n",
       "salary             float64\n",
       "dtype: object"
      ]
     },
     "execution_count": 13,
     "metadata": {},
     "output_type": "execute_result"
    }
   ],
   "source": [
    "df['gender'] = df['gender'].astype(float)\n",
    "df['education_level'] = df['education_level'].astype(float)\n",
    "df.dtypes"
   ]
  },
  {
   "cell_type": "code",
   "execution_count": 15,
   "metadata": {},
   "outputs": [
    {
     "data": {
      "text/html": [
       "<div>\n",
       "<style scoped>\n",
       "    .dataframe tbody tr th:only-of-type {\n",
       "        vertical-align: middle;\n",
       "    }\n",
       "\n",
       "    .dataframe tbody tr th {\n",
       "        vertical-align: top;\n",
       "    }\n",
       "\n",
       "    .dataframe thead th {\n",
       "        text-align: right;\n",
       "    }\n",
       "</style>\n",
       "<table border=\"1\" class=\"dataframe\">\n",
       "  <thead>\n",
       "    <tr style=\"text-align: right;\">\n",
       "      <th></th>\n",
       "      <th>age</th>\n",
       "      <th>gender</th>\n",
       "      <th>education_level</th>\n",
       "      <th>job_title</th>\n",
       "      <th>experience</th>\n",
       "      <th>salary</th>\n",
       "    </tr>\n",
       "  </thead>\n",
       "  <tbody>\n",
       "    <tr>\n",
       "      <th>0</th>\n",
       "      <td>32.0</td>\n",
       "      <td>0.0</td>\n",
       "      <td>2.0</td>\n",
       "      <td>Software Engineer</td>\n",
       "      <td>5.0</td>\n",
       "      <td>90000.0</td>\n",
       "    </tr>\n",
       "    <tr>\n",
       "      <th>1</th>\n",
       "      <td>28.0</td>\n",
       "      <td>1.0</td>\n",
       "      <td>3.0</td>\n",
       "      <td>Data Analyst</td>\n",
       "      <td>3.0</td>\n",
       "      <td>65000.0</td>\n",
       "    </tr>\n",
       "    <tr>\n",
       "      <th>2</th>\n",
       "      <td>45.0</td>\n",
       "      <td>0.0</td>\n",
       "      <td>4.0</td>\n",
       "      <td>Senior Manager</td>\n",
       "      <td>15.0</td>\n",
       "      <td>150000.0</td>\n",
       "    </tr>\n",
       "    <tr>\n",
       "      <th>3</th>\n",
       "      <td>36.0</td>\n",
       "      <td>1.0</td>\n",
       "      <td>2.0</td>\n",
       "      <td>Sales Associate</td>\n",
       "      <td>7.0</td>\n",
       "      <td>60000.0</td>\n",
       "    </tr>\n",
       "    <tr>\n",
       "      <th>4</th>\n",
       "      <td>52.0</td>\n",
       "      <td>0.0</td>\n",
       "      <td>3.0</td>\n",
       "      <td>Director</td>\n",
       "      <td>20.0</td>\n",
       "      <td>200000.0</td>\n",
       "    </tr>\n",
       "  </tbody>\n",
       "</table>\n",
       "</div>"
      ],
      "text/plain": [
       "    age  gender  education_level          job_title  experience    salary\n",
       "0  32.0     0.0              2.0  Software Engineer         5.0   90000.0\n",
       "1  28.0     1.0              3.0       Data Analyst         3.0   65000.0\n",
       "2  45.0     0.0              4.0     Senior Manager        15.0  150000.0\n",
       "3  36.0     1.0              2.0    Sales Associate         7.0   60000.0\n",
       "4  52.0     0.0              3.0           Director        20.0  200000.0"
      ]
     },
     "execution_count": 15,
     "metadata": {},
     "output_type": "execute_result"
    }
   ],
   "source": [
    "df.head()"
   ]
  },
  {
   "cell_type": "markdown",
   "metadata": {},
   "source": [
    "### Processing job_title"
   ]
  },
  {
   "cell_type": "code",
   "execution_count": 14,
   "metadata": {},
   "outputs": [
    {
     "data": {
      "text/plain": [
       "array(['software engineer', 'data analyst', 'senior manager',\n",
       "       'sales associate', 'director', 'marketing analyst',\n",
       "       'product manager', 'sales manager', 'marketing coordinator',\n",
       "       'senior scientist', 'software developer', 'hr manager',\n",
       "       'financial analyst', 'project manager', 'customer service rep',\n",
       "       'operations manager', 'marketing manager', 'senior engineer',\n",
       "       'data entry clerk', 'sales director', 'business analyst',\n",
       "       'vp of operations', 'it support', 'recruiter', 'financial manager',\n",
       "       'social media specialist', 'software manager', 'junior developer',\n",
       "       'senior consultant', 'product designer', 'ceo', 'accountant',\n",
       "       'data scientist', 'marketing specialist', 'technical writer',\n",
       "       'hr generalist', 'project engineer', 'customer success rep',\n",
       "       'sales executive', 'ux designer', 'operations director',\n",
       "       'network engineer', 'administrative assistant',\n",
       "       'strategy consultant', 'copywriter', 'account manager',\n",
       "       'director of marketing', 'help desk analyst',\n",
       "       'customer service manager', 'business intelligence analyst',\n",
       "       'event coordinator', 'vp of finance', 'graphic designer',\n",
       "       'ux researcher', 'social media manager', 'director of operations',\n",
       "       'senior data scientist', 'junior accountant',\n",
       "       'digital marketing manager', 'it manager',\n",
       "       'customer service representative', 'business development manager',\n",
       "       'senior financial analyst', 'web developer', 'research director',\n",
       "       'technical support specialist', 'creative director',\n",
       "       'senior software engineer', 'human resources director',\n",
       "       'content marketing manager', 'technical recruiter',\n",
       "       'sales representative', 'chief technology officer',\n",
       "       'junior designer', 'financial advisor', 'junior account manager',\n",
       "       'senior project manager', 'principal scientist',\n",
       "       'supply chain manager', 'senior marketing manager',\n",
       "       'training specialist', 'research scientist',\n",
       "       'junior software developer', 'public relations manager',\n",
       "       'operations analyst', 'product marketing manager',\n",
       "       'senior hr manager', 'junior web developer',\n",
       "       'senior project coordinator', 'chief data officer',\n",
       "       'digital content producer', 'it support specialist',\n",
       "       'senior marketing analyst', 'customer success manager',\n",
       "       'senior graphic designer', 'software project manager',\n",
       "       'supply chain analyst', 'senior business analyst',\n",
       "       'junior marketing analyst', 'office manager', 'principal engineer',\n",
       "       'junior hr generalist', 'senior product manager',\n",
       "       'junior operations analyst', 'senior hr generalist',\n",
       "       'sales operations manager', 'senior software developer',\n",
       "       'junior web designer', 'senior training specialist',\n",
       "       'senior research scientist', 'junior sales representative',\n",
       "       'junior marketing manager', 'junior data analyst',\n",
       "       'senior product marketing manager', 'junior business analyst',\n",
       "       'senior sales manager', 'junior marketing specialist',\n",
       "       'junior project manager', 'senior accountant', 'director of sales',\n",
       "       'junior recruiter', 'senior business development manager',\n",
       "       'senior product designer', 'junior customer support specialist',\n",
       "       'senior it support specialist', 'junior financial analyst',\n",
       "       'senior operations manager', 'director of human resources',\n",
       "       'junior software engineer', 'senior sales representative',\n",
       "       'director of product management', 'junior copywriter',\n",
       "       'senior marketing coordinator', 'senior human resources manager',\n",
       "       'junior business development associate', 'senior account manager',\n",
       "       'senior researcher', 'junior hr coordinator',\n",
       "       'director of finance', 'junior marketing coordinator',\n",
       "       'junior data scientist', 'senior operations analyst',\n",
       "       'senior human resources coordinator', 'senior ux designer',\n",
       "       'junior product manager', 'senior marketing specialist',\n",
       "       'senior it project manager', 'senior quality assurance analyst',\n",
       "       'director of sales and marketing', 'senior account executive',\n",
       "       'director of business development', 'junior social media manager',\n",
       "       'senior human resources specialist', 'senior data analyst',\n",
       "       'director of human capital', 'junior advertising coordinator',\n",
       "       'junior ux designer', 'senior marketing director',\n",
       "       'senior it consultant', 'senior financial advisor',\n",
       "       'junior business operations analyst',\n",
       "       'junior social media specialist',\n",
       "       'senior product development manager', 'junior operations manager',\n",
       "       'senior software architect', 'junior research scientist',\n",
       "       'senior financial manager', 'senior hr specialist',\n",
       "       'senior data engineer', 'junior operations coordinator',\n",
       "       'director of hr', 'senior operations coordinator',\n",
       "       'junior financial advisor', 'director of engineering',\n",
       "       'software engineer manager', 'back end developer',\n",
       "       'senior project engineer', 'full stack engineer',\n",
       "       'front end developer', 'developer', 'director of data science',\n",
       "       'human resources coordinator', 'junior sales associate',\n",
       "       'human resources manager', 'juniour hr generalist',\n",
       "       'juniour hr coordinator', 'digital marketing specialist',\n",
       "       'receptionist', 'marketing director', 'social m',\n",
       "       'social media man', 'delivery driver'], dtype=object)"
      ]
     },
     "execution_count": 14,
     "metadata": {},
     "output_type": "execute_result"
    }
   ],
   "source": [
    "df['job_title'] = df['job_title'].str.strip().str.lower()\n",
    "df['job_title'].unique()"
   ]
  },
  {
   "cell_type": "code",
   "execution_count": 15,
   "metadata": {},
   "outputs": [
    {
     "name": "stdout",
     "output_type": "stream",
     "text": [
      "job_title\n",
      "software engineer manager    127\n",
      "full stack engineer          123\n",
      "senior software engineer      96\n",
      "senior project engineer       95\n",
      "back end developer            81\n",
      "                            ... \n",
      "financial advisor              1\n",
      "junior designer                1\n",
      "chief technology officer       1\n",
      "technical recruiter            1\n",
      "delivery driver                1\n",
      "Name: count, Length: 192, dtype: int64\n"
     ]
    }
   ],
   "source": [
    "job_counts = df['job_title'].value_counts()\n",
    "print(job_counts)"
   ]
  },
  {
   "cell_type": "markdown",
   "metadata": {},
   "source": [
    "# Building a model and choosing the best one"
   ]
  },
  {
   "cell_type": "code",
   "execution_count": 16,
   "metadata": {},
   "outputs": [],
   "source": [
    "from sklearn.model_selection import train_test_split\n",
    "from sklearn.preprocessing import StandardScaler\n",
    "from sklearn.svm import SVR\n",
    "from sklearn.ensemble import RandomForestRegressor, GradientBoostingRegressor\n",
    "from sklearn.metrics import  mean_squared_error, r2_score, confusion_matrix\n",
    "from scipy.stats import skew, kurtosis, iqr\n",
    "from sklearn.linear_model import LinearRegression\n",
    "from sklearn.impute import SimpleImputer\n",
    "from sklearn.neural_network import MLPRegressor"
   ]
  },
  {
   "cell_type": "markdown",
   "metadata": {},
   "source": [
    "### Model with job_title"
   ]
  },
  {
   "cell_type": "code",
   "execution_count": 17,
   "metadata": {},
   "outputs": [
    {
     "name": "stdout",
     "output_type": "stream",
     "text": [
      "(1791, 196)\n"
     ]
    },
    {
     "data": {
      "text/html": [
       "<div>\n",
       "<style scoped>\n",
       "    .dataframe tbody tr th:only-of-type {\n",
       "        vertical-align: middle;\n",
       "    }\n",
       "\n",
       "    .dataframe tbody tr th {\n",
       "        vertical-align: top;\n",
       "    }\n",
       "\n",
       "    .dataframe thead th {\n",
       "        text-align: right;\n",
       "    }\n",
       "</style>\n",
       "<table border=\"1\" class=\"dataframe\">\n",
       "  <thead>\n",
       "    <tr style=\"text-align: right;\">\n",
       "      <th></th>\n",
       "      <th>age</th>\n",
       "      <th>gender</th>\n",
       "      <th>education_level</th>\n",
       "      <th>experience</th>\n",
       "      <th>salary</th>\n",
       "      <th>job_title_accountant</th>\n",
       "      <th>job_title_administrative assistant</th>\n",
       "      <th>job_title_back end developer</th>\n",
       "      <th>job_title_business analyst</th>\n",
       "      <th>job_title_business development manager</th>\n",
       "      <th>...</th>\n",
       "      <th>job_title_supply chain manager</th>\n",
       "      <th>job_title_technical recruiter</th>\n",
       "      <th>job_title_technical support specialist</th>\n",
       "      <th>job_title_technical writer</th>\n",
       "      <th>job_title_training specialist</th>\n",
       "      <th>job_title_ux designer</th>\n",
       "      <th>job_title_ux researcher</th>\n",
       "      <th>job_title_vp of finance</th>\n",
       "      <th>job_title_vp of operations</th>\n",
       "      <th>job_title_web developer</th>\n",
       "    </tr>\n",
       "  </thead>\n",
       "  <tbody>\n",
       "    <tr>\n",
       "      <th>0</th>\n",
       "      <td>32.0</td>\n",
       "      <td>0.0</td>\n",
       "      <td>2.0</td>\n",
       "      <td>5.0</td>\n",
       "      <td>90000.0</td>\n",
       "      <td>False</td>\n",
       "      <td>False</td>\n",
       "      <td>False</td>\n",
       "      <td>False</td>\n",
       "      <td>False</td>\n",
       "      <td>...</td>\n",
       "      <td>False</td>\n",
       "      <td>False</td>\n",
       "      <td>False</td>\n",
       "      <td>False</td>\n",
       "      <td>False</td>\n",
       "      <td>False</td>\n",
       "      <td>False</td>\n",
       "      <td>False</td>\n",
       "      <td>False</td>\n",
       "      <td>False</td>\n",
       "    </tr>\n",
       "    <tr>\n",
       "      <th>1</th>\n",
       "      <td>28.0</td>\n",
       "      <td>1.0</td>\n",
       "      <td>3.0</td>\n",
       "      <td>3.0</td>\n",
       "      <td>65000.0</td>\n",
       "      <td>False</td>\n",
       "      <td>False</td>\n",
       "      <td>False</td>\n",
       "      <td>False</td>\n",
       "      <td>False</td>\n",
       "      <td>...</td>\n",
       "      <td>False</td>\n",
       "      <td>False</td>\n",
       "      <td>False</td>\n",
       "      <td>False</td>\n",
       "      <td>False</td>\n",
       "      <td>False</td>\n",
       "      <td>False</td>\n",
       "      <td>False</td>\n",
       "      <td>False</td>\n",
       "      <td>False</td>\n",
       "    </tr>\n",
       "    <tr>\n",
       "      <th>2</th>\n",
       "      <td>45.0</td>\n",
       "      <td>0.0</td>\n",
       "      <td>4.0</td>\n",
       "      <td>15.0</td>\n",
       "      <td>150000.0</td>\n",
       "      <td>False</td>\n",
       "      <td>False</td>\n",
       "      <td>False</td>\n",
       "      <td>False</td>\n",
       "      <td>False</td>\n",
       "      <td>...</td>\n",
       "      <td>False</td>\n",
       "      <td>False</td>\n",
       "      <td>False</td>\n",
       "      <td>False</td>\n",
       "      <td>False</td>\n",
       "      <td>False</td>\n",
       "      <td>False</td>\n",
       "      <td>False</td>\n",
       "      <td>False</td>\n",
       "      <td>False</td>\n",
       "    </tr>\n",
       "    <tr>\n",
       "      <th>3</th>\n",
       "      <td>36.0</td>\n",
       "      <td>1.0</td>\n",
       "      <td>2.0</td>\n",
       "      <td>7.0</td>\n",
       "      <td>60000.0</td>\n",
       "      <td>False</td>\n",
       "      <td>False</td>\n",
       "      <td>False</td>\n",
       "      <td>False</td>\n",
       "      <td>False</td>\n",
       "      <td>...</td>\n",
       "      <td>False</td>\n",
       "      <td>False</td>\n",
       "      <td>False</td>\n",
       "      <td>False</td>\n",
       "      <td>False</td>\n",
       "      <td>False</td>\n",
       "      <td>False</td>\n",
       "      <td>False</td>\n",
       "      <td>False</td>\n",
       "      <td>False</td>\n",
       "    </tr>\n",
       "    <tr>\n",
       "      <th>4</th>\n",
       "      <td>52.0</td>\n",
       "      <td>0.0</td>\n",
       "      <td>3.0</td>\n",
       "      <td>20.0</td>\n",
       "      <td>200000.0</td>\n",
       "      <td>False</td>\n",
       "      <td>False</td>\n",
       "      <td>False</td>\n",
       "      <td>False</td>\n",
       "      <td>False</td>\n",
       "      <td>...</td>\n",
       "      <td>False</td>\n",
       "      <td>False</td>\n",
       "      <td>False</td>\n",
       "      <td>False</td>\n",
       "      <td>False</td>\n",
       "      <td>False</td>\n",
       "      <td>False</td>\n",
       "      <td>False</td>\n",
       "      <td>False</td>\n",
       "      <td>False</td>\n",
       "    </tr>\n",
       "  </tbody>\n",
       "</table>\n",
       "<p>5 rows × 196 columns</p>\n",
       "</div>"
      ],
      "text/plain": [
       "    age  gender  education_level  experience    salary  job_title_accountant  \\\n",
       "0  32.0     0.0              2.0         5.0   90000.0                 False   \n",
       "1  28.0     1.0              3.0         3.0   65000.0                 False   \n",
       "2  45.0     0.0              4.0        15.0  150000.0                 False   \n",
       "3  36.0     1.0              2.0         7.0   60000.0                 False   \n",
       "4  52.0     0.0              3.0        20.0  200000.0                 False   \n",
       "\n",
       "   job_title_administrative assistant  job_title_back end developer  \\\n",
       "0                               False                         False   \n",
       "1                               False                         False   \n",
       "2                               False                         False   \n",
       "3                               False                         False   \n",
       "4                               False                         False   \n",
       "\n",
       "   job_title_business analyst  job_title_business development manager  ...  \\\n",
       "0                       False                                   False  ...   \n",
       "1                       False                                   False  ...   \n",
       "2                       False                                   False  ...   \n",
       "3                       False                                   False  ...   \n",
       "4                       False                                   False  ...   \n",
       "\n",
       "   job_title_supply chain manager  job_title_technical recruiter  \\\n",
       "0                           False                          False   \n",
       "1                           False                          False   \n",
       "2                           False                          False   \n",
       "3                           False                          False   \n",
       "4                           False                          False   \n",
       "\n",
       "   job_title_technical support specialist  job_title_technical writer  \\\n",
       "0                                   False                       False   \n",
       "1                                   False                       False   \n",
       "2                                   False                       False   \n",
       "3                                   False                       False   \n",
       "4                                   False                       False   \n",
       "\n",
       "   job_title_training specialist  job_title_ux designer  \\\n",
       "0                          False                  False   \n",
       "1                          False                  False   \n",
       "2                          False                  False   \n",
       "3                          False                  False   \n",
       "4                          False                  False   \n",
       "\n",
       "   job_title_ux researcher  job_title_vp of finance  \\\n",
       "0                    False                    False   \n",
       "1                    False                    False   \n",
       "2                    False                    False   \n",
       "3                    False                    False   \n",
       "4                    False                    False   \n",
       "\n",
       "   job_title_vp of operations  job_title_web developer  \n",
       "0                       False                    False  \n",
       "1                       False                    False  \n",
       "2                       False                    False  \n",
       "3                       False                    False  \n",
       "4                       False                    False  \n",
       "\n",
       "[5 rows x 196 columns]"
      ]
     },
     "execution_count": 17,
     "metadata": {},
     "output_type": "execute_result"
    }
   ],
   "source": [
    "df_job_title = pd.get_dummies(df, columns=['job_title'], drop_first=True)\n",
    "print(df_job_title.shape)\n",
    "df_job_title.head()"
   ]
  },
  {
   "cell_type": "code",
   "execution_count": 18,
   "metadata": {},
   "outputs": [],
   "source": [
    "X = df_job_title.drop('salary', axis=1)\n",
    "y = df_job_title['salary']\n",
    "\n",
    "X_train, X_test, y_train, y_test = train_test_split(X, y, test_size=0.2, random_state=42)\n",
    "\n",
    "scaler = StandardScaler()\n",
    "X_train = scaler.fit_transform(X_train)\n",
    "X_test = scaler.transform(X_test)\n",
    "y_train = scaler.fit_transform(y_train.values.reshape(-1, 1)).flatten()\n",
    "y_test = scaler.fit_transform(y_test.values.reshape(-1, 1)).flatten()\n"
   ]
  },
  {
   "cell_type": "code",
   "execution_count": 19,
   "metadata": {},
   "outputs": [
    {
     "data": {
      "text/html": [
       "<div>\n",
       "<style scoped>\n",
       "    .dataframe tbody tr th:only-of-type {\n",
       "        vertical-align: middle;\n",
       "    }\n",
       "\n",
       "    .dataframe tbody tr th {\n",
       "        vertical-align: top;\n",
       "    }\n",
       "\n",
       "    .dataframe thead th {\n",
       "        text-align: right;\n",
       "    }\n",
       "</style>\n",
       "<table border=\"1\" class=\"dataframe\">\n",
       "  <thead>\n",
       "    <tr style=\"text-align: right;\">\n",
       "      <th></th>\n",
       "      <th>Model</th>\n",
       "      <th>MSE</th>\n",
       "      <th>R^2</th>\n",
       "    </tr>\n",
       "  </thead>\n",
       "  <tbody>\n",
       "    <tr>\n",
       "      <th>0</th>\n",
       "      <td>Linear Regression</td>\n",
       "      <td>1.521950e+23</td>\n",
       "      <td>-1.521950e+23</td>\n",
       "    </tr>\n",
       "    <tr>\n",
       "      <th>1</th>\n",
       "      <td>Random Forest</td>\n",
       "      <td>9.621927e-02</td>\n",
       "      <td>9.037807e-01</td>\n",
       "    </tr>\n",
       "    <tr>\n",
       "      <th>2</th>\n",
       "      <td>Gradient Boosting</td>\n",
       "      <td>1.127342e-01</td>\n",
       "      <td>8.872658e-01</td>\n",
       "    </tr>\n",
       "    <tr>\n",
       "      <th>3</th>\n",
       "      <td>Support Vector Regressor</td>\n",
       "      <td>1.779497e-01</td>\n",
       "      <td>8.220503e-01</td>\n",
       "    </tr>\n",
       "    <tr>\n",
       "      <th>4</th>\n",
       "      <td>Neural network</td>\n",
       "      <td>1.126320e-01</td>\n",
       "      <td>8.873680e-01</td>\n",
       "    </tr>\n",
       "  </tbody>\n",
       "</table>\n",
       "</div>"
      ],
      "text/plain": [
       "                      Model           MSE           R^2\n",
       "0         Linear Regression  1.521950e+23 -1.521950e+23\n",
       "1             Random Forest  9.621927e-02  9.037807e-01\n",
       "2         Gradient Boosting  1.127342e-01  8.872658e-01\n",
       "3  Support Vector Regressor  1.779497e-01  8.220503e-01\n",
       "4            Neural network  1.126320e-01  8.873680e-01"
      ]
     },
     "execution_count": 19,
     "metadata": {},
     "output_type": "execute_result"
    }
   ],
   "source": [
    "models = {\n",
    "    'Linear Regression': LinearRegression(),\n",
    "    'Random Forest': RandomForestRegressor(random_state=42),\n",
    "    'Gradient Boosting': GradientBoostingRegressor(random_state=42),\n",
    "    'Support Vector Regressor': SVR(),\n",
    "    'Neural network': MLPRegressor(random_state=42, max_iter=1000)\n",
    "}\n",
    "\n",
    "results = []\n",
    "for name, model in models.items():\n",
    "    model.fit(X_train, y_train)\n",
    "    y_pred = model.predict(X_test)\n",
    "    mse = mean_squared_error(y_test, y_pred)\n",
    "    r2 = r2_score(y_test, y_pred)\n",
    "    results.append({'Model': name, 'MSE': mse, 'R^2': r2})\n",
    "\n",
    "df_results = pd.DataFrame(results)\n",
    "df_results"
   ]
  },
  {
   "cell_type": "markdown",
   "metadata": {},
   "source": [
    "### Visualization of results"
   ]
  },
  {
   "cell_type": "code",
   "execution_count": 21,
   "metadata": {},
   "outputs": [
    {
     "data": {
      "image/png": "[encoded data removed]",
      "text/plain": [
       "<Figure size 1000x600 with 2 Axes>"
      ]
     },
     "metadata": {},
     "output_type": "display_data"
    }
   ],
   "source": [
    "df_results_v = df_results[df_results['Model'] != 'Linear Regression']\n",
    "\n",
    "fig, ax1 = plt.subplots(figsize=(10,6))\n",
    "ax2 = ax1.twinx()\n",
    "\n",
    "width = 0.35\n",
    "\n",
    "x = np.arange(len(df_results_v))\n",
    "\n",
    "# Создаем столбцы для MSE и R^2\n",
    "rects1 = ax1.bar(x - width/2, df_results_v['MSE'], width, label='MSE', color='skyblue')\n",
    "rects2 = ax2.bar(x + width/2, df_results_v['R^2'], width, label='R^2', color='lightgreen')\n",
    "\n",
    "ax1.set_ylabel('MSE ')\n",
    "ax1.set_xlabel('Model')\n",
    "ax2.set_ylabel('R^2 Score')\n",
    "\n",
    "ax1.set_xticks(x)\n",
    "ax1.set_xticklabels(df_results_v['Model'], rotation=45, ha='right')\n",
    "\n",
    "ax1.set_yscale('log')\n",
    "ax1.set_ylim(1e-3, 1)  # Устанавливаем пределы для MSE\n",
    "ax2.set_ylim(0.8, 1) \n",
    "\n",
    "def autolabel(rects, ax):\n",
    "    for rect in rects:\n",
    "        height = rect.get_height()\n",
    "        ax.annotate(f'{height:.3f}',\n",
    "                    xy=(rect.get_x() + rect.get_width() / 2, height),\n",
    "                    xytext=(0, 3), \n",
    "                    textcoords=\"offset points\",\n",
    "                    ha='center', va='bottom', rotation=90)\n",
    "\n",
    "autolabel(rects1, ax1)\n",
    "autolabel(rects2, ax2)\n",
    "\n",
    "ax1.legend(loc ='upper left')\n",
    "ax2.legend(loc ='upper right')\n",
    "\n",
    "plt.title('Model Comparison: MSE and R^2 Scores')\n",
    "plt.tight_layout()\n",
    "plt.show()"
   ]
  },
  {
   "cell_type": "markdown",
   "metadata": {},
   "source": [
    "# Conclusion for the model with job title\n",
    "\n",
    "**Linear Regression:**\n",
    "- MSE: 1.521950e+23\n",
    "- R^2: -1.521950e+23  \n",
    "- Эти результаты указывают на серьезные проблемы с линейной регрессией. Огромное значение MSE и отрицательное R^2 говорят о том, что модель работает хуже, чем простое предсказание среднего значения. Возможно, есть проблемы с мультиколлинеарностью или данные имеют сильно нелинейную природу.\n",
    "\n",
    "\n",
    "**Random Forest:**\n",
    "- MSE: 9.621927e-02\n",
    "- R^2: 9.037807e-01\n",
    "- Очень хорошие результаты. Низкое MSE и высокий R^2 показывают, что модель объясняет более 90% вариации в данных.\n",
    "\n",
    "\n",
    "**Gradient Boosting:**\n",
    "- MSE: 1.127342e-01\n",
    "- R^2: 8.872658e-01 \n",
    "- Также хорошие результаты, немного уступающие Random Forest.\n",
    "\n",
    "\n",
    "**Support Vector Regressor:**\n",
    "- MSE: 1.779497e-01\n",
    "- R^2: 8.220503e-01\n",
    "- Хорошие результаты, но немного хуже, чем у ансамблевых методов.\n",
    "\n",
    "\n",
    "**Neural Network:**\n",
    "- MSE: 1.126320e-01\n",
    "- R^2: 8.873680e-01\n",
    "- Результаты очень близки к Gradient Boosting, показывая хорошую производительность.\n"
   ]
  },
  {
   "cell_type": "markdown",
   "metadata": {},
   "source": [
    "### Model without job_title"
   ]
  },
  {
   "cell_type": "code",
   "execution_count": 22,
   "metadata": {},
   "outputs": [],
   "source": [
    "X = df.drop(['salary', 'job_title'], axis=1)\n",
    "y = df['salary']\n",
    "\n",
    "X_train, X_test, y_train, y_test = train_test_split(X, y, test_size=0.2, random_state=42)\n",
    "\n",
    "scaler = StandardScaler()\n",
    "X_train = scaler.fit_transform(X_train)\n",
    "X_test = scaler.transform(X_test)\n",
    "y_train = scaler.fit_transform(y_train.values.reshape(-1, 1)).flatten()\n",
    "y_test = scaler.fit_transform(y_test.values.reshape(-1, 1)).flatten()"
   ]
  },
  {
   "cell_type": "code",
   "execution_count": 23,
   "metadata": {},
   "outputs": [
    {
     "data": {
      "text/html": [
       "<div>\n",
       "<style scoped>\n",
       "    .dataframe tbody tr th:only-of-type {\n",
       "        vertical-align: middle;\n",
       "    }\n",
       "\n",
       "    .dataframe tbody tr th {\n",
       "        vertical-align: top;\n",
       "    }\n",
       "\n",
       "    .dataframe thead th {\n",
       "        text-align: right;\n",
       "    }\n",
       "</style>\n",
       "<table border=\"1\" class=\"dataframe\">\n",
       "  <thead>\n",
       "    <tr style=\"text-align: right;\">\n",
       "      <th></th>\n",
       "      <th>Model</th>\n",
       "      <th>MSE</th>\n",
       "      <th>R^2</th>\n",
       "    </tr>\n",
       "  </thead>\n",
       "  <tbody>\n",
       "    <tr>\n",
       "      <th>0</th>\n",
       "      <td>Linear Regression</td>\n",
       "      <td>0.271739</td>\n",
       "      <td>0.728261</td>\n",
       "    </tr>\n",
       "    <tr>\n",
       "      <th>1</th>\n",
       "      <td>Random Forest</td>\n",
       "      <td>0.205521</td>\n",
       "      <td>0.794479</td>\n",
       "    </tr>\n",
       "    <tr>\n",
       "      <th>2</th>\n",
       "      <td>Gradient Boosting</td>\n",
       "      <td>0.200901</td>\n",
       "      <td>0.799099</td>\n",
       "    </tr>\n",
       "    <tr>\n",
       "      <th>3</th>\n",
       "      <td>Support Vector Regressor</td>\n",
       "      <td>0.214020</td>\n",
       "      <td>0.785980</td>\n",
       "    </tr>\n",
       "    <tr>\n",
       "      <th>4</th>\n",
       "      <td>Neural network</td>\n",
       "      <td>0.204852</td>\n",
       "      <td>0.795148</td>\n",
       "    </tr>\n",
       "  </tbody>\n",
       "</table>\n",
       "</div>"
      ],
      "text/plain": [
       "                      Model       MSE       R^2\n",
       "0         Linear Regression  0.271739  0.728261\n",
       "1             Random Forest  0.205521  0.794479\n",
       "2         Gradient Boosting  0.200901  0.799099\n",
       "3  Support Vector Regressor  0.214020  0.785980\n",
       "4            Neural network  0.204852  0.795148"
      ]
     },
     "execution_count": 23,
     "metadata": {},
     "output_type": "execute_result"
    }
   ],
   "source": [
    "models = {\n",
    "    'Linear Regression': LinearRegression(),\n",
    "    'Random Forest': RandomForestRegressor(random_state=42),\n",
    "    'Gradient Boosting': GradientBoostingRegressor(random_state=42),\n",
    "    'Support Vector Regressor': SVR(),\n",
    "    'Neural network': MLPRegressor(random_state=42, max_iter=1000)\n",
    "}\n",
    "\n",
    "results = []\n",
    "for name, model in models.items():\n",
    "    model.fit(X_train, y_train)\n",
    "    y_pred = model.predict(X_test)\n",
    "    mse = mean_squared_error(y_test, y_pred)\n",
    "    r2 = r2_score(y_test, y_pred)\n",
    "    results.append({'Model': name, 'MSE': mse, 'R^2': r2})\n",
    "\n",
    "df_results_2 = pd.DataFrame(results)\n",
    "df_results_2"
   ]
  },
  {
   "cell_type": "code",
   "execution_count": 25,
   "metadata": {},
   "outputs": [
    {
     "data": {
      "image/png": "[encoded data removed]",
      "text/plain": [
       "<Figure size 1000x600 with 2 Axes>"
      ]
     },
     "metadata": {},
     "output_type": "display_data"
    }
   ],
   "source": [
    "# Создаем фигуру с двумя осями Y\n",
    "fig, ax1 = plt.subplots(figsize=(10, 6))\n",
    "ax2 = ax1.twinx()\n",
    "\n",
    "# Ширина столбцов\n",
    "width = 0.35\n",
    "\n",
    "# Позиции для столбцов\n",
    "x = np.arange(len(df_results_2))\n",
    "\n",
    "# Создаем столбцы для MSE и R^2\n",
    "rects1 = ax1.bar(x - width/2, df_results_2['MSE'], width, label='MSE', color='skyblue')\n",
    "rects2 = ax2.bar(x + width/2, df_results_2['R^2'], width, label='R^2', color='lightgreen')\n",
    "\n",
    "# Настройка осей и меток\n",
    "ax1.set_xlabel('Models')\n",
    "ax1.set_ylabel('Mean Squared Error (MSE)')\n",
    "ax2.set_ylabel('R^2 Score')\n",
    "\n",
    "ax1.set_xticks(x)\n",
    "ax1.set_xticklabels(df_results['Model'], rotation=45, ha='right')\n",
    "\n",
    "ax1.set_yscale('log')  # Логарифмическая шкала для MSE\n",
    "ax1.set_ylim(1e-3, 1)  # Устанавливаем пределы для MSE\n",
    "ax2.set_ylim(0.5, 1)   # Устанавливаем пределы для R^2\n",
    "\n",
    "# Добавляем значения на столбцы\n",
    "def autolabel(rects, ax):\n",
    "    for rect in rects:\n",
    "        height = rect.get_height()\n",
    "        ax.annotate(f'{height:.3f}',\n",
    "                    xy=(rect.get_x() + rect.get_width() / 2, height),\n",
    "                    xytext=(0, 3),  # 3 points vertical offset\n",
    "                    textcoords=\"offset points\",\n",
    "                    ha='center', va='bottom', rotation=90)\n",
    "\n",
    "autolabel(rects1, ax1)\n",
    "autolabel(rects2, ax2)\n",
    "\n",
    "# Добавляем легенду\n",
    "ax1.legend(loc='upper left')\n",
    "ax2.legend(loc='upper right')\n",
    "\n",
    "plt.title('Model Comparison: MSE and R^2 Scores')\n",
    "plt.tight_layout()\n",
    "plt.show()"
   ]
  },
  {
   "cell_type": "markdown",
   "metadata": {},
   "source": [
    "# Conclusion for the model without job title\n",
    "\n",
    "\n",
    "**Linear Regression:**\n",
    "- MSE: 0.271739\t\n",
    "- R^2: 0.728261\n",
    "- показывает наихудшие результаты среди всех моделей, но все еще демонстрирует приемлемую производительность.\n",
    "\n",
    "\n",
    "**Random Forest:**\n",
    "- MSE: 90.205521\t\n",
    "- R^2: 0.794479\n",
    "\n",
    "\n",
    "**Gradient Boosting:**\n",
    "- MSE: 0.200901\n",
    "- R^2: 0.799099\n",
    "- показывает лучшие результаты с наименьшим MSE(0.200901) и наивысшим R^2(0.799099). \n",
    "\n",
    "\n",
    "**Support Vector Regressor:**\n",
    "- MSE: 0.214020\t\n",
    "- R^2: 0.785980\n",
    "-  показывает хорошие результаты, но немного уступает трем предыдущим моделям. \n",
    "\n",
    "\n",
    "**Neural Network:**\n",
    "- MSE: 0.204852\t\n",
    "- R^2: 0.795148\n",
    "\n",
    "\n",
    "Выводы:\n",
    "- Все модели имеют MSE меньше 0.3, что хорошо для стандартизированных данных.\n",
    "- Меньшие значения MSE указывают на лучшую точность предсказаний.\n",
    "- Все модели имеют R^2 выше 0.72, что указывает на хорошую объяснительную способность.\n",
    "- Значения R^2 близки к 0.8, что означает, что модели объясняют около 80% вариации в данных."
   ]
  },
  {
   "cell_type": "markdown",
   "metadata": {},
   "source": [
    "# Comparison of the best performance of models\n",
    "\n",
    "### Model with job title:\n",
    "**Random Forest:**\n",
    "- MSE: 9.621927e-02\n",
    "- R^2: 9.037807e-01\n",
    "\n",
    "\n",
    "### Model without job title:\n",
    "**Gradient Boosting:**\n",
    "- MSE: 0.200901\n",
    "- R^2: 0.799099\n",
    "\n"
   ]
  },
  {
   "cell_type": "code",
   "execution_count": 27,
   "metadata": {},
   "outputs": [
    {
     "data": {
      "image/png": "[encoded data removed]",
      "text/plain": [
       "<Figure size 800x600 with 2 Axes>"
      ]
     },
     "metadata": {},
     "output_type": "display_data"
    }
   ],
   "source": [
    "import matplotlib.pyplot as plt\n",
    "import numpy as np\n",
    "\n",
    "# Данные\n",
    "models = ['With Job title\\n(Random Forest)', 'Without Job title\\n(Gradient Boosting)']\n",
    "mse = [9.621927e-02, 0.200901]\n",
    "r2 = [9.037807e-01, 0.799099]\n",
    "\n",
    "# Создаем фигуру с двумя осями Y\n",
    "fig, ax1 = plt.subplots(figsize=(8, 6))\n",
    "ax2 = ax1.twinx()\n",
    "\n",
    "# Ширина столбцов\n",
    "width = 0.35\n",
    "\n",
    "# Позиции для столбцов\n",
    "x = np.arange(len(models))\n",
    "\n",
    "# Создаем столбцы для MSE и R^2\n",
    "rects1 = ax1.bar(x - width/2, mse, width, label='MSE', color='skyblue')\n",
    "rects2 = ax2.bar(x + width/2, r2, width, label='R^2', color='lightgreen')\n",
    "\n",
    "# Настройка осей и меток\n",
    "ax1.set_xlabel('Models')\n",
    "ax1.set_ylabel('Mean Squared Error (MSE)')\n",
    "ax2.set_ylabel('R^2 Score')\n",
    "\n",
    "ax1.set_xticks(x)\n",
    "ax1.set_xticklabels(models)\n",
    "\n",
    "ax1.set_ylim(0, max(mse) * 1.2)  # Устанавливаем пределы для MSE\n",
    "ax2.set_ylim(0, 1)  # Устанавливаем пределы для R^2\n",
    "\n",
    "# Добавляем значения на столбцы\n",
    "def autolabel(rects, ax):\n",
    "    for rect in rects:\n",
    "        height = rect.get_height()\n",
    "        ax.annotate(f'{height:.4f}',\n",
    "                    xy=(rect.get_x() + rect.get_width() / 2, height),\n",
    "                    xytext=(0, 3),  # 3 points vertical offset\n",
    "                    textcoords=\"offset points\",\n",
    "                    ha='center', va='bottom')\n",
    "\n",
    "autolabel(rects1, ax1)\n",
    "autolabel(rects2, ax2)\n",
    "\n",
    "# Добавляем легенду\n",
    "ax1.legend(loc='upper left')\n",
    "ax2.legend(loc='upper right')\n",
    "\n",
    "plt.title('Comparison of Best Performing Models')\n",
    "plt.tight_layout()\n",
    "plt.show()"
   ]
  },
  {
   "cell_type": "markdown",
   "metadata": {},
   "source": [
    "- Модель Random Forest с учетом должности имеет более низкое MSE и более высокий R^2, что указывает на лучшую производительность.\n",
    "- Модель Gradient Boosting без учета должности также показывает хорошие результаты, но уступает модели с учетом должности."
   ]
  }
 ],
 "metadata": {
  "kernelspec": {
   "display_name": "base",
   "language": "python",
   "name": "python3"
  },
  "language_info": {
   "codemirror_mode": {
    "name": "ipython",
    "version": 3
   },
   "file_extension": ".py",
   "mimetype": "text/x-python",
   "name": "python",
   "nbconvert_exporter": "python",
   "pygments_lexer": "ipython3",
   "version": "3.11.9"
  }
 },
 "nbformat": 4,
 "nbformat_minor": 2
}
