{
  "cells": [
    {
      "cell_type": "markdown",
      "metadata": {
        "colab_type": "text",
        "id": "view-in-github"
      },
      "source": [
        "<a href=\"https://colab.research.google.com/github/Alona7777/Data_Science/blob/main/%D0%9F%D1%80%D0%B8%D0%BA%D0%BB%D0%B0%D0%B4_%D1%80%D0%B5%D0%BA_%D1%81%D0%B8%D1%81_%D0%BC%D0%B0_%D0%BA%D0%BD%D0%B8%D0%B3%D0%B8.ipynb\" target=\"_parent\"><img src=\"https://colab.research.google.com/assets/colab-badge.svg\" alt=\"Open In Colab\"/></a>"
      ]
    },
    {
      "cell_type": "code",
      "execution_count": 1,
      "metadata": {
        "id": "rqlN07y7fCAd"
      },
      "outputs": [],
      "source": [
        "import pandas as pd\n",
        "import seaborn as sns\n",
        "import matplotlib.pyplot as plt\n",
        "import requests\n"
      ]
    },
    {
      "cell_type": "code",
      "execution_count": null,
      "metadata": {
        "colab": {
          "base_uri": "https://localhost:8080/"
        },
        "id": "fSpRCwN4grjP",
        "outputId": "aa097a3a-4f6c-4bce-bbd5-26ffdbc8f226"
      },
      "outputs": [
        {
          "name": "stdout",
          "output_type": "stream",
          "text": [
            "Mounted at /content/drive\n"
          ]
        }
      ],
      "source": [
        "# #Під'єднуємось до гугл диску\n",
        "# from google.colab import drive\n",
        "# drive.mount('/content/drive')"
      ]
    },
    {
      "cell_type": "markdown",
      "metadata": {},
      "source": [
        "# Data preparation and analysis"
      ]
    },
    {
      "cell_type": "markdown",
      "metadata": {},
      "source": [
        "### Users\n"
      ]
    },
    {
      "cell_type": "code",
      "execution_count": 4,
      "metadata": {
        "colab": {
          "base_uri": "https://localhost:8080/"
        },
        "id": "zhQvmvdXe6JQ",
        "outputId": "4069b8c4-1127-4aa6-f110-19a43c1d7d91"
      },
      "outputs": [
        {
          "name": "stdout",
          "output_type": "stream",
          "text": [
            "   user_id                            location   age\n",
            "0        1                  nyc, new york, usa   NaN\n",
            "1        2           stockton, california, usa  18.0\n",
            "2        3     moscow, yukon territory, russia   NaN\n",
            "3        4           porto, v.n.gaia, portugal  17.0\n",
            "4        5  farnborough, hants, united kingdom   NaN\n"
          ]
        }
      ],
      "source": [
        "# Задаємо назви стовпців для користувачів\n",
        "u_cols = ['user_id', 'location', 'age']\n",
        "\n",
        "# Зчитуємо дані з CSV файлу в DataFrame\n",
        "users = pd.read_csv('BX-Users.csv', sep=';', encoding='latin-1', low_memory=False)\n",
        "\n",
        "# rename columns in lover case\n",
        "users.columns = u_cols\n",
        "\n",
        "print(users.head())\n"
      ]
    },
    {
      "cell_type": "code",
      "execution_count": 9,
      "metadata": {},
      "outputs": [
        {
          "name": "stdout",
          "output_type": "stream",
          "text": [
            "(278855, 3)\n",
            "user_id       int64\n",
            "location     object\n",
            "age         float64\n",
            "dtype: object\n"
          ]
        }
      ],
      "source": [
        "users = users.drop(users.index[0])\n",
        "print(users.shape)\n",
        "print(users.dtypes)"
      ]
    },
    {
      "cell_type": "code",
      "execution_count": 17,
      "metadata": {},
      "outputs": [
        {
          "data": {
            "text/plain": [
              "user_id          0\n",
              "location         0\n",
              "age         110760\n",
              "dtype: int64"
            ]
          },
          "execution_count": 17,
          "metadata": {},
          "output_type": "execute_result"
        }
      ],
      "source": [
        "users.isnull().sum()"
      ]
    },
    {
      "cell_type": "code",
      "execution_count": 19,
      "metadata": {},
      "outputs": [
        {
          "data": {
            "text/plain": [
              "count    168095.000000\n",
              "mean         34.751533\n",
              "std          14.428082\n",
              "min           0.000000\n",
              "25%          24.000000\n",
              "50%          32.000000\n",
              "75%          44.000000\n",
              "max         244.000000\n",
              "Name: age, dtype: float64"
            ]
          },
          "execution_count": 19,
          "metadata": {},
          "output_type": "execute_result"
        }
      ],
      "source": [
        "users['age'].describe()"
      ]
    },
    {
      "cell_type": "code",
      "execution_count": 21,
      "metadata": {},
      "outputs": [
        {
          "data": {
            "text/plain": [
              "user_id     0\n",
              "location    0\n",
              "age         0\n",
              "dtype: int64"
            ]
          },
          "execution_count": 21,
          "metadata": {},
          "output_type": "execute_result"
        }
      ],
      "source": [
        "import numpy as np\n",
        "users.loc[(users.age>99) | (users.age<5),'age'] = np.nan\n",
        "users.age = users.age.fillna(users.age.mean())\n",
        "users.isnull().sum()"
      ]
    },
    {
      "cell_type": "markdown",
      "metadata": {},
      "source": [
        "### Books (items)"
      ]
    },
    {
      "cell_type": "code",
      "execution_count": 11,
      "metadata": {
        "colab": {
          "base_uri": "https://localhost:8080/"
        },
        "id": "GSbmCmH0h5OF",
        "outputId": "664d5c3c-8466-4669-d50b-153b347f2f78"
      },
      "outputs": [
        {
          "name": "stdout",
          "output_type": "stream",
          "text": [
            "         isbn                                         book_title  \\\n",
            "0  0195153448                                Classical Mythology   \n",
            "1  0002005018                                       Clara Callan   \n",
            "2  0060973129                               Decision in Normandy   \n",
            "3  0374157065  Flu: The Story of the Great Influenza Pandemic...   \n",
            "4  0393045218                             The Mummies of Urumchi   \n",
            "\n",
            "            book_author  year_of_publication                publisher  \\\n",
            "0    Mark P. O. Morford                 2002  Oxford University Press   \n",
            "1  Richard Bruce Wright                 2001    HarperFlamingo Canada   \n",
            "2          Carlo D'Este                 1991          HarperPerennial   \n",
            "3      Gina Bari Kolata                 1999     Farrar Straus Giroux   \n",
            "4       E. J. W. Barber                 1999   W. W. Norton & Company   \n",
            "\n",
            "                                               img_s  \\\n",
            "0  http://images.amazon.com/images/P/0195153448.0...   \n",
            "1  http://images.amazon.com/images/P/0002005018.0...   \n",
            "2  http://images.amazon.com/images/P/0060973129.0...   \n",
            "3  http://images.amazon.com/images/P/0374157065.0...   \n",
            "4  http://images.amazon.com/images/P/0393045218.0...   \n",
            "\n",
            "                                               img_m  \\\n",
            "0  http://images.amazon.com/images/P/0195153448.0...   \n",
            "1  http://images.amazon.com/images/P/0002005018.0...   \n",
            "2  http://images.amazon.com/images/P/0060973129.0...   \n",
            "3  http://images.amazon.com/images/P/0374157065.0...   \n",
            "4  http://images.amazon.com/images/P/0393045218.0...   \n",
            "\n",
            "                                               img_l  \n",
            "0  http://images.amazon.com/images/P/0195153448.0...  \n",
            "1  http://images.amazon.com/images/P/0002005018.0...  \n",
            "2  http://images.amazon.com/images/P/0060973129.0...  \n",
            "3  http://images.amazon.com/images/P/0374157065.0...  \n",
            "4  http://images.amazon.com/images/P/0393045218.0...  \n"
          ]
        }
      ],
      "source": [
        "# Задаємо назви стовпців для книг\n",
        "i_cols = ['isbn', 'book_title', 'book_author', 'year_of_publication', 'publisher', 'img_s', 'img_m', 'img_l']\n",
        "\n",
        "# Зчитуємо дані з CSV файлу в DataFrame\n",
        "items = pd.read_csv('BX_Books.csv', sep=';', encoding='latin-1', low_memory=False)\n",
        "\n",
        "# rename columns in lover case\n",
        "items.columns = i_cols\n",
        "# Виводимо перші кілька рядків для перевірки\n",
        "print(items.head())\n"
      ]
    },
    {
      "cell_type": "code",
      "execution_count": 12,
      "metadata": {},
      "outputs": [
        {
          "name": "stdout",
          "output_type": "stream",
          "text": [
            "         isbn                                         book_title  \\\n",
            "1  0002005018                                       Clara Callan   \n",
            "2  0060973129                               Decision in Normandy   \n",
            "3  0374157065  Flu: The Story of the Great Influenza Pandemic...   \n",
            "4  0393045218                             The Mummies of Urumchi   \n",
            "5  0399135782                             The Kitchen God's Wife   \n",
            "\n",
            "            book_author  year_of_publication               publisher  \n",
            "1  Richard Bruce Wright                 2001   HarperFlamingo Canada  \n",
            "2          Carlo D'Este                 1991         HarperPerennial  \n",
            "3      Gina Bari Kolata                 1999    Farrar Straus Giroux  \n",
            "4       E. J. W. Barber                 1999  W. W. Norton & Company  \n",
            "5               Amy Tan                 1991        Putnam Pub Group  \n"
          ]
        }
      ],
      "source": [
        "items = items.drop(items.index[0])\n",
        "items = items.drop(columns=['img_s', 'img_m', 'img_l'])\n",
        "print(items.head())\n"
      ]
    },
    {
      "cell_type": "code",
      "execution_count": 13,
      "metadata": {},
      "outputs": [
        {
          "name": "stdout",
          "output_type": "stream",
          "text": [
            "(271378, 5)\n",
            "isbn                   object\n",
            "book_title             object\n",
            "book_author            object\n",
            "year_of_publication     int64\n",
            "publisher              object\n",
            "dtype: object\n"
          ]
        }
      ],
      "source": [
        "print(items.shape)\n",
        "print(items.dtypes)"
      ]
    },
    {
      "cell_type": "code",
      "execution_count": 18,
      "metadata": {},
      "outputs": [
        {
          "data": {
            "text/plain": [
              "isbn                   0\n",
              "book_title             0\n",
              "book_author            2\n",
              "year_of_publication    0\n",
              "publisher              2\n",
              "dtype: int64"
            ]
          },
          "execution_count": 18,
          "metadata": {},
          "output_type": "execute_result"
        }
      ],
      "source": [
        "items.isnull().sum()"
      ]
    },
    {
      "cell_type": "code",
      "execution_count": 22,
      "metadata": {},
      "outputs": [
        {
          "data": {
            "text/html": [
              "<div>\n",
              "<style scoped>\n",
              "    .dataframe tbody tr th:only-of-type {\n",
              "        vertical-align: middle;\n",
              "    }\n",
              "\n",
              "    .dataframe tbody tr th {\n",
              "        vertical-align: top;\n",
              "    }\n",
              "\n",
              "    .dataframe thead th {\n",
              "        text-align: right;\n",
              "    }\n",
              "</style>\n",
              "<table border=\"1\" class=\"dataframe\">\n",
              "  <thead>\n",
              "    <tr style=\"text-align: right;\">\n",
              "      <th></th>\n",
              "      <th>isbn</th>\n",
              "      <th>book_title</th>\n",
              "      <th>book_author</th>\n",
              "      <th>year_of_publication</th>\n",
              "      <th>publisher</th>\n",
              "    </tr>\n",
              "  </thead>\n",
              "  <tbody>\n",
              "    <tr>\n",
              "      <th>128896</th>\n",
              "      <td>193169656X</td>\n",
              "      <td>Tyrant Moon</td>\n",
              "      <td>Elaine Corvidae</td>\n",
              "      <td>2002</td>\n",
              "      <td>NaN</td>\n",
              "    </tr>\n",
              "    <tr>\n",
              "      <th>129043</th>\n",
              "      <td>1931696993</td>\n",
              "      <td>Finders Keepers</td>\n",
              "      <td>Linnea Sinclair</td>\n",
              "      <td>2001</td>\n",
              "      <td>NaN</td>\n",
              "    </tr>\n",
              "  </tbody>\n",
              "</table>\n",
              "</div>"
            ],
            "text/plain": [
              "              isbn       book_title      book_author  year_of_publication  \\\n",
              "128896  193169656X      Tyrant Moon  Elaine Corvidae                 2002   \n",
              "129043  1931696993  Finders Keepers  Linnea Sinclair                 2001   \n",
              "\n",
              "       publisher  \n",
              "128896       NaN  \n",
              "129043       NaN  "
            ]
          },
          "execution_count": 22,
          "metadata": {},
          "output_type": "execute_result"
        }
      ],
      "source": [
        "items.loc[items.publisher.isnull(),:]"
      ]
    },
    {
      "cell_type": "code",
      "execution_count": 23,
      "metadata": {},
      "outputs": [
        {
          "name": "stdout",
          "output_type": "stream",
          "text": [
            "[0, 1376, 1378, 1806, 1897, 1900, 1901, 1902, 1904, 1906, 1908, 1909, 1910, 1911, 1914, 1917, 1919, 1920, 1921, 1922, 1923, 1924, 1925, 1926, 1927, 1928, 1929, 1930, 1931, 1932, 1933, 1934, 1935, 1936, 1937, 1938, 1939, 1940, 1941, 1942, 1943, 1944, 1945, 1946, 1947, 1948, 1949, 1950, 1951, 1952, 1953, 1954, 1955, 1956, 1957, 1958, 1959, 1960, 1961, 1962, 1963, 1964, 1965, 1966, 1967, 1968, 1969, 1970, 1971, 1972, 1973, 1974, 1975, 1976, 1977, 1978, 1979, 1980, 1981, 1982, 1983, 1984, 1985, 1986, 1987, 1988, 1989, 1990, 1991, 1992, 1993, 1994, 1995, 1996, 1997, 1998, 1999, 2000, 2001, 2002, 2003, 2004, 2005, 2006, 2008, 2010, 2011, 2012, 2020, 2021, 2024, 2026, 2030, 2037, 2038, 2050]\n"
          ]
        }
      ],
      "source": [
        "print(sorted(items['year_of_publication'].unique()))"
      ]
    },
    {
      "cell_type": "code",
      "execution_count": 24,
      "metadata": {},
      "outputs": [],
      "source": [
        "items.loc[(items.year_of_publication==0)|(items.year_of_publication>2008) ,'year_of_publication' ] = np.nan\n",
        "items.year_of_publication = items.year_of_publication.fillna(round(items.year_of_publication.mean()))"
      ]
    },
    {
      "cell_type": "markdown",
      "metadata": {},
      "source": [
        "### Books ratings"
      ]
    },
    {
      "cell_type": "code",
      "execution_count": 14,
      "metadata": {
        "colab": {
          "base_uri": "https://localhost:8080/"
        },
        "id": "bIQJi8fKiHsP",
        "outputId": "34e6c3b3-9f36-45ce-d120-b6fea5d5baa1"
      },
      "outputs": [
        {
          "name": "stdout",
          "output_type": "stream",
          "text": [
            "   user_id        isbn  rating\n",
            "0   276725  034545104X       0\n",
            "1   276726  0155061224       5\n",
            "2   276727  0446520802       0\n",
            "3   276729  052165615X       3\n",
            "4   276729  0521795028       6\n"
          ]
        }
      ],
      "source": [
        "# Задаємо назви стовпців для рейтингів\n",
        "r_cols = ['user_id', 'isbn', 'rating']\n",
        "\n",
        "# Зчитуємо дані з CSV файлу в DataFrame\n",
        "ratings = pd.read_csv('BX-Book-Ratings.csv', sep=';', encoding='latin-1', low_memory=False)\n",
        "\n",
        "# rename columns in lover case\n",
        "ratings.columns = r_cols\n",
        "# Виводимо перші кілька рядків для перевірки\n",
        "print(ratings.head())\n"
      ]
    },
    {
      "cell_type": "code",
      "execution_count": 16,
      "metadata": {
        "id": "pz_tC5VNiogi"
      },
      "outputs": [
        {
          "name": "stdout",
          "output_type": "stream",
          "text": [
            "(1149778, 3)\n",
            "user_id     int64\n",
            "isbn       object\n",
            "rating      int64\n",
            "dtype: object\n"
          ]
        }
      ],
      "source": [
        "ratings = ratings.drop(ratings.index[0])\n",
        "print(ratings.shape)\n",
        "print(ratings.dtypes)"
      ]
    },
    {
      "cell_type": "code",
      "execution_count": null,
      "metadata": {
        "colab": {
          "base_uri": "https://localhost:8080/"
        },
        "id": "0iP1ObuejadX",
        "outputId": "d83f6c49-16e9-4d0e-fb8f-ac8f792dc7a8"
      },
      "outputs": [
        {
          "data": {
            "text/plain": [
              "user_id    0\n",
              "isbn       0\n",
              "rating     0\n",
              "dtype: int64"
            ]
          },
          "execution_count": 15,
          "metadata": {},
          "output_type": "execute_result"
        }
      ],
      "source": [
        "ratings.isnull().sum()"
      ]
    },
    {
      "cell_type": "markdown",
      "metadata": {},
      "source": [
        "### Combining into one df"
      ]
    },
    {
      "cell_type": "code",
      "execution_count": 25,
      "metadata": {
        "colab": {
          "base_uri": "https://localhost:8080/",
          "height": 382
        },
        "id": "UpUhBT-qkRYp",
        "outputId": "47895cf6-c3f9-4c2f-f293-66df0f4a21bf"
      },
      "outputs": [
        {
          "data": {
            "text/html": [
              "<div>\n",
              "<style scoped>\n",
              "    .dataframe tbody tr th:only-of-type {\n",
              "        vertical-align: middle;\n",
              "    }\n",
              "\n",
              "    .dataframe tbody tr th {\n",
              "        vertical-align: top;\n",
              "    }\n",
              "\n",
              "    .dataframe thead th {\n",
              "        text-align: right;\n",
              "    }\n",
              "</style>\n",
              "<table border=\"1\" class=\"dataframe\">\n",
              "  <thead>\n",
              "    <tr style=\"text-align: right;\">\n",
              "      <th></th>\n",
              "      <th>user_id</th>\n",
              "      <th>location</th>\n",
              "      <th>age</th>\n",
              "      <th>isbn</th>\n",
              "      <th>rating</th>\n",
              "      <th>book_title</th>\n",
              "      <th>book_author</th>\n",
              "      <th>year_of_publication</th>\n",
              "      <th>publisher</th>\n",
              "    </tr>\n",
              "  </thead>\n",
              "  <tbody>\n",
              "    <tr>\n",
              "      <th>0</th>\n",
              "      <td>8</td>\n",
              "      <td>timmins, ontario, canada</td>\n",
              "      <td>34.744</td>\n",
              "      <td>0002005018</td>\n",
              "      <td>5</td>\n",
              "      <td>Clara Callan</td>\n",
              "      <td>Richard Bruce Wright</td>\n",
              "      <td>2001.0</td>\n",
              "      <td>HarperFlamingo Canada</td>\n",
              "    </tr>\n",
              "    <tr>\n",
              "      <th>1</th>\n",
              "      <td>11400</td>\n",
              "      <td>ottawa, ontario, canada</td>\n",
              "      <td>49.000</td>\n",
              "      <td>0002005018</td>\n",
              "      <td>0</td>\n",
              "      <td>Clara Callan</td>\n",
              "      <td>Richard Bruce Wright</td>\n",
              "      <td>2001.0</td>\n",
              "      <td>HarperFlamingo Canada</td>\n",
              "    </tr>\n",
              "    <tr>\n",
              "      <th>2</th>\n",
              "      <td>11676</td>\n",
              "      <td>n/a, n/a, n/a</td>\n",
              "      <td>34.744</td>\n",
              "      <td>0002005018</td>\n",
              "      <td>8</td>\n",
              "      <td>Clara Callan</td>\n",
              "      <td>Richard Bruce Wright</td>\n",
              "      <td>2001.0</td>\n",
              "      <td>HarperFlamingo Canada</td>\n",
              "    </tr>\n",
              "    <tr>\n",
              "      <th>3</th>\n",
              "      <td>41385</td>\n",
              "      <td>sudbury, ontario, canada</td>\n",
              "      <td>34.744</td>\n",
              "      <td>0002005018</td>\n",
              "      <td>0</td>\n",
              "      <td>Clara Callan</td>\n",
              "      <td>Richard Bruce Wright</td>\n",
              "      <td>2001.0</td>\n",
              "      <td>HarperFlamingo Canada</td>\n",
              "    </tr>\n",
              "    <tr>\n",
              "      <th>4</th>\n",
              "      <td>67544</td>\n",
              "      <td>toronto, ontario, canada</td>\n",
              "      <td>30.000</td>\n",
              "      <td>0002005018</td>\n",
              "      <td>8</td>\n",
              "      <td>Clara Callan</td>\n",
              "      <td>Richard Bruce Wright</td>\n",
              "      <td>2001.0</td>\n",
              "      <td>HarperFlamingo Canada</td>\n",
              "    </tr>\n",
              "  </tbody>\n",
              "</table>\n",
              "</div>"
            ],
            "text/plain": [
              "   user_id                  location     age        isbn  rating  \\\n",
              "0        8  timmins, ontario, canada  34.744  0002005018       5   \n",
              "1    11400   ottawa, ontario, canada  49.000  0002005018       0   \n",
              "2    11676             n/a, n/a, n/a  34.744  0002005018       8   \n",
              "3    41385  sudbury, ontario, canada  34.744  0002005018       0   \n",
              "4    67544  toronto, ontario, canada  30.000  0002005018       8   \n",
              "\n",
              "     book_title           book_author  year_of_publication  \\\n",
              "0  Clara Callan  Richard Bruce Wright               2001.0   \n",
              "1  Clara Callan  Richard Bruce Wright               2001.0   \n",
              "2  Clara Callan  Richard Bruce Wright               2001.0   \n",
              "3  Clara Callan  Richard Bruce Wright               2001.0   \n",
              "4  Clara Callan  Richard Bruce Wright               2001.0   \n",
              "\n",
              "               publisher  \n",
              "0  HarperFlamingo Canada  \n",
              "1  HarperFlamingo Canada  \n",
              "2  HarperFlamingo Canada  \n",
              "3  HarperFlamingo Canada  \n",
              "4  HarperFlamingo Canada  "
            ]
          },
          "execution_count": 25,
          "metadata": {},
          "output_type": "execute_result"
        }
      ],
      "source": [
        "df = pd.merge(users, ratings, on='user_id')\n",
        "df = pd.merge(df, items, on='isbn')\n",
        "df.head(5)"
      ]
    },
    {
      "cell_type": "code",
      "execution_count": null,
      "metadata": {
        "colab": {
          "base_uri": "https://localhost:8080/"
        },
        "id": "TdfDN_1NkZVf",
        "outputId": "a7d004f2-51f7-45d4-815b-afa057bd5707"
      },
      "outputs": [
        {
          "data": {
            "text/plain": [
              "(1031175, 12)"
            ]
          },
          "execution_count": 21,
          "metadata": {},
          "output_type": "execute_result"
        }
      ],
      "source": [
        "df.shape"
      ]
    },
    {
      "cell_type": "markdown",
      "metadata": {},
      "source": [
        "# Creating recommendations with scikit-surprise"
      ]
    },
    {
      "cell_type": "code",
      "execution_count": 26,
      "metadata": {},
      "outputs": [],
      "source": [
        "from surprise import Dataset, Reader, SVD\n",
        "from surprise.model_selection import train_test_split\n",
        "from surprise.model_selection import cross_validate"
      ]
    },
    {
      "cell_type": "code",
      "execution_count": 27,
      "metadata": {
        "colab": {
          "base_uri": "https://localhost:8080/",
          "height": 384
        },
        "id": "Rpi-RA2Wk6h4",
        "outputId": "1249a576-be67-4096-c20a-a84a89d2c7f9"
      },
      "outputs": [
        {
          "name": "stdout",
          "output_type": "stream",
          "text": [
            "Максимальне значення рейтингу: 10\n",
            "Мінімальне значення рейтингу: 0\n",
            "Evaluating RMSE, MAE of algorithm SVD on 5 split(s).\n",
            "\n",
            "                  Fold 1  Fold 2  Fold 3  Fold 4  Fold 5  Mean    Std     \n",
            "RMSE (testset)    3.5039  3.5009  3.4993  3.4918  3.5038  3.4999  0.0044  \n",
            "MAE (testset)     2.9254  2.9221  2.9227  2.9165  2.9246  2.9223  0.0031  \n",
            "Fit time          15.50   16.08   23.53   16.56   15.82   17.50   3.04    \n",
            "Test time         3.10    4.70    1.76    1.66    1.13    2.47    1.29    \n",
            "Виведення результатів для SVD:\n",
            "RMSE: 3.499946458023671\n",
            "MAE: 2.922261213811032\n",
            "Fit Time: 17.49951810836792\n",
            "Test Time: 2.469203472137451\n",
            "\n"
          ]
        }
      ],
      "source": [
        "# Визначення структури даних для бібліотеки Surprise\n",
        "reader = Reader(rating_scale=(1, 10))\n",
        "\n",
        "# Завантаження даних в форматі, зрозумілому для Surprise\n",
        "data = Dataset.load_from_df(df[['user_id', 'isbn', 'rating']], reader)\n",
        "\n",
        "unique_users = df['user_id'].unique()\n",
        "\n",
        "# Отримання максимального та мінімального значення рейтингу з DataFrame\n",
        "max_rating = df['rating'].max()\n",
        "min_rating = df['rating'].min()\n",
        "\n",
        "print(f\"Максимальне значення рейтингу: {max_rating}\")\n",
        "print(f\"Мінімальне значення рейтингу: {min_rating}\")\n",
        "\n",
        "# Вибір алгоритму (наприклад, SVD)\n",
        "algo = SVD()\n",
        "\n",
        "# Перевірка алгоритму за допомогою крос-валідації\n",
        "result_SVD = cross_validate(algo, data, measures=['RMSE', 'MAE'], cv=5, verbose=True)\n",
        "\n",
        "# Виведення результатів для SVD\n",
        "print(\"Виведення результатів для SVD:\")\n",
        "print(\"RMSE:\", result_SVD['test_rmse'].mean())\n",
        "print(\"MAE:\", result_SVD['test_mae'].mean())\n",
        "print(\"Fit Time:\", np.mean(result_SVD['fit_time']))\n",
        "print(\"Test Time:\", np.mean(result_SVD['test_time']))\n",
        "print()"
      ]
    },
    {
      "cell_type": "code",
      "execution_count": 31,
      "metadata": {
        "colab": {
          "base_uri": "https://localhost:8080/"
        },
        "id": "a5CeCj-zfxgf",
        "outputId": "c91c5c7c-1fd1-4110-f872-cd9a64f125b6"
      },
      "outputs": [
        {
          "name": "stdout",
          "output_type": "stream",
          "text": [
            "Топ-5 рекомендацій для користувача з ID 1:\n",
            "Книга: Free - Paul Vincent, Прогнозована оцінка: 7.3\n",
            "Книга: Marching Through Culpeper : A Novel of Culpeper, Virginia, Crossroads of the Civil War - Virginia Beard Morton, Прогнозована оцінка: 6.1\n",
            "Книга: El Hobbit - J. R. R. Tolkien, Прогнозована оцінка: 5.9\n",
            "Книга: The Blue Day Book: A Lesson in Cheering Yourself Up - Bradley Trevor Greive, Прогнозована оцінка: 5.6\n",
            "Книга: Love You Forever - Robert N. Munsch, Прогнозована оцінка: 5.6\n"
          ]
        }
      ],
      "source": [
        "# Розділення даних на навчальний та тестовий набори\n",
        "trainset, testset = train_test_split(data, test_size=0.2)\n",
        "\n",
        "# Тренування моделі на навчальному наборі\n",
        "algo.fit(trainset)\n",
        "\n",
        "# Приклад: рекомендації для певного користувача (user_id = 1)\n",
        "user_id = '1'\n",
        "\n",
        "# Отримання книг, які вже оцінив користувач\n",
        "rated_books = df[df['user_id'] == user_id]['isbn'].tolist()\n",
        "\n",
        "# Генерація рекомендацій для користувача\n",
        "recommendations = []\n",
        "\n",
        "for book_id in df['isbn'].unique():\n",
        "    if book_id not in rated_books:\n",
        "        prediction = algo.predict(user_id, book_id)\n",
        "        recommendations.append((book_id, prediction.est))\n",
        "\n",
        "# Сортування рекомендацій за прогнозованою оцінкою у спадаючому порядку\n",
        "recommendations.sort(key=lambda x: x[1], reverse=True)\n",
        "\n",
        "\n",
        "# Виведення топ-5 рекомендацій\n",
        "print(f\"Топ-5 рекомендацій для користувача з ID {user_id}:\")\n",
        "for book_id, rating in recommendations[:5]:\n",
        "    book_info = df[df['isbn'] == book_id].iloc[0]\n",
        "    # print(f\"Книга: {book_info['book_title']} - {book_info['book_author']}, Прогнозована оцінка: {rating}\")\n",
        "    print(f\"Книга: {book_info['book_title']} - {book_info['book_author']}, Прогнозована оцінка: {rating:.1f}\")"
      ]
    }
  ],
  "metadata": {
    "colab": {
      "include_colab_link": true,
      "provenance": []
    },
    "kernelspec": {
      "display_name": "Python 3",
      "name": "python3"
    },
    "language_info": {
      "codemirror_mode": {
        "name": "ipython",
        "version": 3
      },
      "file_extension": ".py",
      "mimetype": "text/x-python",
      "name": "python",
      "nbconvert_exporter": "python",
      "pygments_lexer": "ipython3",
      "version": "3.11.7"
    }
  },
  "nbformat": 4,
  "nbformat_minor": 0
}
