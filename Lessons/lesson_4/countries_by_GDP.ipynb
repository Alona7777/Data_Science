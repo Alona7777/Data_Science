{
 "cells": [
  {
   "cell_type": "markdown",
   "metadata": {},
   "source": [
    "# Data analysis and preparation"
   ]
  },
  {
   "cell_type": "code",
   "execution_count": 52,
   "metadata": {},
   "outputs": [],
   "source": [
    "import pandas as pd\n",
    "import numpy as np\n",
    "import matplotlib.pyplot as plt\n",
    "import seaborn as sns\n"
   ]
  },
  {
   "cell_type": "code",
   "execution_count": 64,
   "metadata": {},
   "outputs": [
    {
     "name": "stdout",
     "output_type": "stream",
     "text": [
      "\n",
      "Table 0:\n",
      "                                                   0\n",
      "0  Largest economies in the world by GDP (nominal...\n",
      "\n",
      "Table 1:\n",
      "                                                   0  \\\n",
      "0  > $20 trillion $10–20 trillion $5–10 trillion ...   \n",
      "\n",
      "                                                   1  \\\n",
      "0  $750 billion – $1 trillion $500–750 billion $2...   \n",
      "\n",
      "                                                   2  \n",
      "0  $50–100 billion $25–50 billion $5–25 billion <...  \n",
      "\n",
      "Table 2:\n",
      "  Country/Territory   IMF[1][13]            World Bank[14]             \\\n",
      "  Country/Territory     Forecast       Year       Estimate       Year   \n",
      "0             World  109,529,216       2024    105,435,540       2023   \n",
      "1     United States   28,781,083       2024     27,360,935       2023   \n",
      "2             China   18,532,633  [n 1]2024     17,794,782  [n 3]2023   \n",
      "3           Germany    4,591,100       2024      4,456,081       2023   \n",
      "4             Japan    4,110,452       2024      4,212,945       2023   \n",
      "\n",
      "  United Nations[15]             \n",
      "            Estimate       Year  \n",
      "0        100,834,796       2022  \n",
      "1         25,744,100       2022  \n",
      "2         17,963,170  [n 1]2022  \n",
      "3          4,076,923       2022  \n",
      "4          4,232,173       2022  \n",
      "\n",
      "Table 3:\n",
      "  vteLists of countries by financial rankings  \\\n",
      "0                                       Trade   \n",
      "1                                  Investment   \n",
      "2                                       Funds   \n",
      "3                             Budget and debt   \n",
      "4                            Income and taxes   \n",
      "\n",
      "       vteLists of countries by financial rankings.1  \n",
      "0  Account balance % of GDP Exports by product me...  \n",
      "1                   FDI received past FDI abroad GFI  \n",
      "2  Forex reserves Gold reserves Sovereign wealth ...  \n",
      "3  Government budget PPP % of GDP per capita Cred...  \n",
      "4  Tax rates Inheritance tax Tax revenue Wage ave...  \n",
      "\n",
      "Table 4:\n",
      "  vteLists of countries by GDP rankings  \\\n",
      "0                               Nominal   \n",
      "1         Purchasing power parity (PPP)   \n",
      "2                           Growth rate   \n",
      "3           Gross national income (GNI)   \n",
      "4                   Countries by region   \n",
      "\n",
      "             vteLists of countries by GDP rankings.1  \n",
      "0  Per capita Past and projected per capita Secto...  \n",
      "1  Per capita Past per capita Past and projected ...  \n",
      "2  African countries Asian states European Union ...  \n",
      "3                  PPP per capita Nominal per capita  \n",
      "4  Africa PPP nominal Commonwealth of Nations PPP...  \n",
      "\n",
      "Table 5:\n",
      "             vteEconomic classification of countries  \\\n",
      "0  Developed country Developing country Heavily i...   \n",
      "1                             Three/Four-World Model   \n",
      "2                       Gross domestic product (GDP)   \n",
      "3                                            Nominal   \n",
      "4                      Purchasing power parity (PPP)   \n",
      "\n",
      "           vteEconomic classification of countries.1  \n",
      "0  Developed country Developing country Heavily i...  \n",
      "1  First World Second World Third World Fourth World  \n",
      "2  Nominal By country past and projected per capi...  \n",
      "3  By country past and projected per capita per c...  \n",
      "4  By country future estimates per capita per cap...  \n",
      "\n",
      "Table 6:\n",
      "                               0  \\\n",
      "0                        Nominal   \n",
      "1  Purchasing power parity (PPP)   \n",
      "\n",
      "                                                   1  \n",
      "0  By country past and projected per capita per c...  \n",
      "1  By country future estimates per capita per cap...  \n"
     ]
    }
   ],
   "source": [
    "source = 'https://en.wikipedia.org/wiki/List_of_countries_by_GDP_(nominal)'\n",
    "tables = pd.read_html(source, thousands=\".\", decimal=\",\")\n",
    "for i, table in enumerate(tables):\n",
    "    print(f\"\\nTable {i}:\")\n",
    "    print(table.head())"
   ]
  },
  {
   "cell_type": "code",
   "execution_count": 65,
   "metadata": {},
   "outputs": [
    {
     "data": {
      "text/html": [
       "<div>\n",
       "<style scoped>\n",
       "    .dataframe tbody tr th:only-of-type {\n",
       "        vertical-align: middle;\n",
       "    }\n",
       "\n",
       "    .dataframe tbody tr th {\n",
       "        vertical-align: top;\n",
       "    }\n",
       "\n",
       "    .dataframe thead tr th {\n",
       "        text-align: left;\n",
       "    }\n",
       "</style>\n",
       "<table border=\"1\" class=\"dataframe\">\n",
       "  <thead>\n",
       "    <tr>\n",
       "      <th></th>\n",
       "      <th>Country/Territory</th>\n",
       "      <th colspan=\"2\" halign=\"left\">IMF[1][13]</th>\n",
       "      <th colspan=\"2\" halign=\"left\">World Bank[14]</th>\n",
       "      <th colspan=\"2\" halign=\"left\">United Nations[15]</th>\n",
       "    </tr>\n",
       "    <tr>\n",
       "      <th></th>\n",
       "      <th>Country/Territory</th>\n",
       "      <th>Forecast</th>\n",
       "      <th>Year</th>\n",
       "      <th>Estimate</th>\n",
       "      <th>Year</th>\n",
       "      <th>Estimate</th>\n",
       "      <th>Year</th>\n",
       "    </tr>\n",
       "  </thead>\n",
       "  <tbody>\n",
       "    <tr>\n",
       "      <th>0</th>\n",
       "      <td>World</td>\n",
       "      <td>109,529,216</td>\n",
       "      <td>2024</td>\n",
       "      <td>105,435,540</td>\n",
       "      <td>2023</td>\n",
       "      <td>100,834,796</td>\n",
       "      <td>2022</td>\n",
       "    </tr>\n",
       "    <tr>\n",
       "      <th>1</th>\n",
       "      <td>United States</td>\n",
       "      <td>28,781,083</td>\n",
       "      <td>2024</td>\n",
       "      <td>27,360,935</td>\n",
       "      <td>2023</td>\n",
       "      <td>25,744,100</td>\n",
       "      <td>2022</td>\n",
       "    </tr>\n",
       "    <tr>\n",
       "      <th>2</th>\n",
       "      <td>China</td>\n",
       "      <td>18,532,633</td>\n",
       "      <td>[n 1]2024</td>\n",
       "      <td>17,794,782</td>\n",
       "      <td>[n 3]2023</td>\n",
       "      <td>17,963,170</td>\n",
       "      <td>[n 1]2022</td>\n",
       "    </tr>\n",
       "    <tr>\n",
       "      <th>3</th>\n",
       "      <td>Germany</td>\n",
       "      <td>4,591,100</td>\n",
       "      <td>2024</td>\n",
       "      <td>4,456,081</td>\n",
       "      <td>2023</td>\n",
       "      <td>4,076,923</td>\n",
       "      <td>2022</td>\n",
       "    </tr>\n",
       "    <tr>\n",
       "      <th>4</th>\n",
       "      <td>Japan</td>\n",
       "      <td>4,110,452</td>\n",
       "      <td>2024</td>\n",
       "      <td>4,212,945</td>\n",
       "      <td>2023</td>\n",
       "      <td>4,232,173</td>\n",
       "      <td>2022</td>\n",
       "    </tr>\n",
       "  </tbody>\n",
       "</table>\n",
       "</div>"
      ],
      "text/plain": [
       "  Country/Territory   IMF[1][13]            World Bank[14]             \\\n",
       "  Country/Territory     Forecast       Year       Estimate       Year   \n",
       "0             World  109,529,216       2024    105,435,540       2023   \n",
       "1     United States   28,781,083       2024     27,360,935       2023   \n",
       "2             China   18,532,633  [n 1]2024     17,794,782  [n 3]2023   \n",
       "3           Germany    4,591,100       2024      4,456,081       2023   \n",
       "4             Japan    4,110,452       2024      4,212,945       2023   \n",
       "\n",
       "  United Nations[15]             \n",
       "            Estimate       Year  \n",
       "0        100,834,796       2022  \n",
       "1         25,744,100       2022  \n",
       "2         17,963,170  [n 1]2022  \n",
       "3          4,076,923       2022  \n",
       "4          4,232,173       2022  "
      ]
     },
     "execution_count": 65,
     "metadata": {},
     "output_type": "execute_result"
    }
   ],
   "source": [
    "df = tables[2]\n",
    "df.head()"
   ]
  },
  {
   "cell_type": "code",
   "execution_count": 66,
   "metadata": {},
   "outputs": [
    {
     "name": "stdout",
     "output_type": "stream",
     "text": [
      "(210, 7)\n",
      "Country/Territory   Country/Territory    object\n",
      "IMF[1][13]          Forecast             object\n",
      "                    Year                 object\n",
      "World Bank[14]      Estimate             object\n",
      "                    Year                 object\n",
      "United Nations[15]  Estimate             object\n",
      "                    Year                 object\n",
      "dtype: object\n"
     ]
    }
   ],
   "source": [
    "print(df.shape)\n",
    "print(df.dtypes)"
   ]
  },
  {
   "cell_type": "code",
   "execution_count": 67,
   "metadata": {},
   "outputs": [
    {
     "data": {
      "text/html": [
       "<div>\n",
       "<style scoped>\n",
       "    .dataframe tbody tr th:only-of-type {\n",
       "        vertical-align: middle;\n",
       "    }\n",
       "\n",
       "    .dataframe tbody tr th {\n",
       "        vertical-align: top;\n",
       "    }\n",
       "\n",
       "    .dataframe thead tr th {\n",
       "        text-align: left;\n",
       "    }\n",
       "</style>\n",
       "<table border=\"1\" class=\"dataframe\">\n",
       "  <thead>\n",
       "    <tr>\n",
       "      <th></th>\n",
       "      <th>Country/Territory</th>\n",
       "      <th colspan=\"2\" halign=\"left\">IMF[1][13]</th>\n",
       "      <th colspan=\"2\" halign=\"left\">World Bank[14]</th>\n",
       "      <th colspan=\"2\" halign=\"left\">United Nations[15]</th>\n",
       "    </tr>\n",
       "    <tr>\n",
       "      <th></th>\n",
       "      <th>Country/Territory</th>\n",
       "      <th>Forecast</th>\n",
       "      <th>Year</th>\n",
       "      <th>Estimate</th>\n",
       "      <th>Year</th>\n",
       "      <th>Estimate</th>\n",
       "      <th>Year</th>\n",
       "    </tr>\n",
       "  </thead>\n",
       "  <tbody>\n",
       "    <tr>\n",
       "      <th>0</th>\n",
       "      <td>World</td>\n",
       "      <td>109,529,216</td>\n",
       "      <td>2024</td>\n",
       "      <td>105,435,540</td>\n",
       "      <td>2023</td>\n",
       "      <td>100,834,796</td>\n",
       "      <td>2022</td>\n",
       "    </tr>\n",
       "    <tr>\n",
       "      <th>1</th>\n",
       "      <td>United States</td>\n",
       "      <td>28,781,083</td>\n",
       "      <td>2024</td>\n",
       "      <td>27,360,935</td>\n",
       "      <td>2023</td>\n",
       "      <td>25,744,100</td>\n",
       "      <td>2022</td>\n",
       "    </tr>\n",
       "    <tr>\n",
       "      <th>2</th>\n",
       "      <td>China</td>\n",
       "      <td>18,532,633</td>\n",
       "      <td>2024</td>\n",
       "      <td>17,794,782</td>\n",
       "      <td>2023</td>\n",
       "      <td>17,963,170</td>\n",
       "      <td>2022</td>\n",
       "    </tr>\n",
       "    <tr>\n",
       "      <th>3</th>\n",
       "      <td>Germany</td>\n",
       "      <td>4,591,100</td>\n",
       "      <td>2024</td>\n",
       "      <td>4,456,081</td>\n",
       "      <td>2023</td>\n",
       "      <td>4,076,923</td>\n",
       "      <td>2022</td>\n",
       "    </tr>\n",
       "    <tr>\n",
       "      <th>4</th>\n",
       "      <td>Japan</td>\n",
       "      <td>4,110,452</td>\n",
       "      <td>2024</td>\n",
       "      <td>4,212,945</td>\n",
       "      <td>2023</td>\n",
       "      <td>4,232,173</td>\n",
       "      <td>2022</td>\n",
       "    </tr>\n",
       "    <tr>\n",
       "      <th>5</th>\n",
       "      <td>India</td>\n",
       "      <td>3,937,011</td>\n",
       "      <td>2024</td>\n",
       "      <td>3,549,919</td>\n",
       "      <td>2023</td>\n",
       "      <td>3,465,541</td>\n",
       "      <td>2022</td>\n",
       "    </tr>\n",
       "    <tr>\n",
       "      <th>6</th>\n",
       "      <td>United Kingdom</td>\n",
       "      <td>3,495,261</td>\n",
       "      <td>2024</td>\n",
       "      <td>3,340,032</td>\n",
       "      <td>2023</td>\n",
       "      <td>3,089,072</td>\n",
       "      <td>2022</td>\n",
       "    </tr>\n",
       "    <tr>\n",
       "      <th>7</th>\n",
       "      <td>France</td>\n",
       "      <td>3,130,014</td>\n",
       "      <td>2024</td>\n",
       "      <td>3,030,904</td>\n",
       "      <td>2023</td>\n",
       "      <td>2,775,316</td>\n",
       "      <td>2022</td>\n",
       "    </tr>\n",
       "    <tr>\n",
       "      <th>8</th>\n",
       "      <td>Brazil</td>\n",
       "      <td>2,331,391</td>\n",
       "      <td>2024</td>\n",
       "      <td>2,173,666</td>\n",
       "      <td>2023</td>\n",
       "      <td>1,920,095</td>\n",
       "      <td>2022</td>\n",
       "    </tr>\n",
       "    <tr>\n",
       "      <th>9</th>\n",
       "      <td>Italy</td>\n",
       "      <td>2,328,028</td>\n",
       "      <td>2024</td>\n",
       "      <td>2,254,851</td>\n",
       "      <td>2023</td>\n",
       "      <td>2,046,952</td>\n",
       "      <td>2022</td>\n",
       "    </tr>\n",
       "  </tbody>\n",
       "</table>\n",
       "</div>"
      ],
      "text/plain": [
       "  Country/Territory   IMF[1][13]       World Bank[14]        \\\n",
       "  Country/Territory     Forecast  Year       Estimate  Year   \n",
       "0             World  109,529,216  2024    105,435,540  2023   \n",
       "1     United States   28,781,083  2024     27,360,935  2023   \n",
       "2             China   18,532,633  2024     17,794,782  2023   \n",
       "3           Germany    4,591,100  2024      4,456,081  2023   \n",
       "4             Japan    4,110,452  2024      4,212,945  2023   \n",
       "5             India    3,937,011  2024      3,549,919  2023   \n",
       "6    United Kingdom    3,495,261  2024      3,340,032  2023   \n",
       "7            France    3,130,014  2024      3,030,904  2023   \n",
       "8            Brazil    2,331,391  2024      2,173,666  2023   \n",
       "9             Italy    2,328,028  2024      2,254,851  2023   \n",
       "\n",
       "  United Nations[15]        \n",
       "            Estimate  Year  \n",
       "0        100,834,796  2022  \n",
       "1         25,744,100  2022  \n",
       "2         17,963,170  2022  \n",
       "3          4,076,923  2022  \n",
       "4          4,232,173  2022  \n",
       "5          3,465,541  2022  \n",
       "6          3,089,072  2022  \n",
       "7          2,775,316  2022  \n",
       "8          1,920,095  2022  \n",
       "9          2,046,952  2022  "
      ]
     },
     "execution_count": 67,
     "metadata": {},
     "output_type": "execute_result"
    }
   ],
   "source": [
    "df = df.replace(r'\\[.*?\\]', '', regex=True)\n",
    "df.head(10)"
   ]
  },
  {
   "cell_type": "code",
   "execution_count": 68,
   "metadata": {},
   "outputs": [
    {
     "data": {
      "text/html": [
       "<div>\n",
       "<style scoped>\n",
       "    .dataframe tbody tr th:only-of-type {\n",
       "        vertical-align: middle;\n",
       "    }\n",
       "\n",
       "    .dataframe tbody tr th {\n",
       "        vertical-align: top;\n",
       "    }\n",
       "\n",
       "    .dataframe thead tr th {\n",
       "        text-align: left;\n",
       "    }\n",
       "</style>\n",
       "<table border=\"1\" class=\"dataframe\">\n",
       "  <thead>\n",
       "    <tr>\n",
       "      <th></th>\n",
       "      <th>Country/Territory</th>\n",
       "      <th>IMF[1][13]</th>\n",
       "      <th>World Bank[14]</th>\n",
       "      <th>United Nations[15]</th>\n",
       "    </tr>\n",
       "    <tr>\n",
       "      <th></th>\n",
       "      <th>Country/Territory</th>\n",
       "      <th>Forecast</th>\n",
       "      <th>Estimate</th>\n",
       "      <th>Estimate</th>\n",
       "    </tr>\n",
       "  </thead>\n",
       "  <tbody>\n",
       "    <tr>\n",
       "      <th>0</th>\n",
       "      <td>World</td>\n",
       "      <td>109,529,216</td>\n",
       "      <td>105,435,540</td>\n",
       "      <td>100,834,796</td>\n",
       "    </tr>\n",
       "    <tr>\n",
       "      <th>1</th>\n",
       "      <td>United States</td>\n",
       "      <td>28,781,083</td>\n",
       "      <td>27,360,935</td>\n",
       "      <td>25,744,100</td>\n",
       "    </tr>\n",
       "    <tr>\n",
       "      <th>2</th>\n",
       "      <td>China</td>\n",
       "      <td>18,532,633</td>\n",
       "      <td>17,794,782</td>\n",
       "      <td>17,963,170</td>\n",
       "    </tr>\n",
       "    <tr>\n",
       "      <th>3</th>\n",
       "      <td>Germany</td>\n",
       "      <td>4,591,100</td>\n",
       "      <td>4,456,081</td>\n",
       "      <td>4,076,923</td>\n",
       "    </tr>\n",
       "    <tr>\n",
       "      <th>4</th>\n",
       "      <td>Japan</td>\n",
       "      <td>4,110,452</td>\n",
       "      <td>4,212,945</td>\n",
       "      <td>4,232,173</td>\n",
       "    </tr>\n",
       "  </tbody>\n",
       "</table>\n",
       "</div>"
      ],
      "text/plain": [
       "  Country/Territory   IMF[1][13] World Bank[14] United Nations[15]\n",
       "  Country/Territory     Forecast       Estimate           Estimate\n",
       "0             World  109,529,216    105,435,540        100,834,796\n",
       "1     United States   28,781,083     27,360,935         25,744,100\n",
       "2             China   18,532,633     17,794,782         17,963,170\n",
       "3           Germany    4,591,100      4,456,081          4,076,923\n",
       "4             Japan    4,110,452      4,212,945          4,232,173"
      ]
     },
     "execution_count": 68,
     "metadata": {},
     "output_type": "execute_result"
    }
   ],
   "source": [
    "df = df.drop(df.columns[[2,4,6]], axis=1)\n",
    "df.head()"
   ]
  },
  {
   "cell_type": "code",
   "execution_count": 69,
   "metadata": {},
   "outputs": [
    {
     "data": {
      "text/html": [
       "<div>\n",
       "<style scoped>\n",
       "    .dataframe tbody tr th:only-of-type {\n",
       "        vertical-align: middle;\n",
       "    }\n",
       "\n",
       "    .dataframe tbody tr th {\n",
       "        vertical-align: top;\n",
       "    }\n",
       "\n",
       "    .dataframe thead th {\n",
       "        text-align: right;\n",
       "    }\n",
       "</style>\n",
       "<table border=\"1\" class=\"dataframe\">\n",
       "  <thead>\n",
       "    <tr style=\"text-align: right;\">\n",
       "      <th></th>\n",
       "      <th>country</th>\n",
       "      <th>imf_2024</th>\n",
       "      <th>world_bank_2023</th>\n",
       "      <th>united_nations_2022</th>\n",
       "    </tr>\n",
       "  </thead>\n",
       "  <tbody>\n",
       "    <tr>\n",
       "      <th>0</th>\n",
       "      <td>World</td>\n",
       "      <td>109,529,216</td>\n",
       "      <td>105,435,540</td>\n",
       "      <td>100,834,796</td>\n",
       "    </tr>\n",
       "    <tr>\n",
       "      <th>1</th>\n",
       "      <td>United States</td>\n",
       "      <td>28,781,083</td>\n",
       "      <td>27,360,935</td>\n",
       "      <td>25,744,100</td>\n",
       "    </tr>\n",
       "    <tr>\n",
       "      <th>2</th>\n",
       "      <td>China</td>\n",
       "      <td>18,532,633</td>\n",
       "      <td>17,794,782</td>\n",
       "      <td>17,963,170</td>\n",
       "    </tr>\n",
       "    <tr>\n",
       "      <th>3</th>\n",
       "      <td>Germany</td>\n",
       "      <td>4,591,100</td>\n",
       "      <td>4,456,081</td>\n",
       "      <td>4,076,923</td>\n",
       "    </tr>\n",
       "    <tr>\n",
       "      <th>4</th>\n",
       "      <td>Japan</td>\n",
       "      <td>4,110,452</td>\n",
       "      <td>4,212,945</td>\n",
       "      <td>4,232,173</td>\n",
       "    </tr>\n",
       "  </tbody>\n",
       "</table>\n",
       "</div>"
      ],
      "text/plain": [
       "         country     imf_2024 world_bank_2023 united_nations_2022\n",
       "0          World  109,529,216     105,435,540         100,834,796\n",
       "1  United States   28,781,083      27,360,935          25,744,100\n",
       "2          China   18,532,633      17,794,782          17,963,170\n",
       "3        Germany    4,591,100       4,456,081           4,076,923\n",
       "4          Japan    4,110,452       4,212,945           4,232,173"
      ]
     },
     "execution_count": 69,
     "metadata": {},
     "output_type": "execute_result"
    }
   ],
   "source": [
    "columns = ['country', 'imf_2024', 'world_bank_2023', 'united_nations_2022']\n",
    "df.columns = columns\n",
    "df.head()"
   ]
  },
  {
   "cell_type": "code",
   "execution_count": 70,
   "metadata": {},
   "outputs": [
    {
     "name": "stdout",
     "output_type": "stream",
     "text": [
      "country                object\n",
      "imf_2024               object\n",
      "world_bank_2023        object\n",
      "united_nations_2022    object\n",
      "dtype: object\n"
     ]
    },
    {
     "name": "stderr",
     "output_type": "stream",
     "text": [
      "/var/folders/zb/nl25s0l50sl0r6n18b3fm3w00000gp/T/ipykernel_75228/416297878.py:14: FutureWarning: DataFrame.applymap has been deprecated. Use DataFrame.map instead.\n",
      "  df = df.applymap(clean_and_convert)\n"
     ]
    },
    {
     "data": {
      "text/html": [
       "<div>\n",
       "<style scoped>\n",
       "    .dataframe tbody tr th:only-of-type {\n",
       "        vertical-align: middle;\n",
       "    }\n",
       "\n",
       "    .dataframe tbody tr th {\n",
       "        vertical-align: top;\n",
       "    }\n",
       "\n",
       "    .dataframe thead th {\n",
       "        text-align: right;\n",
       "    }\n",
       "</style>\n",
       "<table border=\"1\" class=\"dataframe\">\n",
       "  <thead>\n",
       "    <tr style=\"text-align: right;\">\n",
       "      <th></th>\n",
       "      <th>country</th>\n",
       "      <th>imf_2024</th>\n",
       "      <th>world_bank_2023</th>\n",
       "      <th>united_nations_2022</th>\n",
       "    </tr>\n",
       "  </thead>\n",
       "  <tbody>\n",
       "    <tr>\n",
       "      <th>0</th>\n",
       "      <td>World</td>\n",
       "      <td>109529216.0</td>\n",
       "      <td>105435540.0</td>\n",
       "      <td>100834796.0</td>\n",
       "    </tr>\n",
       "    <tr>\n",
       "      <th>1</th>\n",
       "      <td>United States</td>\n",
       "      <td>28781083.0</td>\n",
       "      <td>27360935.0</td>\n",
       "      <td>25744100.0</td>\n",
       "    </tr>\n",
       "    <tr>\n",
       "      <th>2</th>\n",
       "      <td>China</td>\n",
       "      <td>18532633.0</td>\n",
       "      <td>17794782.0</td>\n",
       "      <td>17963170.0</td>\n",
       "    </tr>\n",
       "    <tr>\n",
       "      <th>3</th>\n",
       "      <td>Germany</td>\n",
       "      <td>4591100.0</td>\n",
       "      <td>4456081.0</td>\n",
       "      <td>4076923.0</td>\n",
       "    </tr>\n",
       "    <tr>\n",
       "      <th>4</th>\n",
       "      <td>Japan</td>\n",
       "      <td>4110452.0</td>\n",
       "      <td>4212945.0</td>\n",
       "      <td>4232173.0</td>\n",
       "    </tr>\n",
       "  </tbody>\n",
       "</table>\n",
       "</div>"
      ],
      "text/plain": [
       "         country     imf_2024 world_bank_2023 united_nations_2022\n",
       "0          World  109529216.0     105435540.0         100834796.0\n",
       "1  United States   28781083.0      27360935.0          25744100.0\n",
       "2          China   18532633.0      17794782.0          17963170.0\n",
       "3        Germany    4591100.0       4456081.0           4076923.0\n",
       "4          Japan    4110452.0       4212945.0           4232173.0"
      ]
     },
     "execution_count": 70,
     "metadata": {},
     "output_type": "execute_result"
    }
   ],
   "source": [
    "# df = df.apply(lambda x: x.str.replace(',', '').astype(float) if x.dtype == 'object' and x.str.contains(r'^\\d{1,3}(,\\d{3})*$').any() else x)\n",
    "# df['imf_2024'] = df['imf_2024'].str.replace(',', '').astype(float)\n",
    "# df['world_bank_2023'] = df['world_bank_2023'].str.replace(',', '').astype(float)\n",
    "# df['united_nations_2022'] = df['united_nations_2022'].str.replace(',', '').astype(float)\n",
    "def clean_and_convert(value):\n",
    "    if isinstance(value, str):\n",
    "        try:\n",
    "            return float(value.replace(',', ''))\n",
    "        except ValueError:\n",
    "            return value  # если не удалось преобразовать, возвращаем исходное значение\n",
    "    return value\n",
    "\n",
    "# Применение функции к каждому элементу DataFrame\n",
    "df = df.applymap(clean_and_convert)\n",
    "\n",
    "print(df.dtypes)\n",
    "df.head()"
   ]
  },
  {
   "cell_type": "code",
   "execution_count": 75,
   "metadata": {},
   "outputs": [
    {
     "name": "stderr",
     "output_type": "stream",
     "text": [
      "/var/folders/zb/nl25s0l50sl0r6n18b3fm3w00000gp/T/ipykernel_75228/2856885570.py:1: FutureWarning: Downcasting behavior in `replace` is deprecated and will be removed in a future version. To retain the old behavior, explicitly call `result.infer_objects(copy=False)`. To opt-in to the future behavior, set `pd.set_option('future.no_silent_downcasting', True)`\n",
      "  df = df.replace('—', np.nan)\n"
     ]
    }
   ],
   "source": [
    "df = df.replace('—', np.nan)\n",
    "# df = df.replace({'—': np.NaN})\n"
   ]
  },
  {
   "cell_type": "code",
   "execution_count": 76,
   "metadata": {},
   "outputs": [
    {
     "name": "stdout",
     "output_type": "stream",
     "text": [
      "country                 0\n",
      "imf_2024               15\n",
      "world_bank_2023         8\n",
      "united_nations_2022     1\n",
      "dtype: int64\n",
      "country                 object\n",
      "imf_2024               float64\n",
      "world_bank_2023        float64\n",
      "united_nations_2022    float64\n",
      "dtype: object\n"
     ]
    }
   ],
   "source": [
    "print(df.isnull().sum())\n",
    "print(df.dtypes)"
   ]
  },
  {
   "cell_type": "code",
   "execution_count": 77,
   "metadata": {},
   "outputs": [
    {
     "data": {
      "text/html": [
       "<div>\n",
       "<style scoped>\n",
       "    .dataframe tbody tr th:only-of-type {\n",
       "        vertical-align: middle;\n",
       "    }\n",
       "\n",
       "    .dataframe tbody tr th {\n",
       "        vertical-align: top;\n",
       "    }\n",
       "\n",
       "    .dataframe thead th {\n",
       "        text-align: right;\n",
       "    }\n",
       "</style>\n",
       "<table border=\"1\" class=\"dataframe\">\n",
       "  <thead>\n",
       "    <tr style=\"text-align: right;\">\n",
       "      <th></th>\n",
       "      <th>country</th>\n",
       "      <th>imf_2024</th>\n",
       "      <th>world_bank_2023</th>\n",
       "      <th>united_nations_2022</th>\n",
       "    </tr>\n",
       "  </thead>\n",
       "  <tbody>\n",
       "    <tr>\n",
       "      <th>22</th>\n",
       "      <td>Taiwan</td>\n",
       "      <td>802.958</td>\n",
       "      <td>NaN</td>\n",
       "      <td>NaN</td>\n",
       "    </tr>\n",
       "  </tbody>\n",
       "</table>\n",
       "</div>"
      ],
      "text/plain": [
       "   country  imf_2024  world_bank_2023  united_nations_2022\n",
       "22  Taiwan   802.958              NaN                  NaN"
      ]
     },
     "execution_count": 77,
     "metadata": {},
     "output_type": "execute_result"
    }
   ],
   "source": [
    "df.loc[df['country'] == 'Taiwan']"
   ]
  },
  {
   "cell_type": "code",
   "execution_count": 53,
   "metadata": {},
   "outputs": [
    {
     "name": "stdout",
     "output_type": "stream",
     "text": [
      "Empty DataFrame\n",
      "Columns: [country, imf_2024, world_bank_2023, united_nations_2022]\n",
      "Index: []\n"
     ]
    }
   ],
   "source": [
    "missing_values = df[df['united_nations_2022'].isnull()]\n",
    "\n",
    "print(missing_values)"
   ]
  },
  {
   "cell_type": "code",
   "execution_count": 78,
   "metadata": {},
   "outputs": [
    {
     "name": "stdout",
     "output_type": "stream",
     "text": [
      "country                0\n",
      "imf_2024               0\n",
      "world_bank_2023        0\n",
      "united_nations_2022    0\n",
      "dtype: int64\n"
     ]
    }
   ],
   "source": [
    "#Замініть відсутні дані в стовпцях середніми значеннями цих стовпців (метод fillna)\n",
    "# df = df.fillna(df.mean(numeric_only=True), axis=0)\n",
    "df.imf_2024 = df.imf_2024.fillna(df.imf_2024.mean())\n",
    "df.world_bank_2023 = df.world_bank_2023.fillna(df.world_bank_2023.mean())\n",
    "df.united_nations_2022 = df.united_nations_2022.fillna(df.united_nations_2022.mean())\n",
    "print(df.isnull().sum())"
   ]
  },
  {
   "cell_type": "code",
   "execution_count": 112,
   "metadata": {},
   "outputs": [
    {
     "name": "stdout",
     "output_type": "stream",
     "text": [
      "                     imf_2024  world_bank_2023  united_nations_2022\n",
      "imf_2024             1.000000         0.999425             0.999285\n",
      "world_bank_2023      0.999425         1.000000             0.999643\n",
      "united_nations_2022  0.999285         0.999643             1.000000\n"
     ]
    }
   ],
   "source": [
    "df_without_country = df.drop(columns=['country'])\n",
    "\n",
    "# Вычисляем корреляцию\n",
    "correlation_matrix = df_without_country.corr()\n",
    "\n",
    "# Выводим результат\n",
    "print(correlation_matrix)"
   ]
  },
  {
   "cell_type": "markdown",
   "metadata": {},
   "source": [
    "# Building a model and choosing the best one"
   ]
  },
  {
   "cell_type": "code",
   "execution_count": 128,
   "metadata": {},
   "outputs": [],
   "source": [
    "from sklearn.model_selection import train_test_split\n",
    "from sklearn.preprocessing import StandardScaler\n",
    "from sklearn.svm import SVR\n",
    "from sklearn.ensemble import RandomForestRegressor, GradientBoostingRegressor\n",
    "from sklearn.metrics import classification_report, accuracy_score, mean_squared_error, r2_score, confusion_matrix\n",
    "from scipy.stats import skew, kurtosis, iqr\n",
    "from sklearn.linear_model import LinearRegression\n",
    "from sklearn.impute import SimpleImputer\n",
    "from sklearn.neural_network import MLPRegressor"
   ]
  },
  {
   "cell_type": "code",
   "execution_count": 84,
   "metadata": {},
   "outputs": [],
   "source": [
    "features = ['imf_2024', 'world_bank_2023', 'united_nations_2022']\n"
   ]
  },
  {
   "cell_type": "markdown",
   "metadata": {},
   "source": [
    "### Divide the dataset into test and train sets"
   ]
  },
  {
   "cell_type": "code",
   "execution_count": 114,
   "metadata": {},
   "outputs": [],
   "source": [
    "X = df[['world_bank_2023', 'united_nations_2022']]\n",
    "y = df['imf_2024']\n",
    "\n",
    "X_train, X_test, y_train, y_test = train_test_split(X, y, test_size=0.2, random_state=42)\n"
   ]
  },
  {
   "cell_type": "markdown",
   "metadata": {},
   "source": [
    "### Data scaling"
   ]
  },
  {
   "cell_type": "code",
   "execution_count": 115,
   "metadata": {},
   "outputs": [],
   "source": [
    "scaler = StandardScaler()\n",
    "X_train = scaler.fit_transform(X_train)\n",
    "X_test = scaler.transform(X_test)"
   ]
  },
  {
   "cell_type": "markdown",
   "metadata": {},
   "source": [
    "### Linear regression"
   ]
  },
  {
   "cell_type": "code",
   "execution_count": 117,
   "metadata": {},
   "outputs": [
    {
     "name": "stdout",
     "output_type": "stream",
     "text": [
      "Linear regression - MSE: 62948591392.167496, R2: 0.7640481589558779\n"
     ]
    }
   ],
   "source": [
    "lr_model = LinearRegression()\n",
    "lr_model.fit(X_train, y_train)\n",
    "y_pred_lr = lr_model.predict(X_test)\n",
    "mse_lr = mean_squared_error(y_test, y_pred_lr)\n",
    "r2_lr = r2_score(y_test, y_pred_lr)\n",
    "\n",
    "print(f\"Linear regression - MSE: {mse_lr}, R2: {r2_lr}\")"
   ]
  },
  {
   "cell_type": "markdown",
   "metadata": {},
   "source": [
    "### SVC"
   ]
  },
  {
   "cell_type": "code",
   "execution_count": 121,
   "metadata": {},
   "outputs": [
    {
     "name": "stdout",
     "output_type": "stream",
     "text": [
      "SVM - MSE: 299312851744.9338, R2: -0.12192214083714958\n"
     ]
    }
   ],
   "source": [
    "svm_model = SVR()\n",
    "svm_model.fit(X_train, y_train)\n",
    "y_pred_svm = svm_model.predict(X_test)\n",
    "mse_svm = mean_squared_error(y_test, y_pred_svm)\n",
    "r2_svm = r2_score(y_test, y_pred_svm)\n",
    "\n",
    "print(f\"SVM - MSE: {mse_svm}, R2: {r2_svm}\")"
   ]
  },
  {
   "cell_type": "markdown",
   "metadata": {},
   "source": [
    "### Random forest"
   ]
  },
  {
   "cell_type": "code",
   "execution_count": 129,
   "metadata": {},
   "outputs": [
    {
     "name": "stdout",
     "output_type": "stream",
     "text": [
      "Random Forest - MSE: 106519445417.20459, R2: 0.6007303944800331\n"
     ]
    }
   ],
   "source": [
    "rf_model = RandomForestRegressor(random_state=42)\n",
    "rf_model.fit(X_train, y_train)\n",
    "y_pred_rf = rf_model.predict(X_test)\n",
    "mse_rf = mean_squared_error(y_test, y_pred_rf)\n",
    "r2_rf = r2_score(y_test, y_pred_rf)\n",
    "print(f\"Random Forest - MSE: {mse_rf}, R2: {r2_rf}\")"
   ]
  },
  {
   "cell_type": "markdown",
   "metadata": {},
   "source": [
    "### Gradient Boosting"
   ]
  },
  {
   "cell_type": "code",
   "execution_count": 131,
   "metadata": {},
   "outputs": [
    {
     "name": "stdout",
     "output_type": "stream",
     "text": [
      "Gradient Boosting - MSE: 97006785048.24911, R2: 0.63638694655916\n"
     ]
    }
   ],
   "source": [
    "gb_model = GradientBoostingRegressor(random_state=42)\n",
    "gb_model.fit(X_train, y_train)\n",
    "y_pred_gb = gb_model.predict(X_test)\n",
    "mse_gb = mean_squared_error(y_test, y_pred_gb)\n",
    "r2_gb = r2_score(y_test, y_pred_gb)\n",
    "\n",
    "print(f\"Gradient Boosting - MSE: {mse_gb}, R2: {r2_gb}\")"
   ]
  },
  {
   "cell_type": "markdown",
   "metadata": {},
   "source": [
    "### Neural networks"
   ]
  },
  {
   "cell_type": "code",
   "execution_count": 132,
   "metadata": {},
   "outputs": [
    {
     "name": "stdout",
     "output_type": "stream",
     "text": [
      "Neural networks - MSE: 299288556460.5208, R2: -0.12183107419119055\n"
     ]
    },
    {
     "name": "stderr",
     "output_type": "stream",
     "text": [
      "/opt/anaconda3/lib/python3.11/site-packages/sklearn/neural_network/_multilayer_perceptron.py:690: ConvergenceWarning: Stochastic Optimizer: Maximum iterations (1000) reached and the optimization hasn't converged yet.\n",
      "  warnings.warn(\n"
     ]
    }
   ],
   "source": [
    "\n",
    "nn_model = MLPRegressor(random_state=42, max_iter=1000)\n",
    "nn_model.fit(X_train, y_train)\n",
    "y_pred_nn = nn_model.predict(X_test)\n",
    "mse_nn = mean_squared_error(y_test, y_pred_nn)\n",
    "r2_nn = r2_score(y_test, y_pred_nn)\n",
    "\n",
    "print(f\"Neural networks - MSE: {mse_nn}, R2: {r2_nn}\")"
   ]
  },
  {
   "cell_type": "code",
   "execution_count": 139,
   "metadata": {},
   "outputs": [
    {
     "name": "stdout",
     "output_type": "stream",
     "text": [
      "                      Model           MSE       R^2\n",
      "0         Linear Regression  6.294859e+10  0.764048\n",
      "1             Random Forest  1.065194e+11  0.600730\n",
      "2         Gradient Boosting  9.700679e+10  0.636387\n",
      "3  Support Vector Regressor  2.993129e+11 -0.121922\n",
      "4           Neural networks  2.992886e+11 -0.121831\n"
     ]
    },
    {
     "name": "stderr",
     "output_type": "stream",
     "text": [
      "/opt/anaconda3/lib/python3.11/site-packages/sklearn/neural_network/_multilayer_perceptron.py:690: ConvergenceWarning: Stochastic Optimizer: Maximum iterations (1000) reached and the optimization hasn't converged yet.\n",
      "  warnings.warn(\n"
     ]
    }
   ],
   "source": [
    "models = {\n",
    "    'Linear Regression': LinearRegression(),\n",
    "    'Random Forest': RandomForestRegressor(random_state=42),\n",
    "    'Gradient Boosting': GradientBoostingRegressor(random_state=42),\n",
    "    'Support Vector Regressor': SVR(),\n",
    "    'Neural networks': MLPRegressor(random_state=42, max_iter=1000)\n",
    "}\n",
    "\n",
    "# Обучение и оценка моделей\n",
    "results = []\n",
    "for name, model in models.items():\n",
    "    model.fit(X_train, y_train)\n",
    "    y_pred = model.predict(X_test)\n",
    "    mse = mean_squared_error(y_test, y_pred)\n",
    "    r2 = r2_score(y_test, y_pred)\n",
    "    results.append({'Model': name, 'MSE': mse, 'R^2': r2})\n",
    "\n",
    "# Вывод результатов\n",
    "results_df = pd.DataFrame(results)\n",
    "print(results_df)"
   ]
  },
  {
   "cell_type": "markdown",
   "metadata": {},
   "source": [
    "# Visualization of results"
   ]
  },
  {
   "cell_type": "code",
   "execution_count": 146,
   "metadata": {},
   "outputs": [
    {
     "name": "stderr",
     "output_type": "stream",
     "text": [
      "/var/folders/zb/nl25s0l50sl0r6n18b3fm3w00000gp/T/ipykernel_75228/1825966757.py:2: FutureWarning: \n",
      "\n",
      "Passing `palette` without assigning `hue` is deprecated and will be removed in v0.14.0. Assign the `x` variable to `hue` and set `legend=False` for the same effect.\n",
      "\n",
      "  sns.barplot(x='Model', y='MSE', data=results_df, ax=ax1, palette='viridis')\n",
      "/var/folders/zb/nl25s0l50sl0r6n18b3fm3w00000gp/T/ipykernel_75228/1825966757.py:8: FutureWarning: \n",
      "\n",
      "Passing `palette` without assigning `hue` is deprecated and will be removed in v0.14.0. Assign the `x` variable to `hue` and set `legend=False` for the same effect.\n",
      "\n",
      "  sns.barplot(x='Model', y='R^2', data=results_df, ax=ax2, palette='viridis')\n"
     ]
    },
    {
     "data": {
      "image/png": "[encoded data removed]",
      "text/plain": [
       "<Figure size 1400x600 with 2 Axes>"
      ]
     },
     "metadata": {},
     "output_type": "display_data"
    }
   ],
   "source": [
    "fig, (ax1, ax2) = plt.subplots(1, 2, figsize=(14,6))\n",
    "sns.barplot(x='Model', y='MSE', data=results_df, ax=ax1, palette='viridis')\n",
    "ax1.set_title('Model Comparison: Mean Squared Error (MSE)')\n",
    "ax1.set_ylabel('Mean Squared Error')\n",
    "ax1.set_xlabel('Model')\n",
    "ax1.tick_params(axis='x', rotation=45)\n",
    "\n",
    "sns.barplot(x='Model', y='R^2', data=results_df, ax=ax2, palette='viridis')\n",
    "ax2.set_title('Model Comparison: R^2 Score')\n",
    "ax2.set_ylabel('R^2 Score')\n",
    "ax2.set_xlabel('Model')\n",
    "ax2.tick_params(axis='x', rotation=45)\n",
    "\n",
    "plt.tight_layout()\n",
    "plt.show()"
   ]
  },
  {
   "cell_type": "markdown",
   "metadata": {},
   "source": [
    "# Conclusion\n",
    "\n",
    "### Based on the obtained results:\n",
    "\n",
    "- **Mean Squared Error (MSE) Indicators**:\n",
    "    - The lowest values are for the models Linear Regression, Gradient Boosting, and Random Forest.\n",
    "    - The highest values are for the models Support Vector Regressor (SVR) and Neural Networks.\n",
    "\n",
    "- **R² Indicators**:\n",
    "    - The highest values are for the models Linear Regression, Gradient Boosting, and Random Forest.\n",
    "    - The lowest values are for the models Support Vector Regressor (SVR) and Neural Networks.\n",
    "\n",
    "From this, we can conclude that the best model is Linear Regression. Close behind are the models Gradient Boosting and Random Forest. The worst results were shown by the models Support Vector Regressor (SVR) and Neural Networks.\n",
    "\n",
    "\n",
    "### Українською\n",
    "### Виходячи з отриманих результатів:\n",
    "\n",
    "- **Показники Mean Squared Error (MSE)**:\n",
    "    - Найменші значення у моделей Linear Regression, Gradient Boosting та Random Forest.\n",
    "    - Найвищі значення у моделей Support Vector Regressor (SVR) та Neural Networks.\n",
    "\n",
    "- **Показники R²**:\n",
    "    - Найвищі значення у моделей Linear Regression, Gradient Boosting та Random Forest.\n",
    "    - Найменші значення у моделей Support Vector Regressor (SVR) та Neural Networks.\n",
    "\n",
    "З цього можна зробити висновок, що найкращою моделлю є Linear Regression. З невеликим відривом за нею йдуть моделі Gradient Boosting та Random Forest. Найгірші результати показали моделі Support Vector Regressor (SVR) та Neural Networks."
   ]
  },
  {
   "cell_type": "markdown",
   "metadata": {},
   "source": []
  }
 ],
 "metadata": {
  "kernelspec": {
   "display_name": "base",
   "language": "python",
   "name": "python3"
  },
  "language_info": {
   "codemirror_mode": {
    "name": "ipython",
    "version": 3
   },
   "file_extension": ".py",
   "mimetype": "text/x-python",
   "name": "python",
   "nbconvert_exporter": "python",
   "pygments_lexer": "ipython3",
   "version": "3.11.9"
  }
 },
 "nbformat": 4,
 "nbformat_minor": 2
}
