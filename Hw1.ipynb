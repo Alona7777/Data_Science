{
 "cells": [
  {
   "cell_type": "code",
   "execution_count": 3,
   "metadata": {},
   "outputs": [],
   "source": [
    "import numpy as np\n"
   ]
  },
  {
   "cell_type": "code",
   "execution_count": 57,
   "metadata": {},
   "outputs": [
    {
     "name": "stdout",
     "output_type": "stream",
     "text": [
      "[ 1  2  3  4  5  6  7  8  9 10]\n",
      "[ 1  2  3  4  5  6  7  8  9 10]\n"
     ]
    }
   ],
   "source": [
    "#1.Створіть одновимірний масив (вектор) з першими 10-ма натуральними числами та виведіть його значення.\n",
    "a = np.array([1, 2, 3, 4, 5, 6, 7, 8, 9, 10])\n",
    "a_1 = np.arange(1, 11, 1)\n",
    "print(a)\n",
    "print(a_1)"
   ]
  },
  {
   "cell_type": "code",
   "execution_count": 58,
   "metadata": {},
   "outputs": [
    {
     "name": "stdout",
     "output_type": "stream",
     "text": [
      "[[0. 0. 0.]\n",
      " [0. 0. 0.]\n",
      " [0. 0. 0.]]\n"
     ]
    }
   ],
   "source": [
    "#2.Створіть двовимірний масив (матрицю) розміром 3x3, заповніть його нулями та виведіть його значення.\n",
    "a_2 = np.zeros((3, 3))\n",
    "print(a_2)\n"
   ]
  },
  {
   "cell_type": "code",
   "execution_count": 59,
   "metadata": {},
   "outputs": [
    {
     "name": "stdout",
     "output_type": "stream",
     "text": [
      "[[3 6 1 3 5]\n",
      " [9 2 9 7 5]\n",
      " [6 4 7 7 4]\n",
      " [5 1 1 7 6]\n",
      " [5 2 3 2 8]]\n"
     ]
    }
   ],
   "source": [
    "#3.Створіть масив розміром 5x5, заповніть його випадковими цілими числами в діапазоні від 1 до 10 та виведіть його значення.\n",
    "a_3 = np.random.randint(1, 11, (5, 5))\n",
    "print(a_3)"
   ]
  },
  {
   "cell_type": "code",
   "execution_count": 60,
   "metadata": {},
   "outputs": [
    {
     "name": "stdout",
     "output_type": "stream",
     "text": [
      "[[0.92947093 0.85871181 0.17645221 0.52246518]\n",
      " [0.46058704 0.3607961  0.28920603 0.33963632]\n",
      " [0.54724765 0.48652631 0.00531986 0.2971255 ]\n",
      " [0.60126195 0.07965512 0.73521066 0.59844596]]\n"
     ]
    }
   ],
   "source": [
    "#4.Створіть масив розміром 4x4, заповніть його випадковими дійсними числами в діапазоні від 0 до 1 та виведіть його значення.\n",
    "a_4 = np.random.rand(4, 4)\n",
    "print(a_4)"
   ]
  },
  {
   "cell_type": "code",
   "execution_count": 21,
   "metadata": {},
   "outputs": [
    {
     "name": "stdout",
     "output_type": "stream",
     "text": [
      "[ 6  8  6 18 10]\n",
      "[-4  4 -4  0 -8]\n",
      "[ 5 12  5 81  9]\n"
     ]
    }
   ],
   "source": [
    "#5.Створіть два одновимірних масиви розміром 5, заповніть їх випадковими цілими числами в діапазоні від 1 до 10 та виконайте на них поелементні операції додавання, віднімання та множення.\n",
    "b = np.random.randint(1, 11, (5, ))\n",
    "c = np.random.randint(1, 11, (5, ))\n",
    "print(b + c)\n",
    "print(b - c)\n",
    "print(b * c)"
   ]
  },
  {
   "cell_type": "code",
   "execution_count": 56,
   "metadata": {},
   "outputs": [
    {
     "name": "stdout",
     "output_type": "stream",
     "text": [
      "[0.53636953 0.369576   0.33441472 0.90172747 0.78205814 0.72798565\n",
      " 0.73406964]\n",
      "[0.06813248 0.68415773 0.31080787 0.41463881 0.19663262 0.27654722\n",
      " 0.59708787]\n",
      "1.56062701975234\n"
     ]
    }
   ],
   "source": [
    "#6.Створіть два вектори розміром 7, заповніть довільними числами та знайдіть їх скалярний добуток.\n",
    "b_1 = np.random.random(7)\n",
    "c_1 = np.random.random(7)\n",
    "d = np.dot(b_1, c_1)\n",
    "print(b_1)\n",
    "print(c_1)\n",
    "print(d)\n"
   ]
  },
  {
   "cell_type": "code",
   "execution_count": 35,
   "metadata": {},
   "outputs": [
    {
     "name": "stdout",
     "output_type": "stream",
     "text": [
      "[[103  30  98]\n",
      " [ 80  24  79]]\n"
     ]
    }
   ],
   "source": [
    "#7.Створіть дві матриці розміром 2x2 та 2x3, заповніть їх випадковими цілими числами в діапазоні від 1 до 10 та перемножте їх між собою.\n",
    "b_2 = np.random.randint(1, 11, (2, 2))\n",
    "c_2 = np.random.randint(1, 11, (2, 3))\n",
    "res_7= np.dot(b_2, c_2)\n",
    "print(res_7)"
   ]
  },
  {
   "cell_type": "code",
   "execution_count": 29,
   "metadata": {},
   "outputs": [
    {
     "name": "stdout",
     "output_type": "stream",
     "text": [
      "[[-0.21917808 -0.13242009  0.36986301]\n",
      " [ 0.23287671  0.03652968 -0.20547945]\n",
      " [ 0.06849315  0.18721461 -0.17808219]]\n"
     ]
    }
   ],
   "source": [
    "#8.Створіть матрицю розміром 3x3, заповніть її випадковими цілими числами в діапазоні від 1 до 10 та знайдіть її обернену матрицю.\n",
    "a_8 = np.random.randint(1, 11, (3, 3))\n",
    "a_inv = np.linalg.inv(a_8)\n",
    "print(a_inv)\n"
   ]
  },
  {
   "cell_type": "code",
   "execution_count": 30,
   "metadata": {},
   "outputs": [
    {
     "name": "stdout",
     "output_type": "stream",
     "text": [
      "[[0.05567342 0.06760543 0.37414678 0.82976407]\n",
      " [0.52122397 0.60837923 0.00970035 0.29976468]\n",
      " [0.08050806 0.21967129 0.15208578 0.06658484]\n",
      " [0.45647693 0.42969037 0.17785551 0.33129544]]\n",
      "[[0.05567342 0.52122397 0.08050806 0.45647693]\n",
      " [0.06760543 0.60837923 0.21967129 0.42969037]\n",
      " [0.37414678 0.00970035 0.15208578 0.17785551]\n",
      " [0.82976407 0.29976468 0.06658484 0.33129544]]\n"
     ]
    }
   ],
   "source": [
    "#9.Створіть матрицю розміром 4x4, заповніть її випадковими дійсними числами в діапазоні від 0 до 1 та транспонуйте її.\n",
    "a_9 = np.random.rand(4, 4)\n",
    "a_tr = np.transpose(a_9)\n",
    "print(a_9)\n",
    "print(a_tr)"
   ]
  },
  {
   "cell_type": "code",
   "execution_count": 32,
   "metadata": {},
   "outputs": [
    {
     "name": "stdout",
     "output_type": "stream",
     "text": [
      "[[ 2  4  7  2]\n",
      " [ 5  1  1  2]\n",
      " [ 5  6  9 10]]\n",
      "[3 4 7 2]\n",
      "[ 75  30 122]\n"
     ]
    }
   ],
   "source": [
    "#10.Створіть матрицю розміром 3x4 та вектор розміром 4, заповніть їх випадковими цілими числами в діапазоні від 1 до 10 та перемножте матрицю на вектор.\n",
    "a_10 = np.random.randint(1, 11, (3, 4))\n",
    "v = np.random.randint(1, 11, (4))\n",
    "res_10 = np.dot(a_10, v)\n",
    "print(a_10)\n",
    "print(v)\n",
    "print(res_10)"
   ]
  },
  {
   "cell_type": "code",
   "execution_count": null,
   "metadata": {},
   "outputs": [],
   "source": []
  },
  {
   "cell_type": "code",
   "execution_count": 34,
   "metadata": {},
   "outputs": [
    {
     "name": "stdout",
     "output_type": "stream",
     "text": [
      "[[0.24551127 0.79208894 0.87104654]\n",
      " [0.69793705 0.28865425 0.1360398 ]]\n",
      "[0.41924065 0.36478675 0.17352692]\n",
      "[0.54302188 0.42150739]\n"
     ]
    }
   ],
   "source": [
    "#11.Створіть матрицю розміром 2x3 та вектор розміром 3, заповніть їх випадковими дійсними числами в діапазоні від 0 до 1 та перемножте матрицю на вектор.\n",
    "a_11 = np.random.rand(2, 3)\n",
    "v_11 = np.random.rand(3)\n",
    "res_11 = np.dot(a_11, v_11)\n",
    "print(a_11)\n",
    "print(v_11)\n",
    "print(res_11)"
   ]
  },
  {
   "cell_type": "code",
   "execution_count": 37,
   "metadata": {},
   "outputs": [
    {
     "name": "stdout",
     "output_type": "stream",
     "text": [
      "[[5 5]\n",
      " [7 2]]\n",
      "[[9 5]\n",
      " [7 4]]\n",
      "[[45 25]\n",
      " [49  8]]\n"
     ]
    }
   ],
   "source": [
    "#12.Створіть дві матриці розміром 2x2, заповніть їх випадковими цілими числами в діапазоні від 1 до 10 та виконайте їхнє поелементне множення.\n",
    "a_12 = np.random.randint(1, 11, (2, 2))\n",
    "b_12 = np.random.randint(1, 11, (2, 2))\n",
    "res_12 = a_12 * b_12\n",
    "print(a_12)\n",
    "print(b_12)\n",
    "print(res_12)"
   ]
  },
  {
   "cell_type": "code",
   "execution_count": 40,
   "metadata": {},
   "outputs": [
    {
     "name": "stdout",
     "output_type": "stream",
     "text": [
      "[[ 8  3]\n",
      " [10  8]]\n",
      "[[ 7  5]\n",
      " [10  8]]\n",
      "[[ 86  64]\n",
      " [150 114]]\n"
     ]
    }
   ],
   "source": [
    "#13.Створіть дві матриці розміром 2x2, заповніть їх випадковими цілими числами в діапазоні від 1 до 10 та знайдіть їх добуток.\n",
    "a_13 = np.random.randint(1, 11, (2, 2))\n",
    "b_13 = np.random.randint(1, 11, (2, 2))\n",
    "res_13 = np.dot(a_13, b_13)\n",
    "print(a_13)\n",
    "print(b_13)\n",
    "print(res_13)"
   ]
  },
  {
   "cell_type": "code",
   "execution_count": 41,
   "metadata": {},
   "outputs": [
    {
     "name": "stdout",
     "output_type": "stream",
     "text": [
      "[[86 31  6 90 50]\n",
      " [72 74  3 16 62]\n",
      " [51  5 63 60 16]\n",
      " [63 16  7 34 16]\n",
      " [27 86 27 58 80]]\n",
      "1099\n"
     ]
    }
   ],
   "source": [
    "#14.Створіть матрицю розміром 5x5, заповніть її випадковими цілими числами в діапазоні від 1 до 100 та знайдіть суму елементів матриці.\n",
    "a_14 = np.random.randint(1, 101, (5, 5))\n",
    "print(a_14)\n",
    "print(a_14.sum())"
   ]
  },
  {
   "cell_type": "code",
   "execution_count": 42,
   "metadata": {},
   "outputs": [
    {
     "name": "stdout",
     "output_type": "stream",
     "text": [
      "[[ 4  2  6  1]\n",
      " [ 7 10  3  6]\n",
      " [ 5  1  7  9]\n",
      " [ 5  2  3  4]]\n",
      "[[ 3  8 10  9]\n",
      " [ 7  9  9  8]\n",
      " [ 2  9  2  9]\n",
      " [ 5 10  6  4]]\n",
      "[[ 1 -6 -4 -8]\n",
      " [ 0  1 -6 -2]\n",
      " [ 3 -8  5  0]\n",
      " [ 0 -8 -3  0]]\n"
     ]
    }
   ],
   "source": [
    "#15.Створіть дві матриці розміром 4x4, заповніть їх випадковими цілими числами в діапазоні від 1 до 10 та знайдіть їхню різницю.\n",
    "a_15 = np.random.randint(1, 11, (4, 4))\n",
    "b_15 = np.random.randint(1, 11, (4, 4))\n",
    "res_15 = a_15 - b_15\n",
    "print(a_15)\n",
    "print(b_15)\n",
    "print(res_15)"
   ]
  },
  {
   "cell_type": "code",
   "execution_count": 44,
   "metadata": {},
   "outputs": [
    {
     "name": "stdout",
     "output_type": "stream",
     "text": [
      "[[0.9932605  0.96855098 0.92495944]\n",
      " [0.39517755 0.64103698 0.44075906]\n",
      " [0.66480787 0.11640911 0.69898298]]\n",
      "[2.88677092 1.47697359 1.48019995]\n",
      "[[2.88677092]\n",
      " [1.47697359]\n",
      " [1.48019995]]\n"
     ]
    }
   ],
   "source": [
    "#16.Створіть матрицю розміром 3x3, заповніть її випадковими дійсними числами в діапазоні від 0 до 1 та знайдіть вектор-стовпчик, що містить суму елементів кожного рядка матриці.\n",
    "a_16 = np.random.rand(3, 3)\n",
    "v_16 = np.sum(a_16, axis=1)\n",
    "res_16 = v_16.reshape(-1, 1)\n",
    "print(a_16)\n",
    "print(v_16)\n",
    "print(res_16)\n"
   ]
  },
  {
   "cell_type": "code",
   "execution_count": 49,
   "metadata": {},
   "outputs": [
    {
     "name": "stdout",
     "output_type": "stream",
     "text": [
      "[[100  50  15  89]\n",
      " [ 85   5  85  11]\n",
      " [ 24  74  59  12]]\n",
      "[[10000  2500   225  7921]\n",
      " [ 7225    25  7225   121]\n",
      " [  576  5476  3481   144]]\n"
     ]
    }
   ],
   "source": [
    "#17.Створіть матрицю розміром 3x4 з довільними цілими числами і створінь матрицю з квадратами цих чисел.\n",
    "a_17 = np.random.randint(1, 101, (3, 4))\n",
    "a_sq = a_17 ** 2\n",
    "print(a_17)\n",
    "print(a_sq)"
   ]
  },
  {
   "cell_type": "code",
   "execution_count": 55,
   "metadata": {},
   "outputs": [
    {
     "name": "stdout",
     "output_type": "stream",
     "text": [
      "[45 27 41 10]\n",
      "[6.70820393 5.19615242 6.40312424 3.16227766]\n"
     ]
    }
   ],
   "source": [
    "#18.Створіть вектор розміром 4, заповніть його випадковими цілими числами в діапазоні від 1 до 50 та знайдіть вектор з квадратними коренями цих чисел.\n",
    "v_18 = np.random.randint(1, 50,(4))\n",
    "sqrt_v_18 = np.sqrt(v_18)\n",
    "print(v_18)\n",
    "print(sqrt_v_18)"
   ]
  }
 ],
 "metadata": {
  "kernelspec": {
   "display_name": "base",
   "language": "python",
   "name": "python3"
  },
  "language_info": {
   "codemirror_mode": {
    "name": "ipython",
    "version": 3
   },
   "file_extension": ".py",
   "mimetype": "text/x-python",
   "name": "python",
   "nbconvert_exporter": "python",
   "pygments_lexer": "ipython3",
   "version": "3.11.7"
  }
 },
 "nbformat": 4,
 "nbformat_minor": 2
}
