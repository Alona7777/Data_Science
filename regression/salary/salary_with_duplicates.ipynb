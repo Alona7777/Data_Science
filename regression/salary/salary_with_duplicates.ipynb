{
 "cells": [
  {
   "cell_type": "code",
   "execution_count": 1,
   "metadata": {},
   "outputs": [],
   "source": [
    "import numpy as np\n",
    "import matplotlib.pyplot as plt\n",
    "import pandas as pd\n",
    "import seaborn as sns"
   ]
  },
  {
   "cell_type": "markdown",
   "metadata": {},
   "source": [
    "# Data analysis and preparation"
   ]
  },
  {
   "cell_type": "code",
   "execution_count": 2,
   "metadata": {},
   "outputs": [
    {
     "name": "stdout",
     "output_type": "stream",
     "text": [
      "Index(['Age', 'Gender', 'Education Level', 'Job Title', 'Years of Experience',\n",
      "       'Salary'],\n",
      "      dtype='object')\n"
     ]
    },
    {
     "data": {
      "text/html": [
       "<div>\n",
       "<style scoped>\n",
       "    .dataframe tbody tr th:only-of-type {\n",
       "        vertical-align: middle;\n",
       "    }\n",
       "\n",
       "    .dataframe tbody tr th {\n",
       "        vertical-align: top;\n",
       "    }\n",
       "\n",
       "    .dataframe thead th {\n",
       "        text-align: right;\n",
       "    }\n",
       "</style>\n",
       "<table border=\"1\" class=\"dataframe\">\n",
       "  <thead>\n",
       "    <tr style=\"text-align: right;\">\n",
       "      <th></th>\n",
       "      <th>Age</th>\n",
       "      <th>Gender</th>\n",
       "      <th>Education Level</th>\n",
       "      <th>Job Title</th>\n",
       "      <th>Years of Experience</th>\n",
       "      <th>Salary</th>\n",
       "    </tr>\n",
       "  </thead>\n",
       "  <tbody>\n",
       "    <tr>\n",
       "      <th>0</th>\n",
       "      <td>32.0</td>\n",
       "      <td>Male</td>\n",
       "      <td>Bachelor's</td>\n",
       "      <td>Software Engineer</td>\n",
       "      <td>5.0</td>\n",
       "      <td>90000.0</td>\n",
       "    </tr>\n",
       "    <tr>\n",
       "      <th>1</th>\n",
       "      <td>28.0</td>\n",
       "      <td>Female</td>\n",
       "      <td>Master's</td>\n",
       "      <td>Data Analyst</td>\n",
       "      <td>3.0</td>\n",
       "      <td>65000.0</td>\n",
       "    </tr>\n",
       "    <tr>\n",
       "      <th>2</th>\n",
       "      <td>45.0</td>\n",
       "      <td>Male</td>\n",
       "      <td>PhD</td>\n",
       "      <td>Senior Manager</td>\n",
       "      <td>15.0</td>\n",
       "      <td>150000.0</td>\n",
       "    </tr>\n",
       "    <tr>\n",
       "      <th>3</th>\n",
       "      <td>36.0</td>\n",
       "      <td>Female</td>\n",
       "      <td>Bachelor's</td>\n",
       "      <td>Sales Associate</td>\n",
       "      <td>7.0</td>\n",
       "      <td>60000.0</td>\n",
       "    </tr>\n",
       "    <tr>\n",
       "      <th>4</th>\n",
       "      <td>52.0</td>\n",
       "      <td>Male</td>\n",
       "      <td>Master's</td>\n",
       "      <td>Director</td>\n",
       "      <td>20.0</td>\n",
       "      <td>200000.0</td>\n",
       "    </tr>\n",
       "  </tbody>\n",
       "</table>\n",
       "</div>"
      ],
      "text/plain": [
       "    Age  Gender Education Level          Job Title  Years of Experience  \\\n",
       "0  32.0    Male      Bachelor's  Software Engineer                  5.0   \n",
       "1  28.0  Female        Master's       Data Analyst                  3.0   \n",
       "2  45.0    Male             PhD     Senior Manager                 15.0   \n",
       "3  36.0  Female      Bachelor's    Sales Associate                  7.0   \n",
       "4  52.0    Male        Master's           Director                 20.0   \n",
       "\n",
       "     Salary  \n",
       "0   90000.0  \n",
       "1   65000.0  \n",
       "2  150000.0  \n",
       "3   60000.0  \n",
       "4  200000.0  "
      ]
     },
     "execution_count": 2,
     "metadata": {},
     "output_type": "execute_result"
    }
   ],
   "source": [
    "df = pd.read_csv(\"Salary_Data.csv\")\n",
    "print(df.columns)\n",
    "df.head()"
   ]
  },
  {
   "cell_type": "code",
   "execution_count": 3,
   "metadata": {},
   "outputs": [
    {
     "name": "stdout",
     "output_type": "stream",
     "text": [
      "(6704, 6)\n",
      "age                float64\n",
      "gender              object\n",
      "education_level     object\n",
      "job_title           object\n",
      "experience         float64\n",
      "salary             float64\n",
      "dtype: object\n"
     ]
    },
    {
     "data": {
      "text/plain": [
       "age                2\n",
       "gender             2\n",
       "education_level    3\n",
       "job_title          2\n",
       "experience         3\n",
       "salary             5\n",
       "dtype: int64"
      ]
     },
     "execution_count": 3,
     "metadata": {},
     "output_type": "execute_result"
    }
   ],
   "source": [
    "columns = ['age', 'gender', 'education_level', 'job_title', 'experience',\n",
    "       'salary']\n",
    "df.columns = columns\n",
    "print(df.shape)\n",
    "print(df.dtypes)\n",
    "df.isna().sum()"
   ]
  },
  {
   "cell_type": "code",
   "execution_count": 4,
   "metadata": {},
   "outputs": [
    {
     "data": {
      "text/plain": [
       "(6702, 6)"
      ]
     },
     "execution_count": 4,
     "metadata": {},
     "output_type": "execute_result"
    }
   ],
   "source": [
    "df = df.dropna(how='all')\n",
    "df.shape"
   ]
  },
  {
   "cell_type": "code",
   "execution_count": 5,
   "metadata": {},
   "outputs": [
    {
     "data": {
      "text/plain": [
       "age                0\n",
       "gender             0\n",
       "education_level    1\n",
       "job_title          0\n",
       "experience         0\n",
       "salary             0\n",
       "dtype: int64"
      ]
     },
     "execution_count": 5,
     "metadata": {},
     "output_type": "execute_result"
    }
   ],
   "source": [
    "df.age = df.age.fillna(df.age.mean())\n",
    "df.experience = df.experience.fillna(df.experience.mean())\n",
    "df.salary = df.salary.fillna(df.salary.mean())\n",
    "df.isna().sum()"
   ]
  },
  {
   "cell_type": "code",
   "execution_count": 6,
   "metadata": {},
   "outputs": [
    {
     "data": {
      "text/plain": [
       "array([\"Bachelor's\", \"Master's\", 'PhD', \"Bachelor's Degree\",\n",
       "       \"Master's Degree\", nan, 'High School', 'phD'], dtype=object)"
      ]
     },
     "execution_count": 6,
     "metadata": {},
     "output_type": "execute_result"
    }
   ],
   "source": [
    "df['education_level'].unique()"
   ]
  },
  {
   "cell_type": "code",
   "execution_count": 7,
   "metadata": {},
   "outputs": [
    {
     "data": {
      "text/plain": [
       "array([\"bachelor's\", \"master's\", 'phd', nan, 'high school'], dtype=object)"
      ]
     },
     "execution_count": 7,
     "metadata": {},
     "output_type": "execute_result"
    }
   ],
   "source": [
    "df['education_level'] = df['education_level'].str.strip().str.lower()\n",
    "df['education_level'] = df['education_level'].replace({\n",
    "    \"bachelor's\": \"bachelor's\",\n",
    "    \"bachelor's degree\": \"bachelor's\",\n",
    "    \"master's\": \"master's\",\n",
    "    \"master's degree\": \"master's\",\n",
    "    \"phd\": \"phd\",\n",
    "    \"high school\": \"high school\"\n",
    "})\n",
    "df['education_level'].unique()"
   ]
  },
  {
   "cell_type": "code",
   "execution_count": 8,
   "metadata": {},
   "outputs": [
    {
     "data": {
      "text/plain": [
       "array([\"bachelor's\", \"master's\", 'phd', 'unknown', 'high school'],\n",
       "      dtype=object)"
      ]
     },
     "execution_count": 8,
     "metadata": {},
     "output_type": "execute_result"
    }
   ],
   "source": [
    "df['education_level'] = df['education_level'].fillna('unknown')\n",
    "df['education_level'].unique()"
   ]
  },
  {
   "cell_type": "code",
   "execution_count": 9,
   "metadata": {},
   "outputs": [
    {
     "data": {
      "text/html": [
       "<div>\n",
       "<style scoped>\n",
       "    .dataframe tbody tr th:only-of-type {\n",
       "        vertical-align: middle;\n",
       "    }\n",
       "\n",
       "    .dataframe tbody tr th {\n",
       "        vertical-align: top;\n",
       "    }\n",
       "\n",
       "    .dataframe thead th {\n",
       "        text-align: right;\n",
       "    }\n",
       "</style>\n",
       "<table border=\"1\" class=\"dataframe\">\n",
       "  <thead>\n",
       "    <tr style=\"text-align: right;\">\n",
       "      <th></th>\n",
       "      <th>age</th>\n",
       "      <th>gender</th>\n",
       "      <th>education_level</th>\n",
       "      <th>job_title</th>\n",
       "      <th>experience</th>\n",
       "      <th>salary</th>\n",
       "    </tr>\n",
       "  </thead>\n",
       "  <tbody>\n",
       "    <tr>\n",
       "      <th>0</th>\n",
       "      <td>32.0</td>\n",
       "      <td>Male</td>\n",
       "      <td>2</td>\n",
       "      <td>Software Engineer</td>\n",
       "      <td>5.0</td>\n",
       "      <td>90000.0</td>\n",
       "    </tr>\n",
       "    <tr>\n",
       "      <th>1</th>\n",
       "      <td>28.0</td>\n",
       "      <td>Female</td>\n",
       "      <td>3</td>\n",
       "      <td>Data Analyst</td>\n",
       "      <td>3.0</td>\n",
       "      <td>65000.0</td>\n",
       "    </tr>\n",
       "    <tr>\n",
       "      <th>2</th>\n",
       "      <td>45.0</td>\n",
       "      <td>Male</td>\n",
       "      <td>4</td>\n",
       "      <td>Senior Manager</td>\n",
       "      <td>15.0</td>\n",
       "      <td>150000.0</td>\n",
       "    </tr>\n",
       "    <tr>\n",
       "      <th>3</th>\n",
       "      <td>36.0</td>\n",
       "      <td>Female</td>\n",
       "      <td>2</td>\n",
       "      <td>Sales Associate</td>\n",
       "      <td>7.0</td>\n",
       "      <td>60000.0</td>\n",
       "    </tr>\n",
       "    <tr>\n",
       "      <th>4</th>\n",
       "      <td>52.0</td>\n",
       "      <td>Male</td>\n",
       "      <td>3</td>\n",
       "      <td>Director</td>\n",
       "      <td>20.0</td>\n",
       "      <td>200000.0</td>\n",
       "    </tr>\n",
       "  </tbody>\n",
       "</table>\n",
       "</div>"
      ],
      "text/plain": [
       "    age  gender  education_level          job_title  experience    salary\n",
       "0  32.0    Male                2  Software Engineer         5.0   90000.0\n",
       "1  28.0  Female                3       Data Analyst         3.0   65000.0\n",
       "2  45.0    Male                4     Senior Manager        15.0  150000.0\n",
       "3  36.0  Female                2    Sales Associate         7.0   60000.0\n",
       "4  52.0    Male                3           Director        20.0  200000.0"
      ]
     },
     "execution_count": 9,
     "metadata": {},
     "output_type": "execute_result"
    }
   ],
   "source": [
    "df['education_level'] = df['education_level'].map({\n",
    "    'unknown': 0,\n",
    "    'high school': 1,\n",
    "    \"bachelor's\": 2, \n",
    "    \"master's\": 3, \n",
    "    'phd': 4\n",
    "})\n",
    "df.head()"
   ]
  },
  {
   "cell_type": "code",
   "execution_count": 10,
   "metadata": {},
   "outputs": [
    {
     "data": {
      "text/plain": [
       "array(['Male', 'Female', 'Other'], dtype=object)"
      ]
     },
     "execution_count": 10,
     "metadata": {},
     "output_type": "execute_result"
    }
   ],
   "source": [
    "df['gender'].unique()"
   ]
  },
  {
   "cell_type": "code",
   "execution_count": 11,
   "metadata": {},
   "outputs": [
    {
     "data": {
      "text/html": [
       "<div>\n",
       "<style scoped>\n",
       "    .dataframe tbody tr th:only-of-type {\n",
       "        vertical-align: middle;\n",
       "    }\n",
       "\n",
       "    .dataframe tbody tr th {\n",
       "        vertical-align: top;\n",
       "    }\n",
       "\n",
       "    .dataframe thead th {\n",
       "        text-align: right;\n",
       "    }\n",
       "</style>\n",
       "<table border=\"1\" class=\"dataframe\">\n",
       "  <thead>\n",
       "    <tr style=\"text-align: right;\">\n",
       "      <th></th>\n",
       "      <th>age</th>\n",
       "      <th>gender</th>\n",
       "      <th>education_level</th>\n",
       "      <th>job_title</th>\n",
       "      <th>experience</th>\n",
       "      <th>salary</th>\n",
       "    </tr>\n",
       "  </thead>\n",
       "  <tbody>\n",
       "    <tr>\n",
       "      <th>0</th>\n",
       "      <td>32.0</td>\n",
       "      <td>0</td>\n",
       "      <td>2</td>\n",
       "      <td>Software Engineer</td>\n",
       "      <td>5.0</td>\n",
       "      <td>90000.0</td>\n",
       "    </tr>\n",
       "    <tr>\n",
       "      <th>1</th>\n",
       "      <td>28.0</td>\n",
       "      <td>1</td>\n",
       "      <td>3</td>\n",
       "      <td>Data Analyst</td>\n",
       "      <td>3.0</td>\n",
       "      <td>65000.0</td>\n",
       "    </tr>\n",
       "    <tr>\n",
       "      <th>2</th>\n",
       "      <td>45.0</td>\n",
       "      <td>0</td>\n",
       "      <td>4</td>\n",
       "      <td>Senior Manager</td>\n",
       "      <td>15.0</td>\n",
       "      <td>150000.0</td>\n",
       "    </tr>\n",
       "    <tr>\n",
       "      <th>3</th>\n",
       "      <td>36.0</td>\n",
       "      <td>1</td>\n",
       "      <td>2</td>\n",
       "      <td>Sales Associate</td>\n",
       "      <td>7.0</td>\n",
       "      <td>60000.0</td>\n",
       "    </tr>\n",
       "    <tr>\n",
       "      <th>4</th>\n",
       "      <td>52.0</td>\n",
       "      <td>0</td>\n",
       "      <td>3</td>\n",
       "      <td>Director</td>\n",
       "      <td>20.0</td>\n",
       "      <td>200000.0</td>\n",
       "    </tr>\n",
       "  </tbody>\n",
       "</table>\n",
       "</div>"
      ],
      "text/plain": [
       "    age  gender  education_level          job_title  experience    salary\n",
       "0  32.0       0                2  Software Engineer         5.0   90000.0\n",
       "1  28.0       1                3       Data Analyst         3.0   65000.0\n",
       "2  45.0       0                4     Senior Manager        15.0  150000.0\n",
       "3  36.0       1                2    Sales Associate         7.0   60000.0\n",
       "4  52.0       0                3           Director        20.0  200000.0"
      ]
     },
     "execution_count": 11,
     "metadata": {},
     "output_type": "execute_result"
    }
   ],
   "source": [
    "df['gender'] = df['gender'].map({\n",
    "    'Male': 0, \n",
    "    'Female': 1, \n",
    "    'Other': 2\n",
    "})\n",
    "df.head()"
   ]
  },
  {
   "cell_type": "code",
   "execution_count": 12,
   "metadata": {},
   "outputs": [
    {
     "name": "stdout",
     "output_type": "stream",
     "text": [
      "(6702, 6)\n",
      "age                0\n",
      "gender             0\n",
      "education_level    0\n",
      "job_title          0\n",
      "experience         0\n",
      "salary             0\n",
      "dtype: int64\n",
      "age                float64\n",
      "gender               int64\n",
      "education_level      int64\n",
      "job_title           object\n",
      "experience         float64\n",
      "salary             float64\n",
      "dtype: object\n"
     ]
    }
   ],
   "source": [
    "print(df.shape)\n",
    "print(df.isnull().sum())\n",
    "print(df.dtypes)"
   ]
  },
  {
   "cell_type": "code",
   "execution_count": 13,
   "metadata": {},
   "outputs": [
    {
     "data": {
      "text/plain": [
       "age                float64\n",
       "gender             float64\n",
       "education_level    float64\n",
       "job_title           object\n",
       "experience         float64\n",
       "salary             float64\n",
       "dtype: object"
      ]
     },
     "execution_count": 13,
     "metadata": {},
     "output_type": "execute_result"
    }
   ],
   "source": [
    "df['gender'] = df['gender'].astype(float)\n",
    "df['education_level'] = df['education_level'].astype(float)\n",
    "df.dtypes"
   ]
  },
  {
   "cell_type": "markdown",
   "metadata": {},
   "source": [
    "# Building a model and choosing the best one"
   ]
  },
  {
   "cell_type": "code",
   "execution_count": 14,
   "metadata": {},
   "outputs": [],
   "source": [
    "from sklearn.model_selection import train_test_split\n",
    "from sklearn.preprocessing import StandardScaler\n",
    "from sklearn.svm import SVR\n",
    "from sklearn.ensemble import RandomForestRegressor, GradientBoostingRegressor\n",
    "from sklearn.metrics import  mean_squared_error, r2_score, confusion_matrix\n",
    "from scipy.stats import skew, kurtosis, iqr\n",
    "from sklearn.linear_model import LinearRegression\n",
    "from sklearn.impute import SimpleImputer\n",
    "from sklearn.neural_network import MLPRegressor"
   ]
  },
  {
   "cell_type": "code",
   "execution_count": 15,
   "metadata": {},
   "outputs": [],
   "source": [
    "X = df.drop(['salary', 'job_title'], axis=1)\n",
    "y = df['salary']\n",
    "\n",
    "X_train, X_test, y_train, y_test = train_test_split(X, y, test_size=0.2, random_state=42)\n",
    "\n",
    "scaler = StandardScaler()\n",
    "X_train = scaler.fit_transform(X_train)\n",
    "X_test = scaler.transform(X_test)\n",
    "y_train = scaler.fit_transform(y_train.values.reshape(-1, 1)).flatten()\n",
    "y_test = scaler.fit_transform(y_test.values.reshape(-1, 1)).flatten()"
   ]
  },
  {
   "cell_type": "code",
   "execution_count": 16,
   "metadata": {},
   "outputs": [
    {
     "data": {
      "text/html": [
       "<div>\n",
       "<style scoped>\n",
       "    .dataframe tbody tr th:only-of-type {\n",
       "        vertical-align: middle;\n",
       "    }\n",
       "\n",
       "    .dataframe tbody tr th {\n",
       "        vertical-align: top;\n",
       "    }\n",
       "\n",
       "    .dataframe thead th {\n",
       "        text-align: right;\n",
       "    }\n",
       "</style>\n",
       "<table border=\"1\" class=\"dataframe\">\n",
       "  <thead>\n",
       "    <tr style=\"text-align: right;\">\n",
       "      <th></th>\n",
       "      <th>Model</th>\n",
       "      <th>MSE</th>\n",
       "      <th>R^2</th>\n",
       "    </tr>\n",
       "  </thead>\n",
       "  <tbody>\n",
       "    <tr>\n",
       "      <th>0</th>\n",
       "      <td>Linear Regression</td>\n",
       "      <td>0.295313</td>\n",
       "      <td>0.704687</td>\n",
       "    </tr>\n",
       "    <tr>\n",
       "      <th>1</th>\n",
       "      <td>Random Forest</td>\n",
       "      <td>0.094947</td>\n",
       "      <td>0.905053</td>\n",
       "    </tr>\n",
       "    <tr>\n",
       "      <th>2</th>\n",
       "      <td>Gradient Boosting</td>\n",
       "      <td>0.154006</td>\n",
       "      <td>0.845994</td>\n",
       "    </tr>\n",
       "    <tr>\n",
       "      <th>3</th>\n",
       "      <td>Support Vector Regressor</td>\n",
       "      <td>0.187931</td>\n",
       "      <td>0.812069</td>\n",
       "    </tr>\n",
       "    <tr>\n",
       "      <th>4</th>\n",
       "      <td>Neural network</td>\n",
       "      <td>0.153885</td>\n",
       "      <td>0.846115</td>\n",
       "    </tr>\n",
       "  </tbody>\n",
       "</table>\n",
       "</div>"
      ],
      "text/plain": [
       "                      Model       MSE       R^2\n",
       "0         Linear Regression  0.295313  0.704687\n",
       "1             Random Forest  0.094947  0.905053\n",
       "2         Gradient Boosting  0.154006  0.845994\n",
       "3  Support Vector Regressor  0.187931  0.812069\n",
       "4            Neural network  0.153885  0.846115"
      ]
     },
     "execution_count": 16,
     "metadata": {},
     "output_type": "execute_result"
    }
   ],
   "source": [
    "models = {\n",
    "    'Linear Regression': LinearRegression(),\n",
    "    'Random Forest': RandomForestRegressor(random_state=42),\n",
    "    'Gradient Boosting': GradientBoostingRegressor(random_state=42),\n",
    "    'Support Vector Regressor': SVR(),\n",
    "    'Neural network': MLPRegressor(random_state=42, max_iter=1000)\n",
    "}\n",
    "\n",
    "results = []\n",
    "for name, model in models.items():\n",
    "    model.fit(X_train, y_train)\n",
    "    y_pred = model.predict(X_test)\n",
    "    mse = mean_squared_error(y_test, y_pred)\n",
    "    r2 = r2_score(y_test, y_pred)\n",
    "    results.append({'Model': name, 'MSE': mse, 'R^2': r2})\n",
    "\n",
    "df_results = pd.DataFrame(results)\n",
    "df_results"
   ]
  },
  {
   "cell_type": "code",
   "execution_count": 18,
   "metadata": {},
   "outputs": [
    {
     "data": {
      "image/png": "[encoded data removed]",
      "text/plain": [
       "<Figure size 1000x600 with 2 Axes>"
      ]
     },
     "metadata": {},
     "output_type": "display_data"
    }
   ],
   "source": [
    "# Создаем фигуру с двумя осями Y\n",
    "fig, ax1 = plt.subplots(figsize=(10, 6))\n",
    "ax2 = ax1.twinx()\n",
    "\n",
    "# Ширина столбцов\n",
    "width = 0.35\n",
    "\n",
    "# Позиции для столбцов\n",
    "x = np.arange(len(df_results))\n",
    "\n",
    "# Создаем столбцы для MSE и R^2\n",
    "rects1 = ax1.bar(x - width/2, df_results['MSE'], width, label='MSE', color='skyblue')\n",
    "rects2 = ax2.bar(x + width/2, df_results['R^2'], width, label='R^2', color='lightgreen')\n",
    "\n",
    "# Настройка осей и меток\n",
    "ax1.set_xlabel('Models')\n",
    "ax1.set_ylabel('Mean Squared Error (MSE)')\n",
    "ax2.set_ylabel('R^2 Score')\n",
    "\n",
    "ax1.set_xticks(x)\n",
    "ax1.set_xticklabels(df_results['Model'], rotation=45, ha='right')\n",
    "\n",
    "ax1.set_yscale('log')  # Логарифмическая шкала для MSE\n",
    "ax1.set_ylim(1e-3, 1)  # Устанавливаем пределы для MSE\n",
    "ax2.set_ylim(0.5, 1)   # Устанавливаем пределы для R^2\n",
    "\n",
    "# Добавляем значения на столбцы\n",
    "def autolabel(rects, ax):\n",
    "    for rect in rects:\n",
    "        height = rect.get_height()\n",
    "        ax.annotate(f'{height:.3f}',\n",
    "                    xy=(rect.get_x() + rect.get_width() / 2, height),\n",
    "                    xytext=(0, 3),  # 3 points vertical offset\n",
    "                    textcoords=\"offset points\",\n",
    "                    ha='center', va='bottom', rotation=90)\n",
    "\n",
    "autolabel(rects1, ax1)\n",
    "autolabel(rects2, ax2)\n",
    "\n",
    "# Добавляем легенду\n",
    "ax1.legend(loc='upper left')\n",
    "ax2.legend(loc='upper right')\n",
    "\n",
    "plt.title('Model Comparison: MSE and R^2 Scores')\n",
    "plt.tight_layout()\n",
    "plt.show()"
   ]
  },
  {
   "cell_type": "markdown",
   "metadata": {},
   "source": [
    "# Conclusion for the model without job title\n",
    "\n",
    "\n",
    "**Linear Regression**\n",
    "- MSE: 0.295313\n",
    "- R^2: 0.704687 \n",
    "- демонстрирует наихудшие результаты среди всех моделей, но все еще показывает приемлемую производительность.\n",
    "\n",
    "\n",
    "**Random Forest** \n",
    "- MSE: 0.094947\n",
    "- R^2: 0.905053\n",
    "- показывает наименьшее MSE (0.094947), что значительно лучше остальных моделей и имеет наивысший R^2 (0.905053), объясняя более 90% вариации в данных.\n",
    "\n",
    "**Gradient Boosting**\n",
    "- MSE: 0.154006\n",
    "- R^2: 0.845994\n",
    "- объясняют около 84.6% вариации.\n",
    "\n",
    "\n",
    "**Support Vector Regressor**\n",
    "- MSE: 0.187931\n",
    "- R^2: 0.812069\n",
    "\n",
    "**Neural Network**\n",
    "- MSE: 0.153885\n",
    "- R^2: 0.846115\n",
    "- объясняют около 84.6% вариации.\n",
    "\n",
    "\n",
    "Выводы:\n",
    "- Все модели имеют MSE меньше 0.3, что хорошо для стандартизированных данных.\n",
    "- Все модели имеют R^2 выше 0.7, что указывает на хорошую объяснительную способность.\n",
    "- Neural Network и Gradient Boosting показывают очень близкие результаты, объясняя около 84.6% вариации.\n"
   ]
  },
  {
   "cell_type": "markdown",
   "metadata": {},
   "source": [
    "### Model with job_title"
   ]
  },
  {
   "cell_type": "code",
   "execution_count": 19,
   "metadata": {},
   "outputs": [
    {
     "name": "stdout",
     "output_type": "stream",
     "text": [
      "(6702, 197)\n"
     ]
    },
    {
     "data": {
      "text/html": [
       "<div>\n",
       "<style scoped>\n",
       "    .dataframe tbody tr th:only-of-type {\n",
       "        vertical-align: middle;\n",
       "    }\n",
       "\n",
       "    .dataframe tbody tr th {\n",
       "        vertical-align: top;\n",
       "    }\n",
       "\n",
       "    .dataframe thead th {\n",
       "        text-align: right;\n",
       "    }\n",
       "</style>\n",
       "<table border=\"1\" class=\"dataframe\">\n",
       "  <thead>\n",
       "    <tr style=\"text-align: right;\">\n",
       "      <th></th>\n",
       "      <th>age</th>\n",
       "      <th>gender</th>\n",
       "      <th>education_level</th>\n",
       "      <th>experience</th>\n",
       "      <th>salary</th>\n",
       "      <th>job_title_Accountant</th>\n",
       "      <th>job_title_Administrative Assistant</th>\n",
       "      <th>job_title_Back end Developer</th>\n",
       "      <th>job_title_Business Analyst</th>\n",
       "      <th>job_title_Business Development Manager</th>\n",
       "      <th>...</th>\n",
       "      <th>job_title_Supply Chain Manager</th>\n",
       "      <th>job_title_Technical Recruiter</th>\n",
       "      <th>job_title_Technical Support Specialist</th>\n",
       "      <th>job_title_Technical Writer</th>\n",
       "      <th>job_title_Training Specialist</th>\n",
       "      <th>job_title_UX Designer</th>\n",
       "      <th>job_title_UX Researcher</th>\n",
       "      <th>job_title_VP of Finance</th>\n",
       "      <th>job_title_VP of Operations</th>\n",
       "      <th>job_title_Web Developer</th>\n",
       "    </tr>\n",
       "  </thead>\n",
       "  <tbody>\n",
       "    <tr>\n",
       "      <th>0</th>\n",
       "      <td>32.0</td>\n",
       "      <td>0.0</td>\n",
       "      <td>2.0</td>\n",
       "      <td>5.0</td>\n",
       "      <td>90000.0</td>\n",
       "      <td>False</td>\n",
       "      <td>False</td>\n",
       "      <td>False</td>\n",
       "      <td>False</td>\n",
       "      <td>False</td>\n",
       "      <td>...</td>\n",
       "      <td>False</td>\n",
       "      <td>False</td>\n",
       "      <td>False</td>\n",
       "      <td>False</td>\n",
       "      <td>False</td>\n",
       "      <td>False</td>\n",
       "      <td>False</td>\n",
       "      <td>False</td>\n",
       "      <td>False</td>\n",
       "      <td>False</td>\n",
       "    </tr>\n",
       "    <tr>\n",
       "      <th>1</th>\n",
       "      <td>28.0</td>\n",
       "      <td>1.0</td>\n",
       "      <td>3.0</td>\n",
       "      <td>3.0</td>\n",
       "      <td>65000.0</td>\n",
       "      <td>False</td>\n",
       "      <td>False</td>\n",
       "      <td>False</td>\n",
       "      <td>False</td>\n",
       "      <td>False</td>\n",
       "      <td>...</td>\n",
       "      <td>False</td>\n",
       "      <td>False</td>\n",
       "      <td>False</td>\n",
       "      <td>False</td>\n",
       "      <td>False</td>\n",
       "      <td>False</td>\n",
       "      <td>False</td>\n",
       "      <td>False</td>\n",
       "      <td>False</td>\n",
       "      <td>False</td>\n",
       "    </tr>\n",
       "    <tr>\n",
       "      <th>2</th>\n",
       "      <td>45.0</td>\n",
       "      <td>0.0</td>\n",
       "      <td>4.0</td>\n",
       "      <td>15.0</td>\n",
       "      <td>150000.0</td>\n",
       "      <td>False</td>\n",
       "      <td>False</td>\n",
       "      <td>False</td>\n",
       "      <td>False</td>\n",
       "      <td>False</td>\n",
       "      <td>...</td>\n",
       "      <td>False</td>\n",
       "      <td>False</td>\n",
       "      <td>False</td>\n",
       "      <td>False</td>\n",
       "      <td>False</td>\n",
       "      <td>False</td>\n",
       "      <td>False</td>\n",
       "      <td>False</td>\n",
       "      <td>False</td>\n",
       "      <td>False</td>\n",
       "    </tr>\n",
       "    <tr>\n",
       "      <th>3</th>\n",
       "      <td>36.0</td>\n",
       "      <td>1.0</td>\n",
       "      <td>2.0</td>\n",
       "      <td>7.0</td>\n",
       "      <td>60000.0</td>\n",
       "      <td>False</td>\n",
       "      <td>False</td>\n",
       "      <td>False</td>\n",
       "      <td>False</td>\n",
       "      <td>False</td>\n",
       "      <td>...</td>\n",
       "      <td>False</td>\n",
       "      <td>False</td>\n",
       "      <td>False</td>\n",
       "      <td>False</td>\n",
       "      <td>False</td>\n",
       "      <td>False</td>\n",
       "      <td>False</td>\n",
       "      <td>False</td>\n",
       "      <td>False</td>\n",
       "      <td>False</td>\n",
       "    </tr>\n",
       "    <tr>\n",
       "      <th>4</th>\n",
       "      <td>52.0</td>\n",
       "      <td>0.0</td>\n",
       "      <td>3.0</td>\n",
       "      <td>20.0</td>\n",
       "      <td>200000.0</td>\n",
       "      <td>False</td>\n",
       "      <td>False</td>\n",
       "      <td>False</td>\n",
       "      <td>False</td>\n",
       "      <td>False</td>\n",
       "      <td>...</td>\n",
       "      <td>False</td>\n",
       "      <td>False</td>\n",
       "      <td>False</td>\n",
       "      <td>False</td>\n",
       "      <td>False</td>\n",
       "      <td>False</td>\n",
       "      <td>False</td>\n",
       "      <td>False</td>\n",
       "      <td>False</td>\n",
       "      <td>False</td>\n",
       "    </tr>\n",
       "  </tbody>\n",
       "</table>\n",
       "<p>5 rows × 197 columns</p>\n",
       "</div>"
      ],
      "text/plain": [
       "    age  gender  education_level  experience    salary  job_title_Accountant  \\\n",
       "0  32.0     0.0              2.0         5.0   90000.0                 False   \n",
       "1  28.0     1.0              3.0         3.0   65000.0                 False   \n",
       "2  45.0     0.0              4.0        15.0  150000.0                 False   \n",
       "3  36.0     1.0              2.0         7.0   60000.0                 False   \n",
       "4  52.0     0.0              3.0        20.0  200000.0                 False   \n",
       "\n",
       "   job_title_Administrative Assistant  job_title_Back end Developer  \\\n",
       "0                               False                         False   \n",
       "1                               False                         False   \n",
       "2                               False                         False   \n",
       "3                               False                         False   \n",
       "4                               False                         False   \n",
       "\n",
       "   job_title_Business Analyst  job_title_Business Development Manager  ...  \\\n",
       "0                       False                                   False  ...   \n",
       "1                       False                                   False  ...   \n",
       "2                       False                                   False  ...   \n",
       "3                       False                                   False  ...   \n",
       "4                       False                                   False  ...   \n",
       "\n",
       "   job_title_Supply Chain Manager  job_title_Technical Recruiter  \\\n",
       "0                           False                          False   \n",
       "1                           False                          False   \n",
       "2                           False                          False   \n",
       "3                           False                          False   \n",
       "4                           False                          False   \n",
       "\n",
       "   job_title_Technical Support Specialist  job_title_Technical Writer  \\\n",
       "0                                   False                       False   \n",
       "1                                   False                       False   \n",
       "2                                   False                       False   \n",
       "3                                   False                       False   \n",
       "4                                   False                       False   \n",
       "\n",
       "   job_title_Training Specialist  job_title_UX Designer  \\\n",
       "0                          False                  False   \n",
       "1                          False                  False   \n",
       "2                          False                  False   \n",
       "3                          False                  False   \n",
       "4                          False                  False   \n",
       "\n",
       "   job_title_UX Researcher  job_title_VP of Finance  \\\n",
       "0                    False                    False   \n",
       "1                    False                    False   \n",
       "2                    False                    False   \n",
       "3                    False                    False   \n",
       "4                    False                    False   \n",
       "\n",
       "   job_title_VP of Operations  job_title_Web Developer  \n",
       "0                       False                    False  \n",
       "1                       False                    False  \n",
       "2                       False                    False  \n",
       "3                       False                    False  \n",
       "4                       False                    False  \n",
       "\n",
       "[5 rows x 197 columns]"
      ]
     },
     "execution_count": 19,
     "metadata": {},
     "output_type": "execute_result"
    }
   ],
   "source": [
    "df_job_title = pd.get_dummies(df, columns=['job_title'], drop_first=True)\n",
    "print(df_job_title.shape)\n",
    "df_job_title.head()"
   ]
  },
  {
   "cell_type": "code",
   "execution_count": 20,
   "metadata": {},
   "outputs": [],
   "source": [
    "X = df_job_title.drop('salary', axis=1)\n",
    "y = df_job_title['salary']\n",
    "\n",
    "X_train, X_test, y_train, y_test = train_test_split(X, y, test_size=0.2, random_state=42)\n",
    "\n",
    "scaler = StandardScaler()\n",
    "X_train = scaler.fit_transform(X_train)\n",
    "X_test = scaler.transform(X_test)\n",
    "y_train = scaler.fit_transform(y_train.values.reshape(-1, 1)).flatten()\n",
    "y_test = scaler.fit_transform(y_test.values.reshape(-1, 1)).flatten()"
   ]
  },
  {
   "cell_type": "code",
   "execution_count": 21,
   "metadata": {},
   "outputs": [
    {
     "name": "stdout",
     "output_type": "stream",
     "text": [
      "                      Model           MSE           R^2\n",
      "0         Linear Regression  1.645485e+23 -1.645485e+23\n",
      "1             Random Forest  2.497516e-02  9.750248e-01\n",
      "2         Gradient Boosting  9.596448e-02  9.040355e-01\n",
      "3  Support Vector Regressor  1.298386e-01  8.701614e-01\n",
      "4            Neural network  7.883991e-02  9.211601e-01\n"
     ]
    }
   ],
   "source": [
    "models = {\n",
    "    'Linear Regression': LinearRegression(),\n",
    "    'Random Forest': RandomForestRegressor(random_state=42),\n",
    "    'Gradient Boosting': GradientBoostingRegressor(random_state=42),\n",
    "    'Support Vector Regressor': SVR(),\n",
    "    'Neural network': MLPRegressor(random_state=42, max_iter=1000)\n",
    "}\n",
    "\n",
    "results = []\n",
    "for name, model in models.items():\n",
    "    model.fit(X_train, y_train)\n",
    "    y_pred = model.predict(X_test)\n",
    "    mse = mean_squared_error(y_test, y_pred)\n",
    "    r2 = r2_score(y_test, y_pred)\n",
    "    results.append({'Model': name, 'MSE': mse, 'R^2': r2})\n",
    "\n",
    "df_results = pd.DataFrame(results)\n",
    "print(df_results)"
   ]
  },
  {
   "cell_type": "code",
   "execution_count": 23,
   "metadata": {},
   "outputs": [
    {
     "data": {
      "image/png": "[encoded data removed]",
      "text/plain": [
       "<Figure size 1000x600 with 2 Axes>"
      ]
     },
     "metadata": {},
     "output_type": "display_data"
    }
   ],
   "source": [
    "# Исключаем линейную регрессию\n",
    "df_results = df_results[df_results['Model'] != 'Linear Regression']\n",
    "\n",
    "# Создаем фигуру с двумя осями Y\n",
    "fig, ax1 = plt.subplots(figsize=(10, 6))\n",
    "ax2 = ax1.twinx()\n",
    "\n",
    "# Ширина столбцов\n",
    "width = 0.35\n",
    "\n",
    "# Позиции для столбцов\n",
    "x = np.arange(len(df_results))\n",
    "\n",
    "# Создаем столбцы для MSE и R^2\n",
    "rects1 = ax1.bar(x - width/2, df_results['MSE'], width, label='MSE', color='skyblue')\n",
    "rects2 = ax2.bar(x + width/2, df_results['R^2'], width, label='R^2', color='lightgreen')\n",
    "\n",
    "# Настройка осей и меток\n",
    "ax1.set_xlabel('Models')\n",
    "ax1.set_ylabel('Mean Squared Error (MSE)')\n",
    "ax2.set_ylabel('R^2 Score')\n",
    "\n",
    "ax1.set_xticks(x)\n",
    "ax1.set_xticklabels(df_results['Model'], rotation=45, ha='right')\n",
    "\n",
    "ax1.set_yscale('log')  # Логарифмическая шкала для MSE\n",
    "ax1.set_ylim(1e-3, 1)  # Устанавливаем пределы для MSE\n",
    "ax2.set_ylim(0.8, 1)   # Устанавливаем пределы для R^2\n",
    "\n",
    "# Добавляем значения на столбцы\n",
    "def autolabel(rects, ax):\n",
    "    for rect in rects:\n",
    "        height = rect.get_height()\n",
    "        ax.annotate(f'{height:.3f}',\n",
    "                    xy=(rect.get_x() + rect.get_width() / 2, height),\n",
    "                    xytext=(0, 3),  # 3 points vertical offset\n",
    "                    textcoords=\"offset points\",\n",
    "                    ha='center', va='bottom', rotation=90)\n",
    "\n",
    "autolabel(rects1, ax1)\n",
    "autolabel(rects2, ax2)\n",
    "\n",
    "# Добавляем легенду\n",
    "ax1.legend(loc='upper left')\n",
    "ax2.legend(loc='upper right')\n",
    "\n",
    "plt.title('Model Comparison: MSE and R^2 Scores')\n",
    "plt.tight_layout()\n",
    "plt.show()\n",
    "\n"
   ]
  },
  {
   "cell_type": "markdown",
   "metadata": {},
   "source": [
    "# Conclusion for the model with job title\n",
    "\n",
    "**Linear Regression:**\n",
    "- MSE: 1.645485e+23\n",
    "- R^2: -1.645485e+23 \n",
    "- Показывает экстремально плохие результаты. Огромное положительное значение MSE(1.645485e+23)и огромное отрицательное значение R^2(-1.645485e+23) указывают на серьезные проблемы с моделью. Возможно, есть проблемы с мультиколлинеарностью, или данные имеют сильно нелинейную природу.\n",
    "\n",
    "**Random Forest:**\n",
    "- MSE: 2.497516e-02\n",
    "- R^2: 9.750248e-01\n",
    "- Демонстрирует исключительно высокую производительность с очень низким MSE(2.497516e-02) и R^2(9.750248e-01), близким к 1.\n",
    "Объясняет более 97% вариации в данных.\n",
    "\n",
    "\n",
    "**Gradient Boosting:**\n",
    "- MSE: 9.596448e-02\n",
    "- R^2: 9.040355e-01\n",
    "- Демонстрирует хорошие результаты, немного уступая Neural Network.\n",
    "R^2 выше 0.9 также указывает на высокую точность модели.\n",
    "\n",
    "\n",
    "**Support Vector Regressor:**\n",
    "- MSE: 1.298386e-01\n",
    "- R^2: 8.701614e-01\n",
    "Показывает хорошие результаты, но уступает другим нелинейным моделям.\n",
    "Тем не менее, R^2 близок к 0.87, что все еще является хорошим показателем.\n",
    "\n",
    "\n",
    "**Neural Network:**\n",
    "- MSE: 7.883991e-02 \n",
    "- R^2: 9.211601e-01\n",
    "- Показывает второй лучший результат после Random Forest.\n",
    "Высокий R^2 (0.9211601) указывает на очень хорошую объяснительную способность.\n",
    "\n",
    "\n",
    "Выводы:\n",
    "- Random Forest является явным лидером среди всех моделей, значительно превосходя остальные по точности предсказаний.\n",
    "- Neural Network и Gradient Boosting также показывают отличные результаты, хотя и уступают Random Forest.\n",
    "- Linear Regression полностью не подходит для этих данных. Необходимо исследовать причины такой плохой производительности.\n",
    "- Все нелинейные модели (Random Forest, Neural Network, Gradient Boosting, SVR) показывают очень хорошие результаты, что указывает на нелинейную природу зависимостей в данных.\n"
   ]
  },
  {
   "cell_type": "markdown",
   "metadata": {},
   "source": [
    "# Comparison of the best performance of models\n",
    "\n",
    "### Model with job title:\n",
    "**Random Forest:**\n",
    "- MSE: 2.497516e-02\n",
    "- R^2: 9.750248e-01\n",
    "\n",
    "### Model without job title:\n",
    "**Random Forest** \n",
    "- MSE: 0.094947\n",
    "- R^2: 0.905053"
   ]
  },
  {
   "cell_type": "code",
   "execution_count": 24,
   "metadata": {},
   "outputs": [
    {
     "data": {
      "image/png": "[encoded data removed]",
      "text/plain": [
       "<Figure size 1000x600 with 2 Axes>"
      ]
     },
     "metadata": {},
     "output_type": "display_data"
    }
   ],
   "source": [
    "import matplotlib.pyplot as plt\n",
    "import numpy as np\n",
    "\n",
    "# Данные\n",
    "models = ['With Job Title\\n(Random Forest)', 'Without Job Title\\n(Random Forest)']\n",
    "mse = [2.497516e-02, 0.094947]\n",
    "r2 = [9.750248e-01, 0.905053]\n",
    "\n",
    "# Создаем фигуру с двумя осями Y\n",
    "fig, ax1 = plt.subplots(figsize=(10, 6))\n",
    "ax2 = ax1.twinx()\n",
    "\n",
    "# Ширина столбцов\n",
    "width = 0.35\n",
    "\n",
    "# Позиции для столбцов\n",
    "x = np.arange(len(models))\n",
    "\n",
    "# Создаем столбцы для MSE и R^2\n",
    "rects1 = ax1.bar(x - width/2, mse, width, label='MSE', color='skyblue')\n",
    "rects2 = ax2.bar(x + width/2, r2, width, label='R^2', color='lightgreen')\n",
    "\n",
    "# Настройка осей и меток\n",
    "ax1.set_xlabel('Models')\n",
    "ax1.set_ylabel('Mean Squared Error (MSE)')\n",
    "ax2.set_ylabel('R^2 Score')\n",
    "\n",
    "ax1.set_xticks(x)\n",
    "ax1.set_xticklabels(models)\n",
    "\n",
    "ax1.set_ylim(0, max(mse) * 1.2)  # Устанавливаем пределы для MSE\n",
    "ax2.set_ylim(0, 1)  # Устанавливаем пределы для R^2\n",
    "\n",
    "# Добавляем значения на столбцы\n",
    "def autolabel(rects, ax, fmt='{:.6f}'):\n",
    "    for rect in rects:\n",
    "        height = rect.get_height()\n",
    "        ax.annotate(fmt.format(height),\n",
    "                    xy=(rect.get_x() + rect.get_width() / 2, height),\n",
    "                    xytext=(0, 3),  # 3 points vertical offset\n",
    "                    textcoords=\"offset points\",\n",
    "                    ha='center', va='bottom')\n",
    "\n",
    "autolabel(rects1, ax1)\n",
    "autolabel(rects2, ax2, fmt='{:.6f}')\n",
    "\n",
    "# Добавляем легенду\n",
    "ax1.legend(loc='upper left')\n",
    "ax2.legend(loc='upper right')\n",
    "\n",
    "plt.title('Comparison of Best Performing Models')\n",
    "plt.tight_layout()\n",
    "plt.show()"
   ]
  },
  {
   "cell_type": "markdown",
   "metadata": {},
   "source": [
    "**Модель Random Forest с учетом job title** демонстрирует лучшую производительность по обеим метрикам:\n",
    "- MSE примерно в 3.8 раза меньше (что означает меньшую ошибку предсказания)\n",
    "- R^2 выше на 0.07 (что означает, что модель объясняет на 7% больше вариации в данных)\n",
    "\n",
    "Это говорит о том, что включение информации о должности (job title) в модель значительно улучшает ее предсказательную способность."
   ]
  }
 ],
 "metadata": {
  "kernelspec": {
   "display_name": "base",
   "language": "python",
   "name": "python3"
  },
  "language_info": {
   "codemirror_mode": {
    "name": "ipython",
    "version": 3
   },
   "file_extension": ".py",
   "mimetype": "text/x-python",
   "name": "python",
   "nbconvert_exporter": "python",
   "pygments_lexer": "ipython3",
   "version": "3.11.9"
  }
 },
 "nbformat": 4,
 "nbformat_minor": 2
}
