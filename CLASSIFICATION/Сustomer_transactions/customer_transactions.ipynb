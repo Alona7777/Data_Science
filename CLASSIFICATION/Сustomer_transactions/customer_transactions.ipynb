{
 "cells": [
  {
   "cell_type": "code",
   "execution_count": 1,
   "metadata": {},
   "outputs": [],
   "source": [
    "import pandas as pd\n",
    "import numpy as np\n",
    "import seaborn as sns\n",
    "import matplotlib.pyplot as plt"
   ]
  },
  {
   "cell_type": "markdown",
   "metadata": {},
   "source": [
    "# Data analysis and preparation\n",
    "------"
   ]
  },
  {
   "cell_type": "code",
   "execution_count": 3,
   "metadata": {},
   "outputs": [
    {
     "name": "stdout",
     "output_type": "stream",
     "text": [
      "project1_df.csv\n"
     ]
    }
   ],
   "source": [
    "from zipfile import ZipFile\n",
    "\n",
    "zip_file_path = \"/Users/ALONA/Desktop/Go_IT/HW/Data Science/Data_Science/CLASSIFICATION/Сustomer_transactions/archive.zip\"\n",
    "with ZipFile(zip_file_path, \"r\") as z:\n",
    "    for file_info in z.infolist():\n",
    "        print(file_info.filename)"
   ]
  },
  {
   "cell_type": "code",
   "execution_count": 5,
   "metadata": {},
   "outputs": [
    {
     "name": "stdout",
     "output_type": "stream",
     "text": [
      "<class 'pandas.core.frame.DataFrame'>\n",
      "RangeIndex: 55000 entries, 0 to 54999\n",
      "Data columns (total 13 columns):\n",
      " #   Column                 Non-Null Count  Dtype  \n",
      "---  ------                 --------------  -----  \n",
      " 0   CID                    55000 non-null  int64  \n",
      " 1   TID                    55000 non-null  int64  \n",
      " 2   Gender                 55000 non-null  object \n",
      " 3   Age Group              55000 non-null  object \n",
      " 4   Purchase Date          55000 non-null  object \n",
      " 5   Product Category       55000 non-null  object \n",
      " 6   Discount Availed       55000 non-null  object \n",
      " 7   Discount Name          27415 non-null  object \n",
      " 8   Discount Amount (INR)  55000 non-null  float64\n",
      " 9   Gross Amount           55000 non-null  float64\n",
      " 10  Net Amount             55000 non-null  float64\n",
      " 11  Purchase Method        55000 non-null  object \n",
      " 12  Location               55000 non-null  object \n",
      "dtypes: float64(3), int64(2), object(8)\n",
      "memory usage: 5.5+ MB\n",
      "None\n"
     ]
    },
    {
     "data": {
      "text/html": [
       "<div>\n",
       "<style scoped>\n",
       "    .dataframe tbody tr th:only-of-type {\n",
       "        vertical-align: middle;\n",
       "    }\n",
       "\n",
       "    .dataframe tbody tr th {\n",
       "        vertical-align: top;\n",
       "    }\n",
       "\n",
       "    .dataframe thead th {\n",
       "        text-align: right;\n",
       "    }\n",
       "</style>\n",
       "<table border=\"1\" class=\"dataframe\">\n",
       "  <thead>\n",
       "    <tr style=\"text-align: right;\">\n",
       "      <th></th>\n",
       "      <th>CID</th>\n",
       "      <th>TID</th>\n",
       "      <th>Gender</th>\n",
       "      <th>Age Group</th>\n",
       "      <th>Purchase Date</th>\n",
       "      <th>Product Category</th>\n",
       "      <th>Discount Availed</th>\n",
       "      <th>Discount Name</th>\n",
       "      <th>Discount Amount (INR)</th>\n",
       "      <th>Gross Amount</th>\n",
       "      <th>Net Amount</th>\n",
       "      <th>Purchase Method</th>\n",
       "      <th>Location</th>\n",
       "    </tr>\n",
       "  </thead>\n",
       "  <tbody>\n",
       "    <tr>\n",
       "      <th>0</th>\n",
       "      <td>943146</td>\n",
       "      <td>5876328741</td>\n",
       "      <td>Female</td>\n",
       "      <td>25-45</td>\n",
       "      <td>30/08/2023 20:27:08</td>\n",
       "      <td>Electronics</td>\n",
       "      <td>Yes</td>\n",
       "      <td>FESTIVE50</td>\n",
       "      <td>64.30</td>\n",
       "      <td>725.304000</td>\n",
       "      <td>661.004000</td>\n",
       "      <td>Credit Card</td>\n",
       "      <td>Ahmedabad</td>\n",
       "    </tr>\n",
       "    <tr>\n",
       "      <th>1</th>\n",
       "      <td>180079</td>\n",
       "      <td>1018503182</td>\n",
       "      <td>Male</td>\n",
       "      <td>25-45</td>\n",
       "      <td>23/02/2024 09:33:46</td>\n",
       "      <td>Electronics</td>\n",
       "      <td>Yes</td>\n",
       "      <td>SEASONALOFFER21</td>\n",
       "      <td>175.19</td>\n",
       "      <td>4638.991875</td>\n",
       "      <td>4463.801875</td>\n",
       "      <td>Credit Card</td>\n",
       "      <td>Bangalore</td>\n",
       "    </tr>\n",
       "    <tr>\n",
       "      <th>2</th>\n",
       "      <td>337580</td>\n",
       "      <td>3814082218</td>\n",
       "      <td>Other</td>\n",
       "      <td>60 and above</td>\n",
       "      <td>06/03/2022 09:09:50</td>\n",
       "      <td>Clothing</td>\n",
       "      <td>Yes</td>\n",
       "      <td>SEASONALOFFER21</td>\n",
       "      <td>211.54</td>\n",
       "      <td>1986.372575</td>\n",
       "      <td>1774.832575</td>\n",
       "      <td>Credit Card</td>\n",
       "      <td>Delhi</td>\n",
       "    </tr>\n",
       "    <tr>\n",
       "      <th>3</th>\n",
       "      <td>180333</td>\n",
       "      <td>1395204173</td>\n",
       "      <td>Other</td>\n",
       "      <td>60 and above</td>\n",
       "      <td>04/11/2020 04:41:57</td>\n",
       "      <td>Sports &amp; Fitness</td>\n",
       "      <td>No</td>\n",
       "      <td>NaN</td>\n",
       "      <td>0.00</td>\n",
       "      <td>5695.612650</td>\n",
       "      <td>5695.612650</td>\n",
       "      <td>Debit Card</td>\n",
       "      <td>Delhi</td>\n",
       "    </tr>\n",
       "    <tr>\n",
       "      <th>4</th>\n",
       "      <td>447553</td>\n",
       "      <td>8009390577</td>\n",
       "      <td>Male</td>\n",
       "      <td>18-25</td>\n",
       "      <td>31/05/2022 17:00:32</td>\n",
       "      <td>Sports &amp; Fitness</td>\n",
       "      <td>Yes</td>\n",
       "      <td>WELCOME5</td>\n",
       "      <td>439.92</td>\n",
       "      <td>2292.651500</td>\n",
       "      <td>1852.731500</td>\n",
       "      <td>Credit Card</td>\n",
       "      <td>Delhi</td>\n",
       "    </tr>\n",
       "  </tbody>\n",
       "</table>\n",
       "</div>"
      ],
      "text/plain": [
       "      CID         TID  Gender     Age Group        Purchase Date  \\\n",
       "0  943146  5876328741  Female         25-45  30/08/2023 20:27:08   \n",
       "1  180079  1018503182    Male         25-45  23/02/2024 09:33:46   \n",
       "2  337580  3814082218   Other  60 and above  06/03/2022 09:09:50   \n",
       "3  180333  1395204173   Other  60 and above  04/11/2020 04:41:57   \n",
       "4  447553  8009390577    Male         18-25  31/05/2022 17:00:32   \n",
       "\n",
       "   Product Category Discount Availed    Discount Name  Discount Amount (INR)  \\\n",
       "0       Electronics              Yes        FESTIVE50                  64.30   \n",
       "1       Electronics              Yes  SEASONALOFFER21                 175.19   \n",
       "2          Clothing              Yes  SEASONALOFFER21                 211.54   \n",
       "3  Sports & Fitness               No              NaN                   0.00   \n",
       "4  Sports & Fitness              Yes         WELCOME5                 439.92   \n",
       "\n",
       "   Gross Amount   Net Amount Purchase Method   Location  \n",
       "0    725.304000   661.004000     Credit Card  Ahmedabad  \n",
       "1   4638.991875  4463.801875     Credit Card  Bangalore  \n",
       "2   1986.372575  1774.832575     Credit Card      Delhi  \n",
       "3   5695.612650  5695.612650      Debit Card      Delhi  \n",
       "4   2292.651500  1852.731500     Credit Card      Delhi  "
      ]
     },
     "execution_count": 5,
     "metadata": {},
     "output_type": "execute_result"
    }
   ],
   "source": [
    "csv_file_name = \"project1_df.csv\"\n",
    "\n",
    "with ZipFile(zip_file_path, \"r\") as z:\n",
    "    with z.open(csv_file_name) as f:\n",
    "        df = pd.read_csv(f)\n",
    "\n",
    "print(df.info())\n",
    "\n",
    "df.head()"
   ]
  },
  {
   "cell_type": "markdown",
   "metadata": {},
   "source": [
    "### Work with duplicates\n",
    "-------------------------"
   ]
  },
  {
   "cell_type": "code",
   "execution_count": 8,
   "metadata": {},
   "outputs": [
    {
     "name": "stdout",
     "output_type": "stream",
     "text": [
      "Are there duplicates in the DataFrame: False\n",
      "Number of duplicates: 0\n"
     ]
    }
   ],
   "source": [
    "duplicates_exist = df.duplicated().any()\n",
    "print(f\"Are there duplicates in the DataFrame: {duplicates_exist}\")\n",
    "\n",
    "num_duplicates = df.duplicated().sum()\n",
    "print(f\"Number of duplicates: {num_duplicates}\")"
   ]
  },
  {
   "cell_type": "markdown",
   "metadata": {},
   "source": [
    "### Work with NaN\n",
    "-----------------"
   ]
  },
  {
   "cell_type": "code",
   "execution_count": 9,
   "metadata": {},
   "outputs": [
    {
     "data": {
      "text/plain": [
       "CID                          0\n",
       "TID                          0\n",
       "Gender                       0\n",
       "Age Group                    0\n",
       "Purchase Date                0\n",
       "Product Category             0\n",
       "Discount Availed             0\n",
       "Discount Name            27585\n",
       "Discount Amount (INR)        0\n",
       "Gross Amount                 0\n",
       "Net Amount                   0\n",
       "Purchase Method              0\n",
       "Location                     0\n",
       "dtype: int64"
      ]
     },
     "execution_count": 9,
     "metadata": {},
     "output_type": "execute_result"
    }
   ],
   "source": [
    "df.isnull().sum()"
   ]
  },
  {
   "cell_type": "code",
   "execution_count": 10,
   "metadata": {},
   "outputs": [],
   "source": [
    "df['Discount Name'] = df['Discount Name'].fillna('Unknown')"
   ]
  },
  {
   "cell_type": "markdown",
   "metadata": {},
   "source": [
    "### Determining class imbalance\n",
    "--------------------------------"
   ]
  },
  {
   "cell_type": "code",
   "execution_count": null,
   "metadata": {},
   "outputs": [],
   "source": [
    "from scipy.stats import entropy\n",
    "\n",
    "def create_imbalance_pie_chart(df):\n",
    "    df_columns = df.select_dtypes(include=['object', 'category']).columns\n",
    "    n_cols = len(df_columns)\n",
    "\n",
    "    if n_cols == 0:\n",
    "        print(\"No categorical columns found in the DataFrame.\")\n",
    "        return\n",
    "    \n",
    "    n_rows = (n_cols + 1) // 2  # calculate number of rows needed\n",
    "\n",
    "    fig, axs = plt.subplots(n_rows, 2, figsize=(12, 5*n_rows))\n",
    "    axs = axs.flatten() # flatten the 2D array of axes\n",
    "\n",
    "    for i, column in enumerate(df_columns):\n",
    "        class_counts = df[column].value_counts().sort_values(ascending=False)\n",
    "\n",
    "        # calculate the imbalance ratio\n",
    "        imbalance_ratio = class_counts.iloc[0] / class_counts.iloc[-1]\n",
    "\n",
    "        axs[i].pie(class_counts.values, labels=class_counts.index, autopct='%1.1f%%', startangle=90)\n",
    "        axs[i].set_title(f\"{column}\\nImbalance ratio: {imbalance_ratio:.2f}\")\n",
    "\n",
    "    # remove any unused subplots\n",
    "    for i in range(n_cols, len(axs)):\n",
    "        fig.delaxes(axs[i])\n",
    "\n",
    "    plt.tight_layout()\n",
    "    plt.show()\n",
    "\n",
    "\n",
    "def analyze_imbalance(df, column):\n",
    "    print(\"Analysis for column: {column}\")\n",
    "\n",
    "    value_count = df[column].value_counts()\n",
    "    total_count = len(df[column])\n",
    "\n",
    "    print()"
   ]
  },
  {
   "cell_type": "code",
   "execution_count": 14,
   "metadata": {},
   "outputs": [
    {
     "name": "stdout",
     "output_type": "stream",
     "text": [
      "Gender ->count unique: 3\n",
      "['Female' 'Male' 'Other']\n",
      "Age Group ->count unique: 5\n",
      "['25-45' '60 and above' '18-25' '45-60' 'under 18']\n",
      "Purchase Date ->count unique: 54988\n",
      "['30/08/2023 20:27:08' '23/02/2024 09:33:46' '06/03/2022 09:09:50' ...\n",
      " '02/08/2024 09:30:44' '05/08/2020 23:57:56' '21/07/2022 09:05:18']\n",
      "Product Category ->count unique: 9\n",
      "['Electronics' 'Clothing' 'Sports & Fitness' 'Pet Care' 'Home & Kitchen'\n",
      " 'Books' 'Beauty and Health' 'Other' 'Toys & Games']\n",
      "Discount Availed ->count unique: 2\n",
      "['Yes' 'No']\n",
      "Discount Name ->count unique: 6\n",
      "['FESTIVE50' 'SEASONALOFFER21' 'Unknown' 'WELCOME5' 'SAVE10' 'NEWYEARS']\n",
      "Purchase Method ->count unique: 8\n",
      "['Credit Card' 'Debit Card' 'PhonePe UPI' 'Google Pay UPI' 'Net Banking'\n",
      " 'Cash on Delivery' 'Paytm UPI' 'International Card']\n",
      "Location ->count unique: 14\n",
      "['Ahmedabad' 'Bangalore' 'Delhi' 'Other' 'Chennai' 'Dehradun' 'Pune'\n",
      " 'Hyderabad' 'Mumbai' 'Jaipur' 'Lucknow' 'Kolkata' 'Srinagar' 'Varanasi']\n"
     ]
    }
   ],
   "source": [
    "cat_columns = ['Gender', 'Age Group', 'Purchase Date',\n",
    "               'Product Category', 'Discount Availed',\n",
    "               'Discount Name', 'Purchase Method', 'Location'\n",
    "               ]\n",
    "\n",
    "for col in cat_columns:\n",
    "    print(f\"{col} ->count unique: {len(df[col].unique())}\\n{df[col].unique()}\")\n"
   ]
  }
 ],
 "metadata": {
  "kernelspec": {
   "display_name": "base",
   "language": "python",
   "name": "python3"
  },
  "language_info": {
   "codemirror_mode": {
    "name": "ipython",
    "version": 3
   },
   "file_extension": ".py",
   "mimetype": "text/x-python",
   "name": "python",
   "nbconvert_exporter": "python",
   "pygments_lexer": "ipython3",
   "version": "3.11.9"
  }
 },
 "nbformat": 4,
 "nbformat_minor": 2
}
